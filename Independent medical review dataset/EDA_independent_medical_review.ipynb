{
 "cells": [
  {
   "cell_type": "code",
   "execution_count": 1,
   "metadata": {},
   "outputs": [],
   "source": [
    "import pandas as pd\n",
    "import numpy as np\n",
    "import matplotlib.pyplot as plt\n",
    "import re"
   ]
  },
  {
   "cell_type": "markdown",
   "metadata": {},
   "source": [
    "# Load csv file and display head"
   ]
  },
  {
   "cell_type": "code",
   "execution_count": 2,
   "metadata": {},
   "outputs": [],
   "source": [
    "df = pd.read_csv('Independent_Medical_Review__IMR__Determinations__Trend.csv')"
   ]
  },
  {
   "cell_type": "code",
   "execution_count": 3,
   "metadata": {},
   "outputs": [
    {
     "data": {
      "text/html": [
       "<div>\n",
       "<style scoped>\n",
       "    .dataframe tbody tr th:only-of-type {\n",
       "        vertical-align: middle;\n",
       "    }\n",
       "\n",
       "    .dataframe tbody tr th {\n",
       "        vertical-align: top;\n",
       "    }\n",
       "\n",
       "    .dataframe thead th {\n",
       "        text-align: right;\n",
       "    }\n",
       "</style>\n",
       "<table border=\"1\" class=\"dataframe\">\n",
       "  <thead>\n",
       "    <tr style=\"text-align: right;\">\n",
       "      <th></th>\n",
       "      <th>Reference ID</th>\n",
       "      <th>Report Year</th>\n",
       "      <th>Diagnosis Category</th>\n",
       "      <th>Diagnosis Sub Category</th>\n",
       "      <th>Treatment Category</th>\n",
       "      <th>Treatment Sub Category</th>\n",
       "      <th>Determination</th>\n",
       "      <th>Type</th>\n",
       "      <th>Age Range</th>\n",
       "      <th>Patient Gender</th>\n",
       "      <th>Findings</th>\n",
       "    </tr>\n",
       "  </thead>\n",
       "  <tbody>\n",
       "    <tr>\n",
       "      <th>0</th>\n",
       "      <td>MN16-22639</td>\n",
       "      <td>2016</td>\n",
       "      <td>Infectious</td>\n",
       "      <td>Hepatitis</td>\n",
       "      <td>Pharmacy/Prescription Drugs</td>\n",
       "      <td>Anti-virals</td>\n",
       "      <td>Overturned Decision of Health Plan</td>\n",
       "      <td>Medical Necessity</td>\n",
       "      <td>41-50</td>\n",
       "      <td>Male</td>\n",
       "      <td>Nature of Statutory Criteria/Case Summary: An ...</td>\n",
       "    </tr>\n",
       "    <tr>\n",
       "      <th>1</th>\n",
       "      <td>MN16-22638</td>\n",
       "      <td>2016</td>\n",
       "      <td>Mental</td>\n",
       "      <td>Eating Disorder</td>\n",
       "      <td>Mental Health Treatment</td>\n",
       "      <td>Residential Treatment Center - Admission</td>\n",
       "      <td>Upheld Decision of Health Plan</td>\n",
       "      <td>Medical Necessity</td>\n",
       "      <td>21-30</td>\n",
       "      <td>Female</td>\n",
       "      <td>Nature of Statutory Criteria/Case Summary:  An...</td>\n",
       "    </tr>\n",
       "    <tr>\n",
       "      <th>2</th>\n",
       "      <td>MN16-22637</td>\n",
       "      <td>2016</td>\n",
       "      <td>Autism Spectrum</td>\n",
       "      <td>Autism-PDD-NOS</td>\n",
       "      <td>Autism Related Treatment</td>\n",
       "      <td>Speech Therapy</td>\n",
       "      <td>Upheld Decision of Health Plan</td>\n",
       "      <td>Medical Necessity</td>\n",
       "      <td>0-10</td>\n",
       "      <td>Female</td>\n",
       "      <td>Nature of Statutory Criteria/Case Summary:  Th...</td>\n",
       "    </tr>\n",
       "    <tr>\n",
       "      <th>3</th>\n",
       "      <td>EI16-22636</td>\n",
       "      <td>2016</td>\n",
       "      <td>Prevention/Good Health</td>\n",
       "      <td>NaN</td>\n",
       "      <td>Diagnostic Imaging, Screening and Testing</td>\n",
       "      <td>Mammography</td>\n",
       "      <td>Overturned Decision of Health Plan</td>\n",
       "      <td>Experimental/Investigational</td>\n",
       "      <td>65+</td>\n",
       "      <td>Female</td>\n",
       "      <td>Nature of Statutory Criteria/Case Summary: An ...</td>\n",
       "    </tr>\n",
       "    <tr>\n",
       "      <th>4</th>\n",
       "      <td>EI06-5319</td>\n",
       "      <td>2006</td>\n",
       "      <td>Cardiac/Circulatory</td>\n",
       "      <td>NaN</td>\n",
       "      <td>Cardio Vascular</td>\n",
       "      <td>NaN</td>\n",
       "      <td>Upheld Decision of Health Plan</td>\n",
       "      <td>Experimental/Investigational</td>\n",
       "      <td>51-64</td>\n",
       "      <td>Male</td>\n",
       "      <td>Physician 1: The patient is a 62-year-old male...</td>\n",
       "    </tr>\n",
       "  </tbody>\n",
       "</table>\n",
       "</div>"
      ],
      "text/plain": [
       "  Reference ID  Report Year      Diagnosis Category Diagnosis Sub Category  \\\n",
       "0   MN16-22639         2016              Infectious              Hepatitis   \n",
       "1   MN16-22638         2016                  Mental        Eating Disorder   \n",
       "2   MN16-22637         2016         Autism Spectrum         Autism-PDD-NOS   \n",
       "3   EI16-22636         2016  Prevention/Good Health                    NaN   \n",
       "4    EI06-5319         2006     Cardiac/Circulatory                    NaN   \n",
       "\n",
       "                          Treatment Category  \\\n",
       "0                Pharmacy/Prescription Drugs   \n",
       "1                    Mental Health Treatment   \n",
       "2                   Autism Related Treatment   \n",
       "3  Diagnostic Imaging, Screening and Testing   \n",
       "4                            Cardio Vascular   \n",
       "\n",
       "                     Treatment Sub Category  \\\n",
       "0                               Anti-virals   \n",
       "1  Residential Treatment Center - Admission   \n",
       "2                            Speech Therapy   \n",
       "3                               Mammography   \n",
       "4                                       NaN   \n",
       "\n",
       "                        Determination                          Type Age Range  \\\n",
       "0  Overturned Decision of Health Plan             Medical Necessity     41-50   \n",
       "1      Upheld Decision of Health Plan             Medical Necessity     21-30   \n",
       "2      Upheld Decision of Health Plan             Medical Necessity      0-10   \n",
       "3  Overturned Decision of Health Plan  Experimental/Investigational       65+   \n",
       "4      Upheld Decision of Health Plan  Experimental/Investigational     51-64   \n",
       "\n",
       "  Patient Gender                                           Findings  \n",
       "0           Male  Nature of Statutory Criteria/Case Summary: An ...  \n",
       "1         Female  Nature of Statutory Criteria/Case Summary:  An...  \n",
       "2         Female  Nature of Statutory Criteria/Case Summary:  Th...  \n",
       "3         Female  Nature of Statutory Criteria/Case Summary: An ...  \n",
       "4           Male  Physician 1: The patient is a 62-year-old male...  "
      ]
     },
     "execution_count": 3,
     "metadata": {},
     "output_type": "execute_result"
    }
   ],
   "source": [
    "df.head()"
   ]
  },
  {
   "cell_type": "code",
   "execution_count": 4,
   "metadata": {},
   "outputs": [
    {
     "data": {
      "text/html": [
       "<div>\n",
       "<style scoped>\n",
       "    .dataframe tbody tr th:only-of-type {\n",
       "        vertical-align: middle;\n",
       "    }\n",
       "\n",
       "    .dataframe tbody tr th {\n",
       "        vertical-align: top;\n",
       "    }\n",
       "\n",
       "    .dataframe thead th {\n",
       "        text-align: right;\n",
       "    }\n",
       "</style>\n",
       "<table border=\"1\" class=\"dataframe\">\n",
       "  <thead>\n",
       "    <tr style=\"text-align: right;\">\n",
       "      <th></th>\n",
       "      <th>Reference ID</th>\n",
       "      <th>Report Year</th>\n",
       "      <th>Diagnosis Category</th>\n",
       "      <th>Diagnosis Sub Category</th>\n",
       "      <th>Treatment Category</th>\n",
       "      <th>Treatment Sub Category</th>\n",
       "      <th>Determination</th>\n",
       "      <th>Type</th>\n",
       "      <th>Age Range</th>\n",
       "      <th>Patient Gender</th>\n",
       "      <th>Findings</th>\n",
       "    </tr>\n",
       "  </thead>\n",
       "  <tbody>\n",
       "    <tr>\n",
       "      <th>17677</th>\n",
       "      <td>MN03-2932</td>\n",
       "      <td>2003</td>\n",
       "      <td>Genitourinary/ Kidney</td>\n",
       "      <td>Incontinence</td>\n",
       "      <td>General Surgery</td>\n",
       "      <td>Gastric Bypass</td>\n",
       "      <td>Overturned Decision of Health Plan</td>\n",
       "      <td>Medical Necessity</td>\n",
       "      <td>31-40</td>\n",
       "      <td>Female</td>\n",
       "      <td>A 32-year-old female enrollee requested author...</td>\n",
       "    </tr>\n",
       "    <tr>\n",
       "      <th>10431</th>\n",
       "      <td>MN10-10522</td>\n",
       "      <td>2010</td>\n",
       "      <td>Central Nervous System/ Neuromuscular</td>\n",
       "      <td>Other</td>\n",
       "      <td>Diagnostic Imaging, Screening and Testing</td>\n",
       "      <td>MRI</td>\n",
       "      <td>Overturned Decision of Health Plan</td>\n",
       "      <td>Medical Necessity</td>\n",
       "      <td>31-40</td>\n",
       "      <td>Male</td>\n",
       "      <td>A 35-year-old male enrollee has requested for ...</td>\n",
       "    </tr>\n",
       "    <tr>\n",
       "      <th>5248</th>\n",
       "      <td>EI13-15598</td>\n",
       "      <td>2013</td>\n",
       "      <td>Orthopedic/ Musculoskeletal</td>\n",
       "      <td>Osteoarthritis</td>\n",
       "      <td>Pharmacy/Prescription Drugs</td>\n",
       "      <td>Arthritis Medications</td>\n",
       "      <td>Upheld Decision of Health Plan</td>\n",
       "      <td>Experimental/Investigational</td>\n",
       "      <td>51-64</td>\n",
       "      <td>Female</td>\n",
       "      <td>A 53-year-old female enrollee has requested Or...</td>\n",
       "    </tr>\n",
       "  </tbody>\n",
       "</table>\n",
       "</div>"
      ],
      "text/plain": [
       "      Reference ID  Report Year                     Diagnosis Category  \\\n",
       "17677    MN03-2932         2003                  Genitourinary/ Kidney   \n",
       "10431   MN10-10522         2010  Central Nervous System/ Neuromuscular   \n",
       "5248    EI13-15598         2013            Orthopedic/ Musculoskeletal   \n",
       "\n",
       "      Diagnosis Sub Category                         Treatment Category  \\\n",
       "17677           Incontinence                            General Surgery   \n",
       "10431                  Other  Diagnostic Imaging, Screening and Testing   \n",
       "5248          Osteoarthritis                Pharmacy/Prescription Drugs   \n",
       "\n",
       "      Treatment Sub Category                       Determination  \\\n",
       "17677         Gastric Bypass  Overturned Decision of Health Plan   \n",
       "10431                    MRI  Overturned Decision of Health Plan   \n",
       "5248   Arthritis Medications      Upheld Decision of Health Plan   \n",
       "\n",
       "                               Type Age Range Patient Gender  \\\n",
       "17677             Medical Necessity     31-40         Female   \n",
       "10431             Medical Necessity     31-40           Male   \n",
       "5248   Experimental/Investigational     51-64         Female   \n",
       "\n",
       "                                                Findings  \n",
       "17677  A 32-year-old female enrollee requested author...  \n",
       "10431  A 35-year-old male enrollee has requested for ...  \n",
       "5248   A 53-year-old female enrollee has requested Or...  "
      ]
     },
     "execution_count": 4,
     "metadata": {},
     "output_type": "execute_result"
    }
   ],
   "source": [
    "#display three random rows\n",
    "df.sample(n=3)"
   ]
  },
  {
   "cell_type": "code",
   "execution_count": 5,
   "metadata": {},
   "outputs": [
    {
     "data": {
      "text/plain": [
       "(19245, 11)"
      ]
     },
     "execution_count": 5,
     "metadata": {},
     "output_type": "execute_result"
    }
   ],
   "source": [
    "df.shape"
   ]
  },
  {
   "cell_type": "markdown",
   "metadata": {},
   "source": [
    "# Show all columns in dataframe"
   ]
  },
  {
   "cell_type": "code",
   "execution_count": 6,
   "metadata": {},
   "outputs": [
    {
     "data": {
      "text/plain": [
       "array(['Reference ID', 'Report Year', 'Diagnosis Category',\n",
       "       'Diagnosis Sub Category', 'Treatment Category',\n",
       "       'Treatment Sub Category', 'Determination', 'Type', 'Age Range',\n",
       "       'Patient Gender', 'Findings'], dtype=object)"
      ]
     },
     "execution_count": 6,
     "metadata": {},
     "output_type": "execute_result"
    }
   ],
   "source": [
    "df.columns.values"
   ]
  },
  {
   "cell_type": "markdown",
   "metadata": {},
   "source": [
    "# Checking missing values in dataframe"
   ]
  },
  {
   "cell_type": "code",
   "execution_count": 7,
   "metadata": {},
   "outputs": [],
   "source": [
    "total_count = len(df)"
   ]
  },
  {
   "cell_type": "code",
   "execution_count": 8,
   "metadata": {},
   "outputs": [
    {
     "data": {
      "text/html": [
       "<div>\n",
       "<style scoped>\n",
       "    .dataframe tbody tr th:only-of-type {\n",
       "        vertical-align: middle;\n",
       "    }\n",
       "\n",
       "    .dataframe tbody tr th {\n",
       "        vertical-align: top;\n",
       "    }\n",
       "\n",
       "    .dataframe thead th {\n",
       "        text-align: right;\n",
       "    }\n",
       "</style>\n",
       "<table border=\"1\" class=\"dataframe\">\n",
       "  <thead>\n",
       "    <tr style=\"text-align: right;\">\n",
       "      <th></th>\n",
       "      <th>index</th>\n",
       "      <th>count</th>\n",
       "    </tr>\n",
       "  </thead>\n",
       "  <tbody>\n",
       "    <tr>\n",
       "      <th>0</th>\n",
       "      <td>Reference ID</td>\n",
       "      <td>0</td>\n",
       "    </tr>\n",
       "    <tr>\n",
       "      <th>1</th>\n",
       "      <td>Report Year</td>\n",
       "      <td>0</td>\n",
       "    </tr>\n",
       "    <tr>\n",
       "      <th>2</th>\n",
       "      <td>Diagnosis Category</td>\n",
       "      <td>59</td>\n",
       "    </tr>\n",
       "    <tr>\n",
       "      <th>3</th>\n",
       "      <td>Diagnosis Sub Category</td>\n",
       "      <td>1904</td>\n",
       "    </tr>\n",
       "    <tr>\n",
       "      <th>4</th>\n",
       "      <td>Treatment Category</td>\n",
       "      <td>450</td>\n",
       "    </tr>\n",
       "    <tr>\n",
       "      <th>5</th>\n",
       "      <td>Treatment Sub Category</td>\n",
       "      <td>1268</td>\n",
       "    </tr>\n",
       "    <tr>\n",
       "      <th>6</th>\n",
       "      <td>Determination</td>\n",
       "      <td>0</td>\n",
       "    </tr>\n",
       "    <tr>\n",
       "      <th>7</th>\n",
       "      <td>Type</td>\n",
       "      <td>0</td>\n",
       "    </tr>\n",
       "    <tr>\n",
       "      <th>8</th>\n",
       "      <td>Age Range</td>\n",
       "      <td>1210</td>\n",
       "    </tr>\n",
       "    <tr>\n",
       "      <th>9</th>\n",
       "      <td>Patient Gender</td>\n",
       "      <td>1210</td>\n",
       "    </tr>\n",
       "    <tr>\n",
       "      <th>10</th>\n",
       "      <td>Findings</td>\n",
       "      <td>20</td>\n",
       "    </tr>\n",
       "  </tbody>\n",
       "</table>\n",
       "</div>"
      ],
      "text/plain": [
       "                     index  count\n",
       "0             Reference ID      0\n",
       "1              Report Year      0\n",
       "2       Diagnosis Category     59\n",
       "3   Diagnosis Sub Category   1904\n",
       "4       Treatment Category    450\n",
       "5   Treatment Sub Category   1268\n",
       "6            Determination      0\n",
       "7                     Type      0\n",
       "8                Age Range   1210\n",
       "9           Patient Gender   1210\n",
       "10                Findings     20"
      ]
     },
     "execution_count": 8,
     "metadata": {},
     "output_type": "execute_result"
    }
   ],
   "source": [
    "missing_count = df.isnull().sum().reset_index(name='count')\n",
    "missing_count"
   ]
  },
  {
   "cell_type": "code",
   "execution_count": 9,
   "metadata": {},
   "outputs": [
    {
     "data": {
      "text/html": [
       "<div>\n",
       "<style scoped>\n",
       "    .dataframe tbody tr th:only-of-type {\n",
       "        vertical-align: middle;\n",
       "    }\n",
       "\n",
       "    .dataframe tbody tr th {\n",
       "        vertical-align: top;\n",
       "    }\n",
       "\n",
       "    .dataframe thead th {\n",
       "        text-align: right;\n",
       "    }\n",
       "</style>\n",
       "<table border=\"1\" class=\"dataframe\">\n",
       "  <thead>\n",
       "    <tr style=\"text-align: right;\">\n",
       "      <th></th>\n",
       "      <th>column_name</th>\n",
       "      <th>missing_count</th>\n",
       "      <th>percentage</th>\n",
       "    </tr>\n",
       "  </thead>\n",
       "  <tbody>\n",
       "    <tr>\n",
       "      <th>0</th>\n",
       "      <td>Reference ID</td>\n",
       "      <td>0</td>\n",
       "      <td>0.000000</td>\n",
       "    </tr>\n",
       "    <tr>\n",
       "      <th>1</th>\n",
       "      <td>Report Year</td>\n",
       "      <td>0</td>\n",
       "      <td>0.000000</td>\n",
       "    </tr>\n",
       "    <tr>\n",
       "      <th>2</th>\n",
       "      <td>Diagnosis Category</td>\n",
       "      <td>59</td>\n",
       "      <td>0.306573</td>\n",
       "    </tr>\n",
       "    <tr>\n",
       "      <th>3</th>\n",
       "      <td>Diagnosis Sub Category</td>\n",
       "      <td>1904</td>\n",
       "      <td>9.893479</td>\n",
       "    </tr>\n",
       "    <tr>\n",
       "      <th>4</th>\n",
       "      <td>Treatment Category</td>\n",
       "      <td>450</td>\n",
       "      <td>2.338270</td>\n",
       "    </tr>\n",
       "    <tr>\n",
       "      <th>5</th>\n",
       "      <td>Treatment Sub Category</td>\n",
       "      <td>1268</td>\n",
       "      <td>6.588724</td>\n",
       "    </tr>\n",
       "    <tr>\n",
       "      <th>6</th>\n",
       "      <td>Determination</td>\n",
       "      <td>0</td>\n",
       "      <td>0.000000</td>\n",
       "    </tr>\n",
       "    <tr>\n",
       "      <th>7</th>\n",
       "      <td>Type</td>\n",
       "      <td>0</td>\n",
       "      <td>0.000000</td>\n",
       "    </tr>\n",
       "    <tr>\n",
       "      <th>8</th>\n",
       "      <td>Age Range</td>\n",
       "      <td>1210</td>\n",
       "      <td>6.287347</td>\n",
       "    </tr>\n",
       "    <tr>\n",
       "      <th>9</th>\n",
       "      <td>Patient Gender</td>\n",
       "      <td>1210</td>\n",
       "      <td>6.287347</td>\n",
       "    </tr>\n",
       "    <tr>\n",
       "      <th>10</th>\n",
       "      <td>Findings</td>\n",
       "      <td>20</td>\n",
       "      <td>0.103923</td>\n",
       "    </tr>\n",
       "  </tbody>\n",
       "</table>\n",
       "</div>"
      ],
      "text/plain": [
       "               column_name  missing_count  percentage\n",
       "0             Reference ID              0    0.000000\n",
       "1              Report Year              0    0.000000\n",
       "2       Diagnosis Category             59    0.306573\n",
       "3   Diagnosis Sub Category           1904    9.893479\n",
       "4       Treatment Category            450    2.338270\n",
       "5   Treatment Sub Category           1268    6.588724\n",
       "6            Determination              0    0.000000\n",
       "7                     Type              0    0.000000\n",
       "8                Age Range           1210    6.287347\n",
       "9           Patient Gender           1210    6.287347\n",
       "10                Findings             20    0.103923"
      ]
     },
     "execution_count": 9,
     "metadata": {},
     "output_type": "execute_result"
    }
   ],
   "source": [
    "missing_count['percent']= missing_count['count']/total_count *100\n",
    "missing_count.columns = ['column_name','missing_count','percentage'] \n",
    "missing_count"
   ]
  },
  {
   "cell_type": "code",
   "execution_count": 10,
   "metadata": {},
   "outputs": [
    {
     "data": {
      "text/plain": [
       "<AxesSubplot:>"
      ]
     },
     "execution_count": 10,
     "metadata": {},
     "output_type": "execute_result"
    },
    {
     "data": {
      "image/png": "[encoded data removed]",
      "text/plain": [
       "<Figure size 640x480 with 2 Axes>"
      ]
     },
     "metadata": {},
     "output_type": "display_data"
    }
   ],
   "source": [
    "import seaborn as sns\n",
    "sns.heatmap(df.isnull(),cbar=True,cmap = 'plasma',yticklabels = False)"
   ]
  },
  {
   "cell_type": "code",
   "execution_count": 11,
   "metadata": {},
   "outputs": [],
   "source": [
    "null_df = missing_count[['column_name','percentage']]"
   ]
  },
  {
   "cell_type": "code",
   "execution_count": 12,
   "metadata": {},
   "outputs": [
    {
     "data": {
      "text/html": [
       "<div>\n",
       "<style scoped>\n",
       "    .dataframe tbody tr th:only-of-type {\n",
       "        vertical-align: middle;\n",
       "    }\n",
       "\n",
       "    .dataframe tbody tr th {\n",
       "        vertical-align: top;\n",
       "    }\n",
       "\n",
       "    .dataframe thead th {\n",
       "        text-align: right;\n",
       "    }\n",
       "</style>\n",
       "<table border=\"1\" class=\"dataframe\">\n",
       "  <thead>\n",
       "    <tr style=\"text-align: right;\">\n",
       "      <th></th>\n",
       "      <th>column_name</th>\n",
       "      <th>percentage</th>\n",
       "    </tr>\n",
       "  </thead>\n",
       "  <tbody>\n",
       "    <tr>\n",
       "      <th>0</th>\n",
       "      <td>Reference ID</td>\n",
       "      <td>0.000000</td>\n",
       "    </tr>\n",
       "    <tr>\n",
       "      <th>1</th>\n",
       "      <td>Report Year</td>\n",
       "      <td>0.000000</td>\n",
       "    </tr>\n",
       "    <tr>\n",
       "      <th>2</th>\n",
       "      <td>Diagnosis Category</td>\n",
       "      <td>0.306573</td>\n",
       "    </tr>\n",
       "    <tr>\n",
       "      <th>3</th>\n",
       "      <td>Diagnosis Sub Category</td>\n",
       "      <td>9.893479</td>\n",
       "    </tr>\n",
       "    <tr>\n",
       "      <th>4</th>\n",
       "      <td>Treatment Category</td>\n",
       "      <td>2.338270</td>\n",
       "    </tr>\n",
       "    <tr>\n",
       "      <th>5</th>\n",
       "      <td>Treatment Sub Category</td>\n",
       "      <td>6.588724</td>\n",
       "    </tr>\n",
       "    <tr>\n",
       "      <th>6</th>\n",
       "      <td>Determination</td>\n",
       "      <td>0.000000</td>\n",
       "    </tr>\n",
       "    <tr>\n",
       "      <th>7</th>\n",
       "      <td>Type</td>\n",
       "      <td>0.000000</td>\n",
       "    </tr>\n",
       "    <tr>\n",
       "      <th>8</th>\n",
       "      <td>Age Range</td>\n",
       "      <td>6.287347</td>\n",
       "    </tr>\n",
       "    <tr>\n",
       "      <th>9</th>\n",
       "      <td>Patient Gender</td>\n",
       "      <td>6.287347</td>\n",
       "    </tr>\n",
       "    <tr>\n",
       "      <th>10</th>\n",
       "      <td>Findings</td>\n",
       "      <td>0.103923</td>\n",
       "    </tr>\n",
       "  </tbody>\n",
       "</table>\n",
       "</div>"
      ],
      "text/plain": [
       "               column_name  percentage\n",
       "0             Reference ID    0.000000\n",
       "1              Report Year    0.000000\n",
       "2       Diagnosis Category    0.306573\n",
       "3   Diagnosis Sub Category    9.893479\n",
       "4       Treatment Category    2.338270\n",
       "5   Treatment Sub Category    6.588724\n",
       "6            Determination    0.000000\n",
       "7                     Type    0.000000\n",
       "8                Age Range    6.287347\n",
       "9           Patient Gender    6.287347\n",
       "10                Findings    0.103923"
      ]
     },
     "execution_count": 12,
     "metadata": {},
     "output_type": "execute_result"
    }
   ],
   "source": [
    "null_df"
   ]
  },
  {
   "cell_type": "code",
   "execution_count": 13,
   "metadata": {},
   "outputs": [],
   "source": [
    "null_df.columns = ['column_name','null_value_%']"
   ]
  },
  {
   "cell_type": "code",
   "execution_count": 14,
   "metadata": {},
   "outputs": [
    {
     "data": {
      "text/plain": [
       "<Figure size 1000x300 with 0 Axes>"
      ]
     },
     "metadata": {},
     "output_type": "display_data"
    }
   ],
   "source": [
    "fig = plt.figure(figsize=(10,3))"
   ]
  },
  {
   "cell_type": "code",
   "execution_count": 15,
   "metadata": {},
   "outputs": [
    {
     "data": {
      "image/png": "[encoded data removed]",
      "text/plain": [
       "<Figure size 640x480 with 1 Axes>"
      ]
     },
     "metadata": {},
     "output_type": "display_data"
    }
   ],
   "source": [
    "ax = sns.pointplot(x='column_name',y='null_value_%',data = null_df,color='yellow')\n",
    "plt.xticks(rotation=45,fontsize=10)\n",
    "plt.title(\"Missing value percentage in data\")\n",
    "plt.ylabel(\"Null values percentage\")\n",
    "plt.xlabel('Columns')\n",
    "plt.show()"
   ]
  },
  {
   "cell_type": "code",
   "execution_count": 16,
   "metadata": {},
   "outputs": [
    {
     "name": "stdout",
     "output_type": "stream",
     "text": [
      "<class 'pandas.core.frame.DataFrame'>\n",
      "RangeIndex: 19245 entries, 0 to 19244\n",
      "Data columns (total 11 columns):\n",
      " #   Column                  Non-Null Count  Dtype \n",
      "---  ------                  --------------  ----- \n",
      " 0   Reference ID            19245 non-null  object\n",
      " 1   Report Year             19245 non-null  int64 \n",
      " 2   Diagnosis Category      19186 non-null  object\n",
      " 3   Diagnosis Sub Category  17341 non-null  object\n",
      " 4   Treatment Category      18795 non-null  object\n",
      " 5   Treatment Sub Category  17977 non-null  object\n",
      " 6   Determination           19245 non-null  object\n",
      " 7   Type                    19245 non-null  object\n",
      " 8   Age Range               18035 non-null  object\n",
      " 9   Patient Gender          18035 non-null  object\n",
      " 10  Findings                19225 non-null  object\n",
      "dtypes: int64(1), object(10)\n",
      "memory usage: 1.6+ MB\n"
     ]
    }
   ],
   "source": [
    "#checking data type \n",
    "df.info()"
   ]
  },
  {
   "cell_type": "markdown",
   "metadata": {},
   "source": [
    "# finding age range and gender same missing percentage"
   ]
  },
  {
   "cell_type": "code",
   "execution_count": 17,
   "metadata": {},
   "outputs": [],
   "source": [
    "missing_year_gender = np.sort(df[df['Patient Gender'].isnull()]['Report Year'].unique())"
   ]
  },
  {
   "cell_type": "code",
   "execution_count": 18,
   "metadata": {},
   "outputs": [
    {
     "data": {
      "text/plain": [
       "array([2001, 2002, 2003], dtype=int64)"
      ]
     },
     "execution_count": 18,
     "metadata": {},
     "output_type": "execute_result"
    }
   ],
   "source": [
    "missing_year_age = np.sort(df[df['Age Range'].isnull()]['Report Year'].unique())\n",
    "missing_year_age"
   ]
  },
  {
   "cell_type": "markdown",
   "metadata": {},
   "source": [
    "### Age and gender column contains missing values for same year so will try to find out the values from fiding column"
   ]
  },
  {
   "cell_type": "code",
   "execution_count": 19,
   "metadata": {},
   "outputs": [],
   "source": [
    "def find_gender(patient_info):\n",
    "    gender = None\n",
    "    if patient_info['Patient Gender'] in ['Male','Female']:\n",
    "        gender = patient_info['Patient Gender']\n",
    "    elif str(patient_info['Patient Gender']).lower() == 'nan' or str(patient_info['Patient Gender']).lower() =='None':\n",
    "        findings_first_20_words = patient_info['Findings'].split(' ')[:20]\n",
    "        # print(findings_first_20_words)\n",
    "        for word in findings_first_20_words:\n",
    "            if (re.search(r'\\b(?:his|male|man)\\b', word)):\n",
    "                gender = 'Male'\n",
    "            elif (re.search(r'\\b(?:her|female|woman)\\b', word)):\n",
    "                gender = 'Female'\n",
    "    \n",
    "    return gender"
   ]
  },
  {
   "cell_type": "code",
   "execution_count": 20,
   "metadata": {},
   "outputs": [
    {
     "data": {
      "text/html": [
       "<div>\n",
       "<style scoped>\n",
       "    .dataframe tbody tr th:only-of-type {\n",
       "        vertical-align: middle;\n",
       "    }\n",
       "\n",
       "    .dataframe tbody tr th {\n",
       "        vertical-align: top;\n",
       "    }\n",
       "\n",
       "    .dataframe thead th {\n",
       "        text-align: right;\n",
       "    }\n",
       "</style>\n",
       "<table border=\"1\" class=\"dataframe\">\n",
       "  <thead>\n",
       "    <tr style=\"text-align: right;\">\n",
       "      <th></th>\n",
       "      <th>index</th>\n",
       "      <th>count</th>\n",
       "    </tr>\n",
       "  </thead>\n",
       "  <tbody>\n",
       "    <tr>\n",
       "      <th>0</th>\n",
       "      <td>Reference ID</td>\n",
       "      <td>0</td>\n",
       "    </tr>\n",
       "    <tr>\n",
       "      <th>1</th>\n",
       "      <td>Report Year</td>\n",
       "      <td>0</td>\n",
       "    </tr>\n",
       "    <tr>\n",
       "      <th>2</th>\n",
       "      <td>Diagnosis Category</td>\n",
       "      <td>59</td>\n",
       "    </tr>\n",
       "    <tr>\n",
       "      <th>3</th>\n",
       "      <td>Diagnosis Sub Category</td>\n",
       "      <td>1904</td>\n",
       "    </tr>\n",
       "    <tr>\n",
       "      <th>4</th>\n",
       "      <td>Treatment Category</td>\n",
       "      <td>450</td>\n",
       "    </tr>\n",
       "    <tr>\n",
       "      <th>5</th>\n",
       "      <td>Treatment Sub Category</td>\n",
       "      <td>1268</td>\n",
       "    </tr>\n",
       "    <tr>\n",
       "      <th>6</th>\n",
       "      <td>Determination</td>\n",
       "      <td>0</td>\n",
       "    </tr>\n",
       "    <tr>\n",
       "      <th>7</th>\n",
       "      <td>Type</td>\n",
       "      <td>0</td>\n",
       "    </tr>\n",
       "    <tr>\n",
       "      <th>8</th>\n",
       "      <td>Age Range</td>\n",
       "      <td>1210</td>\n",
       "    </tr>\n",
       "    <tr>\n",
       "      <th>9</th>\n",
       "      <td>Patient Gender</td>\n",
       "      <td>3</td>\n",
       "    </tr>\n",
       "    <tr>\n",
       "      <th>10</th>\n",
       "      <td>Findings</td>\n",
       "      <td>20</td>\n",
       "    </tr>\n",
       "    <tr>\n",
       "      <th>11</th>\n",
       "      <td>Extracted Gender</td>\n",
       "      <td>3</td>\n",
       "    </tr>\n",
       "  </tbody>\n",
       "</table>\n",
       "</div>"
      ],
      "text/plain": [
       "                     index  count\n",
       "0             Reference ID      0\n",
       "1              Report Year      0\n",
       "2       Diagnosis Category     59\n",
       "3   Diagnosis Sub Category   1904\n",
       "4       Treatment Category    450\n",
       "5   Treatment Sub Category   1268\n",
       "6            Determination      0\n",
       "7                     Type      0\n",
       "8                Age Range   1210\n",
       "9           Patient Gender      3\n",
       "10                Findings     20\n",
       "11        Extracted Gender      3"
      ]
     },
     "execution_count": 20,
     "metadata": {},
     "output_type": "execute_result"
    }
   ],
   "source": [
    "df['Extracted Gender'] = df.apply(find_gender, axis=1)\n",
    "df['Patient Gender'] = df.apply(find_gender, axis=1)\n",
    "df.isnull().sum().reset_index(name='count')"
   ]
  },
  {
   "cell_type": "markdown",
   "metadata": {},
   "source": [
    "### extracted patient gender information from findings and reduced missing values to 3"
   ]
  },
  {
   "cell_type": "code",
   "execution_count": 21,
   "metadata": {},
   "outputs": [
    {
     "data": {
      "text/plain": [
       "array(['41-50', '21-30', '0-10', '65+', '51-64', '11_20', '31-40', nan],\n",
       "      dtype=object)"
      ]
     },
     "execution_count": 21,
     "metadata": {},
     "output_type": "execute_result"
    }
   ],
   "source": [
    "df['Age Range'].unique()"
   ]
  },
  {
   "cell_type": "markdown",
   "metadata": {},
   "source": [
    "## fixing age range typo\n"
   ]
  },
  {
   "cell_type": "code",
   "execution_count": 22,
   "metadata": {},
   "outputs": [],
   "source": [
    "def fix_age_range(patient_info):\n",
    "    age_range = patient_info['Age Range']\n",
    "\n",
    "    if age_range =='11_20':\n",
    "        age_range = '11-20'\n",
    "\n",
    "    return age_range"
   ]
  },
  {
   "cell_type": "code",
   "execution_count": 23,
   "metadata": {},
   "outputs": [],
   "source": [
    "df[\"Age Range\"] = df.apply(fix_age_range, axis=1)"
   ]
  },
  {
   "cell_type": "code",
   "execution_count": 24,
   "metadata": {},
   "outputs": [
    {
     "data": {
      "text/plain": [
       "array(['41-50', '21-30', '0-10', '65+', '51-64', '11-20', '31-40', nan],\n",
       "      dtype=object)"
      ]
     },
     "execution_count": 24,
     "metadata": {},
     "output_type": "execute_result"
    }
   ],
   "source": [
    "df['Age Range'].unique()"
   ]
  },
  {
   "cell_type": "code",
   "execution_count": 25,
   "metadata": {},
   "outputs": [],
   "source": [
    "row = df['Findings'][1134]"
   ]
  },
  {
   "cell_type": "code",
   "execution_count": 26,
   "metadata": {},
   "outputs": [],
   "source": [
    "def extracted_age(row):\n",
    "    if isinstance(row['Findings'], str):\n",
    "        first_20_words = row['Findings'].split(' ')[:20]\n",
    "        for word in first_20_words:\n",
    "            temp_age = re.search(r'(\\d{1,3})[\\- ]year', word, re.IGNORECASE)\n",
    "            if temp_age is not None:\n",
    "                return int(temp_age.group(1))\n",
    "    return np.nan"
   ]
  },
  {
   "cell_type": "code",
   "execution_count": 27,
   "metadata": {},
   "outputs": [],
   "source": [
    "df['Extracted Age'] = df.apply(extracted_age, axis=1)"
   ]
  },
  {
   "cell_type": "code",
   "execution_count": 28,
   "metadata": {},
   "outputs": [
    {
     "data": {
      "text/plain": [
       "array([nan, 62., 36., 27., 14., 45., 59., 43., 69., 50., 17., 37., 16.,\n",
       "       75., 32., 49., 58., 64., 53., 30., 39., 40., 67., 60., 57., 23.,\n",
       "       63., 35., 20., 55., 68., 52., 41., 61., 29., 54., 18., 65., 42.,\n",
       "       34., 51., 48., 56., 46., 19., 28., 26., 12., 44., 22., 31., 33.,\n",
       "       21., 47., 66., 15., 24., 25., 70., 77., 38., 72., 78., 11., 13.,\n",
       "       10., 79., 73., 82., 85., 92.,  6., 74.,  9.,  2.,  4.,  8.,  3.,\n",
       "        7., 76., 71.,  5., 84., 81., 80.,  1., 91., 89., 83., 87., 86.,\n",
       "       88., 90.])"
      ]
     },
     "execution_count": 28,
     "metadata": {},
     "output_type": "execute_result"
    }
   ],
   "source": [
    "df['Extracted Age'].unique()"
   ]
  },
  {
   "cell_type": "code",
   "execution_count": 29,
   "metadata": {},
   "outputs": [],
   "source": [
    "def age_calculate(patient_info):\n",
    "    age_range = patient_info['Age Range']\n",
    "    extracted_age = patient_info['Extracted Age']\n",
    "    if age_range != str:\n",
    "        if 0 <= extracted_age <= 10:\n",
    "            age_range = \"0-10\"\n",
    "        elif 11 <= extracted_age <= 20:\n",
    "            age_range = \"11-20\"\n",
    "        elif 21 <= extracted_age <= 30:\n",
    "            age_range = \"21-30\"\n",
    "        elif 31 <= extracted_age <= 40:\n",
    "            age_range = \"31-40\"\n",
    "        elif 41 <= extracted_age <= 50:\n",
    "            age_range = \"41-50\"\n",
    "        elif 51 <= extracted_age <= 64:\n",
    "            age_range = \"51-64\"\n",
    "        elif extracted_age >= 65:\n",
    "                age_range = \"65+\"\n",
    "    return age_range"
   ]
  },
  {
   "cell_type": "code",
   "execution_count": 30,
   "metadata": {},
   "outputs": [],
   "source": [
    "df[\"Age Range\"] = df.apply(age_calculate,axis=1)"
   ]
  },
  {
   "cell_type": "code",
   "execution_count": 31,
   "metadata": {},
   "outputs": [
    {
     "data": {
      "text/html": [
       "<div>\n",
       "<style scoped>\n",
       "    .dataframe tbody tr th:only-of-type {\n",
       "        vertical-align: middle;\n",
       "    }\n",
       "\n",
       "    .dataframe tbody tr th {\n",
       "        vertical-align: top;\n",
       "    }\n",
       "\n",
       "    .dataframe thead th {\n",
       "        text-align: right;\n",
       "    }\n",
       "</style>\n",
       "<table border=\"1\" class=\"dataframe\">\n",
       "  <thead>\n",
       "    <tr style=\"text-align: right;\">\n",
       "      <th></th>\n",
       "      <th>index</th>\n",
       "      <th>count</th>\n",
       "    </tr>\n",
       "  </thead>\n",
       "  <tbody>\n",
       "    <tr>\n",
       "      <th>0</th>\n",
       "      <td>Reference ID</td>\n",
       "      <td>0</td>\n",
       "    </tr>\n",
       "    <tr>\n",
       "      <th>1</th>\n",
       "      <td>Report Year</td>\n",
       "      <td>0</td>\n",
       "    </tr>\n",
       "    <tr>\n",
       "      <th>2</th>\n",
       "      <td>Diagnosis Category</td>\n",
       "      <td>59</td>\n",
       "    </tr>\n",
       "    <tr>\n",
       "      <th>3</th>\n",
       "      <td>Diagnosis Sub Category</td>\n",
       "      <td>1904</td>\n",
       "    </tr>\n",
       "    <tr>\n",
       "      <th>4</th>\n",
       "      <td>Treatment Category</td>\n",
       "      <td>450</td>\n",
       "    </tr>\n",
       "    <tr>\n",
       "      <th>5</th>\n",
       "      <td>Treatment Sub Category</td>\n",
       "      <td>1268</td>\n",
       "    </tr>\n",
       "    <tr>\n",
       "      <th>6</th>\n",
       "      <td>Determination</td>\n",
       "      <td>0</td>\n",
       "    </tr>\n",
       "    <tr>\n",
       "      <th>7</th>\n",
       "      <td>Type</td>\n",
       "      <td>0</td>\n",
       "    </tr>\n",
       "    <tr>\n",
       "      <th>8</th>\n",
       "      <td>Age Range</td>\n",
       "      <td>72</td>\n",
       "    </tr>\n",
       "    <tr>\n",
       "      <th>9</th>\n",
       "      <td>Patient Gender</td>\n",
       "      <td>3</td>\n",
       "    </tr>\n",
       "    <tr>\n",
       "      <th>10</th>\n",
       "      <td>Findings</td>\n",
       "      <td>20</td>\n",
       "    </tr>\n",
       "    <tr>\n",
       "      <th>11</th>\n",
       "      <td>Extracted Gender</td>\n",
       "      <td>3</td>\n",
       "    </tr>\n",
       "    <tr>\n",
       "      <th>12</th>\n",
       "      <td>Extracted Age</td>\n",
       "      <td>4925</td>\n",
       "    </tr>\n",
       "  </tbody>\n",
       "</table>\n",
       "</div>"
      ],
      "text/plain": [
       "                     index  count\n",
       "0             Reference ID      0\n",
       "1              Report Year      0\n",
       "2       Diagnosis Category     59\n",
       "3   Diagnosis Sub Category   1904\n",
       "4       Treatment Category    450\n",
       "5   Treatment Sub Category   1268\n",
       "6            Determination      0\n",
       "7                     Type      0\n",
       "8                Age Range     72\n",
       "9           Patient Gender      3\n",
       "10                Findings     20\n",
       "11        Extracted Gender      3\n",
       "12           Extracted Age   4925"
      ]
     },
     "execution_count": 31,
     "metadata": {},
     "output_type": "execute_result"
    }
   ],
   "source": [
    "df.isnull().sum().reset_index(name='count')"
   ]
  },
  {
   "cell_type": "code",
   "execution_count": 32,
   "metadata": {},
   "outputs": [
    {
     "name": "stdout",
     "output_type": "stream",
     "text": [
      "Reference ID :\n",
      "['MN16-22639' 'MN16-22638' 'MN16-22637' ... 'MN01-5' 'MN01-4' 'EI01-3']\n",
      "#######\n",
      "Report Year :\n",
      "[2016 2006 2015 2014 2010 2005 2004 2009 2008 2007 2001 2013 2012 2002\n",
      " 2003 2011]\n",
      "#######\n",
      "Diagnosis Category :\n",
      "['Infectious' 'Mental' 'Autism Spectrum' 'Prevention/Good Health'\n",
      " 'Cardiac/Circulatory' 'OB-Gyn/ Pregnancy'\n",
      " 'Digestive System/ Gastrointestinal' 'Orthopedic/ Musculoskeletal'\n",
      " 'Central Nervous System/ Neuromuscular' 'Endocrine/ Metabolic'\n",
      " 'Pediatrics' 'Chronic Pain' 'Respiratory System' 'Cancer'\n",
      " 'Morbid Obesity' 'Ears, Nose, Throat' 'Post Surgical Complication'\n",
      " 'Immunologic' 'Skin' 'Not Applicable' 'Foot' 'Dental' 'Blood Related'\n",
      " 'Genetic' 'Genitourinary/ Kidney' 'Vision' 'Trauma/Injuries' nan\n",
      " 'Organ Failure' 'Alcohol and Drug Addiction']\n",
      "#######\n",
      "Diagnosis Sub Category :\n",
      "['Hepatitis' 'Eating Disorder' 'Autism-PDD-NOS' nan\n",
      " 'Female Breast Disorder' 'Other' 'Fracture' 'Depression - Severe'\n",
      " 'Diabetes' 'Lipid Storage Disease' 'Thyroid Problems' 'Hypertension'\n",
      " 'Multiple Sclerosis' 'Hormone Deficiency'\n",
      " 'Developmental Delays/ Cognitive' 'Back Pain' 'Hip Problem' 'Asthma'\n",
      " 'Breast Cancer' 'Ovarian Cancer' 'Scoliosis' 'Vertebral Disc Problem'\n",
      " 'Deformities' 'Throat Infection' 'Anxiety' 'GERDs/ Reflux Disorders'\n",
      " 'Sleep Apnea' 'Substance Abuse/ Addiction' 'Headache/Migraine'\n",
      " 'Shoulder Problem' 'Muscle Spasms' 'Psoriasis' 'Skin Cancer'\n",
      " 'Fibromyalgia' 'High Risk Suicide' 'Osteoporosis' 'Bipolar Disorder'\n",
      " 'Joint Problem' 'Knee Problem' 'Mole' 'Cardiac Problem' 'Osteoarthritis'\n",
      " 'Brain Tumor' 'Eczema' 'Heart Attack' 'Schizophrenia' 'Migraine'\n",
      " 'Psychosis' 'Overbite/ Underbite' 'Throat/ Neck Cancer'\n",
      " \"Alzheimer's Diease\" 'AIDS/HIV' 'Fibroids'\n",
      " 'Coronary Artery Disease - CAD' 'Neck Problem' 'Cardiac/Heart problem'\n",
      " 'Alcohol Abuse/ Addiction' \"Crohn's Disease\"\n",
      " 'Sinusitis - Sinus Infections' 'Incisional Hernia' 'Ligament Problem'\n",
      " 'Male Genital Disorder' 'Growth Hormone Deficiency' 'Sciatica'\n",
      " 'Macular Degeneration' 'Endometriosis' 'Insomnia' 'Tendon Problem'\n",
      " 'Respiratory Allergies' 'Varicose Veins' 'Cyst' 'Leukemia' 'Rash'\n",
      " 'Congential Heart Defect' 'Decay/ Cavities'\n",
      " 'ADHD - Attention Deficit Hyperactivity Disorder' 'Rheumatoid Arthritis'\n",
      " 'Epilepsy' 'Colon Cancer'\n",
      " \"ALS- Amyotrophic Lateral Sclerosis - Lou Gehrig's Disease\"\n",
      " 'Osteomyelitis' 'Cardiomyopathy' 'Excess Skin' 'Gynecomastia'\n",
      " 'Shortness of Breath' 'Plantar Fasciitis' 'Lymph Nodes Cancer' 'Lupus'\n",
      " 'Delayed Speech' 'Auto Accident' 'Pregnancy' 'Injury' 'Depression'\n",
      " 'Nose Deformity' 'Attachment Disorder' 'Stroke/ CVA' 'Lyme Disease'\n",
      " 'Lung Cancer' 'Blood Cancer' 'Hearing Problem' 'Liver Cancer'\n",
      " 'Myasthenia Gravis' 'Narcolepsy' 'Congestive Heart Failure - CHF'\n",
      " 'Cataracts' \"Addison's Disease\" 'Gum Disease' 'Skin Tag' 'Hypoglycemia'\n",
      " 'Chest pain' 'Post Surgical Complication' 'Anemia'\n",
      " 'Respiratory Sincytial Virus' 'Pancreas Cancer'\n",
      " 'ADD - Attention Deficit Disorder' 'Erectile Dysfunction'\n",
      " 'Yeast Infection' 'Renal Cancer' 'Tonsillitis' 'Prostate Cancer'\n",
      " 'Carpal Tunnel Syndrome' 'Urinary Tract Infection' 'Kidney Infection'\n",
      " 'Viral Infection' 'Cerebral Palsy' 'Cervical Cancer' 'Skin Lesion'\n",
      " 'Pneumonia' 'Irritable Bowel Syndrome' 'Pediatric Ortho'\n",
      " 'Obsessive-Compulsive Disorder' 'Speech Problems' 'Parkinson Disease'\n",
      " 'Scleroderma' 'Cardiac Valve Disease' 'Guillian-Barre' 'Pancreatitis'\n",
      " 'Mental Health Problem' 'Asperger Syndrome' 'Brain Cancer'\n",
      " 'Gastrointestinal Bleeding' 'Burns' 'Actinic Kerotosis' 'Heel Pain'\n",
      " 'Incontinence' 'Kidney Stones' 'Skin Ulcer' 'Ovarian Cyst' 'Amputation'\n",
      " 'TMJ - Temporal Mandibular Joint' 'Menopause' 'Menorrhagia'\n",
      " 'Ulcerative Colitis' 'Hiatal Hernia' 'Congenital Deformity' 'Paralysis'\n",
      " 'Stress Disorder' 'Chromosomal Anomalies' 'Inflammatory Bowel'\n",
      " 'Cirrhosis' 'Interstitial Cystitis' 'Acne' 'Sleep Disorder' 'Miscarriage'\n",
      " 'Autism' 'Infertility' 'Eyelid Droop' 'Pulmonary Fibrosis' 'Ataxia'\n",
      " 'COPD - Chronic Obstructive Lung Disease' 'Respiratory Infection'\n",
      " 'Glaucoma' 'Nasal Airway Obstruction' 'Lasceration' 'Shingles'\n",
      " 'Infection' 'Acute Kidney Failure' 'Severe Emotional Disturbance'\n",
      " 'Septal Deformity' 'Esophagus Cancer' 'Chronic Fatigue Syndrome'\n",
      " 'Bacterial Infection' 'Exposure to Toxin' 'Uterine Cancer' 'Angina'\n",
      " 'Chronic Diarrhea' 'Gastritis' 'Inguinal Hernia' 'Muscular Dystrophy'\n",
      " 'Bone Cancer' 'Pituitary Condition' 'Keloid' \"Down's Syndrome\" 'Bunion'\n",
      " 'Myocardial Infarction - MI' 'Rett Syndrome' 'Chronic Kidney Failure'\n",
      " 'Cystic Fibrosis' 'Musculoskeletal/ Ortho Problem'\n",
      " 'Developmental Delays/ Ortho' 'Umbillical Hernia' 'Otitis Media'\n",
      " 'Pervasive Developmental Disorder' 'Blindness' 'Warts' 'Burn'\n",
      " 'Lymphedema' 'Tooth Loss' 'Abscess' 'Phenylketonuria (PKU)'\n",
      " 'Retinal Vessel Occlusion' 'Eye Pain' 'Epigastric Hernia'\n",
      " 'Dizziness, Vertigo' 'Rectal Bleeding' 'Pelvic Inflammatory Disease'\n",
      " 'Dermatitis' 'Obstructive Airway' 'Tourettes Syndrom'\n",
      " 'Polycystic Kidney Disease' 'Leimyomata' 'Foreign Body'\n",
      " 'Congenital Anomaly' 'Onychomycosis/ Nail Fungus' 'Sickle Cell Disease'\n",
      " 'Bronchitis' 'Ventral Hernia' 'Aneurysm' 'Pyelonephritis' 'Bleeding'\n",
      " 'Beating/ Assault' 'Injury/ Trauma' 'Chemical Exposure'\n",
      " 'Injury or Trauma' 'Retinopathy' 'Herpes Simplex' 'Ingestion'\n",
      " 'ITP - Idiopathic Thrombocytopenia' 'Peripheral Vascular Disease - PVD'\n",
      " 'Vaginal Infection' 'Neurological Deficit' 'Hammertoe' 'Asbestosis'\n",
      " 'Peptic Ulcer Disease' 'Decay/ Root Involvement' 'Dysmenorrhea'\n",
      " 'Strabismus' 'Cleft Palate/lip' 'Corns and Calluses' 'Gallstones'\n",
      " 'Bursitis' 'Nasal Polyps' 'Malaria' 'Appendicitis' 'Gestational Diabetes'\n",
      " 'Myopia/ Nearsightedness' 'Post-Partum Depression' 'Corneal Abrasion'\n",
      " 'Myocardial spasm' 'Pediatric Cardiac' 'Gunshot Wound' 'Impacted Teeth'\n",
      " 'Enlarged Turbinates' 'Medial Meniscus Tear' 'Abdominal Pannus'\n",
      " 'Heart Attack/Angina' 'ACL -  Anterior Cruciate Ligament'\n",
      " 'Pervasive Develpomental Disorder' 'Pleurisy' 'Peri-Menopausal'\n",
      " 'Cholecystitis' 'Retinitis Pigmentosa' 'Sports Related Injury'\n",
      " 'Abnormal Hair Growth' 'Glycogen Storage Disease'\n",
      " 'Elevated Liver Enzymes' 'Hunter Syndrome' 'Sexually Transmitted Disease'\n",
      " 'Hermangioma']\n",
      "#######\n",
      "Treatment Category :\n",
      "['Pharmacy/Prescription Drugs' 'Mental Health Treatment'\n",
      " 'Autism Related Treatment' 'Diagnostic Imaging, Screening and Testing'\n",
      " 'Cardio Vascular' 'Durable Medical Equipment'\n",
      " 'Diagnostic/Physician Evaluation' 'Orthopedic' 'Emergency/Urgent Care'\n",
      " 'General Surgery' 'Acute Medical Services - Outpatient' 'Not Applicable'\n",
      " 'Pain Management' 'Cancer Treatment' 'Reconstructive/Plastic Surgery'\n",
      " 'Rehabilitation Services - Skilled Nursing Facility - Inpatient'\n",
      " 'Special Procedure' 'Electrical/ Thermal/ Radiofreq. Interventions'\n",
      " 'Alternative Treatment' 'OB/GYN Procedures' 'Neurosugery'\n",
      " 'Dental/Orthodontic' 'Home Health Care'\n",
      " 'Acute Medical Services - Inpatient' 'Ear, Nose and Throat Procedures'\n",
      " 'Rehabilitation Services - Outpatient' 'Vision' 'Urology' nan\n",
      " 'Preventive Health Screening' 'Chiropractic' 'Ophthalmology']\n",
      "#######\n",
      "Treatment Sub Category :\n",
      "['Anti-virals' 'Residential Treatment Center - Admission' 'Speech Therapy'\n",
      " 'Mammography' nan 'Lab Work' 'Allergy Testing' 'Other'\n",
      " 'Acute Psychiatric Facility Admission' 'X-Ray'\n",
      " 'Specialty Consultation Referral' 'Cardiac Medications' 'CT Scan'\n",
      " 'Ambulance/Transport' 'Hormones' 'ABA-Applied Behavioral Analysis'\n",
      " 'Emergency Room' 'Analgesics' 'Proton Beam Therapy'\n",
      " 'Analgesic Prescription/Medication' 'Electric Wheelchair' 'Urgent Care'\n",
      " 'Anti-Depressants' 'Interferon' 'C-Pap Machine' 'Autism Screening'\n",
      " 'Special Bed' 'Inpatient Admission' 'IVIG Therapy' 'General Anesthesia'\n",
      " 'Radiofrequency Ablation' 'Botox Injection' 'Anti-inflammatories'\n",
      " 'PET Scan' 'Bone Density Scan' 'Acupuncture' 'Arthritis Medications'\n",
      " 'Panniculectomy' 'Artificial Disk Replacement' 'Knee Replacement'\n",
      " 'Fracture/Bone Repair' 'Skin Treatment' 'Nerve Block'\n",
      " 'Treatment for Migraine' 'MRI' 'Wheelchair' 'Injections/ Infusions'\n",
      " 'Breast Reduction' 'Liposuction' 'Admission' 'Radiation Therapy'\n",
      " 'Anti-Psychotic' 'Sinus Surgery' 'Sensory Integration' 'Hernia Repair'\n",
      " 'Hysterectomy' 'Physical Therapy' 'Epidural Injection'\n",
      " 'Partial Hospitalization' 'Formulary versus Non-Formulary'\n",
      " 'Bariatric Lap Band' 'Bariatric Other' 'Weight Control' 'Anti-histamines'\n",
      " 'Hip Replacement' 'Out-of-Network/Academic Center Referral'\n",
      " 'Clinical Trial (Phase 1)' 'Transcranial Magnetic Stimulation'\n",
      " 'Orthotics' 'Ultrasound' 'Heart Monitor'\n",
      " 'Prescription Drug/Medication Management' 'Colonoscopy/Sigmoidoscopy'\n",
      " 'IDET' 'Dental Anesthesia' 'Skilled Nursing Visits' 'Sleep Study'\n",
      " 'Organ Transplant' 'Anti-Fungal' 'Oxygen' 'CPM Machine' 'Jaw Surgery'\n",
      " 'Investigational Treatment' 'Social Skills Therapy'\n",
      " 'Continuous Glucose Monitor' 'Fusion' 'Adult Immunization'\n",
      " 'Pacemaker Insertion' 'Alcohol Rehabilitation Program' 'Cryoablation'\n",
      " 'Surgery' 'Shoe Inserts' 'Excess Skin Removal' 'Eye Test'\n",
      " 'Oncotype DX Assay' 'Antibiotics'\n",
      " 'Residential Treatment Center - Discharge' 'Compression Garments'\n",
      " 'Mammoplasty' 'Anti-hypertensives' 'Behavioral Therapy'\n",
      " 'EECP-Enhanced External Counter Pulsation Device'\n",
      " 'Drug Rehabilitation Program' 'AIDS Wasting Treatment' 'Chemotherapy'\n",
      " 'Psychotherapy' 'Non-FDA Approved Use' 'Treatment for Impotence'\n",
      " 'Vision Therapy' 'Tonsillectomy' 'Laminectomy' 'Biofeedback' 'Antacids'\n",
      " 'Vitamins' 'Cesarean Section' 'Stem Cell Transplant' 'Cognitive Therapy'\n",
      " 'Inpatient Early Discharge' 'Shoulder Replacement' 'Occupational Therapy'\n",
      " 'Special Chair' 'Steroid Injection' 'Electric Scooter'\n",
      " 'Orthodontia/ Braces' 'Colonoscopy' 'Skin Resurfacing'\n",
      " 'Revision Procedures' 'Individual Counseling' 'Out-Of-Network Referral'\n",
      " 'Parathyroidectomy' 'Music Therapy' 'Sedatives/ Hypnotics'\n",
      " 'Extracoproreal Shock Wave Lithotripsy' 'Prosthesis'\n",
      " 'Medical/Surgical Unit' 'Early Discharge' 'Breast Surgery'\n",
      " 'Pain Management Program' 'Insulin Pump' 'Hyperbaric Oxygen Chamber'\n",
      " 'Septoplasty' 'Biopsy' 'Acute Psychiatric Facility Discharge'\n",
      " 'Treatment for Allergies' 'Circumcision' 'Visual Aids/ Contact Lenses'\n",
      " 'Inpatient Transfer to Home' 'Tubes in Ears' 'Radiation Oncology'\n",
      " 'Pain Management' 'Breast Augmentation' 'ABI Vest'\n",
      " 'Electric Bone Stimulator' 'Cervical Traction Unit' 'Anti-Acne Treatment'\n",
      " 'Implant Removal' 'Arthroscopy' 'Braces' 'Walker' 'Gastric Bypass'\n",
      " 'Scoping Procedure' 'Preventive Nutritional Counseling'\n",
      " 'Cardiac Valve Replacement' 'Urethral Stents' 'Thigh/Buttock Lift'\n",
      " 'Joint Manipulation' 'Rectal Exam' 'Diskectomy' 'Fertility Medications'\n",
      " 'Humidifier' 'Endodontics/ Root Canal'\n",
      " 'ORIF (Open Reduction Internal Fixation)' 'Special Foods'\n",
      " 'Blepharoplasty' 'Cataract Surgery' 'Fibroid Removal'\n",
      " 'Request for 2nd Opinion Out of Plan' 'TMJ Splint' 'Burn Unit'\n",
      " 'Uterine Artery Embolization' 'Ongoing Out-Of-Network Treatment'\n",
      " 'Childhood Immunization' 'Crowns' 'Extraction' 'Intensive Home Therapy'\n",
      " 'Floor-Time Therapy' 'Inpatient Discharge' 'Laparoscopy' 'Vein Stripping'\n",
      " 'Bariatric Roux-En-Y' 'Referral to Pain Clinic' 'Visual Aids/ Glasses'\n",
      " 'Hearing Aid' 'PKU Formula' 'Birth Control' 'Laparotomy'\n",
      " 'Labor and Delivery' 'TENS Unit' 'Craniotomy' 'Bariatric Duodenal Switch'\n",
      " 'Thallium Stress Test' 'Clinical Trial' 'Cosmetic Treatment'\n",
      " 'Gastrostomy Tube Placement' 'Spinal Adjustment' 'PSA Screening'\n",
      " 'Traumatic Brain Injury Program' 'Perio Gum Treatment' 'Cochlear Implant'\n",
      " 'Referral out of Medical Group' 'Aqua Therapy' 'Discharge to Home'\n",
      " 'VNUS Closure' 'Telemetry Unit' 'Clinical Trial (Phases 2-4)'\n",
      " 'Therapeutic Abortion' 'Cardiac Mapping' 'D & C' 'Cryotherapy'\n",
      " 'Neurosurgery Intensive Care Unit'\n",
      " 'Inpatient Transfer to Lower Level of Care'\n",
      " 'In-Network Academic Center Referral' 'Acupressure' 'Biologics'\n",
      " 'Partial Hospital' 'Family Counseling' 'Tubal Ligation'\n",
      " 'Brand versus Generic' 'Conscious Sedation' 'Stroke Recovery Program'\n",
      " 'Pap Smear' 'Evaluation' 'Bariatric Surgery' 'Biochemotherapy'\n",
      " 'Cholesterol Screen' 'Investigational Treatment Protocol' 'EKG'\n",
      " 'Dental Implants' 'Transfer to Lower Level of Care'\n",
      " 'Ultrasound/Micro Massage' 'Out of Plan Pain Management Program'\n",
      " 'Tissue Regeneration' 'Pneumatic Vest' 'ECT - Electro-Convulsive Therapy'\n",
      " 'Neonatal Intensive Care Unit' 'In-Vitro Fertilization Medication'\n",
      " 'Dental X-Rays' 'Thyroidectomy' 'Prostatectomy'\n",
      " 'Biliopancreatic Diversion' 'Mammopexy'\n",
      " 'ACL (Anterior Ligament Cruciate) Repair' 'Cranioplasty'\n",
      " 'Cholecystectomy' 'Maternity Ward' 'Homeopathy'\n",
      " 'Chemotherapy/ Cancer Medications' 'H-Wave Device' 'Osseous Surgery'\n",
      " 'Artificial Reproduction Technique' 'CABG (Coronary Artery Bypass Graft)'\n",
      " 'Nerve Inflammation Treatment' 'Yag Procedure' 'Duodenstomy'\n",
      " 'TMJ Treatment' 'Play Therapy' 'Laser Surgery' 'Lipectomy' 'TPN'\n",
      " 'Lasik (Keratotomy)' 'Cardiac Catheterization'\n",
      " 'Mandibular Repositioning Device' 'Sleep Studies' 'Dressing Changes'\n",
      " 'VAC Pump' 'Vitrectomy' 'Endarterectomy' 'Home Uterine Monitor'\n",
      " 'H-wave Device' 'Vasectomy'\n",
      " 'EECP - Enhanced External Counter Pulsation Device'\n",
      " 'Implant Removal Procedure' 'Nissen Fundoplication' 'Excision of Lipoma']\n",
      "#######\n",
      "Determination :\n",
      "['Overturned Decision of Health Plan' 'Upheld Decision of Health Plan']\n",
      "#######\n",
      "Type :\n",
      "['Medical Necessity' 'Experimental/Investigational' 'Urgent Care']\n",
      "#######\n",
      "Age Range :\n",
      "['41-50' '21-30' '0-10' '65+' '51-64' '11-20' '31-40' nan]\n",
      "#######\n",
      "Patient Gender :\n",
      "['Male' 'Female' None]\n",
      "#######\n",
      "Findings :\n",
      "['Nature of Statutory Criteria/Case Summary: An enrollee has requested Harvoni for treatment of his hepatitis C virus genotype 1a.  Findings:  The physician reviewer found that according to the most recent joint guidelines issued by the American Association for the Study of Liver Diseases (AASLD) and the Infectious Diseases Society of America (IDSA), all patients with chronic hepatitis C should be treated except those with limited life expectancy due to non-liver-related conditions. This applies regardless of fibrosis stage or viral load, and advanced fibrosis is not required for treatment. Per guidelines, treatment-naïve genotype 1 patients should be treated with Harvoni. Patients with viral load of less than 6,000,000 IU/mL can be treated for eight weeks. These guideline recommendations are based on multiple randomized clinical trials (Kowdley, et al; Afdhal, et al). Moreover, the AASLD and IDSA guidelines cite data showing reduced survival with delayed treatment (Jezequel, et al). For these reasons, the requested treatment with Harvoni is supported as medically necessary for the treatment of this patient’s hepatitis C infection. Final Result: The reviewer determined that the requested medication is medically necessary for treatment of the patient’s medical condition. Therefore, the Health Plan’s denial should be overturned.  Credentials/Qualifications: The reviewer is board certified in internal medicine with sub-specialty certification in gastroenterology and is actively practicing. The reviewer is an expert in the treatment of the enrollee’s medical condition and knowledgeable about the proposed treatment through recent or current actual clinical experience treating those with the same or a similar medical condition. '\n",
      " 'Nature of Statutory Criteria/Case Summary:  An enrollee has requested  residential treatment center (RTC) services for treatment of her medical condition.  Findings:  The physician reviewer found that there is a lack of clinical evidence to suggest that the patient would not respond to treatment at a less intensive level of care.  She no longer required supervision in a highly structured setting to prevent eating disorder behaviors. In addition, no new problems had arisen and there was no evidence to suggest that re-entry into the community would lead to decompensation that would necessitate readmission to a residential setting. Although she continued to struggle with issues of body image, anxiety, depression, and self-esteem, and required ongoing treatment, this treatment did not require the 24-hour supervised setting of residential level of care. Moreover, the records do not support readmission to RTC level of care. Thus, RTC services and resumption of RTC services were not and are not medically necessary for treatment of this patient’s eating disorder.  Final Result: The reviewer determined that the services at issue were not and are not medically necessary for treatment of the patient’s medical condition. Therefore, the Health Plan’s denial should be upheld.  Credentials/Qualifications:  The reviewer is board certified in psychiatry and is actively practicing. The reviewer is an expert in the treatment of the enrollee’s medical condition and knowledgeable about the proposed treatment through recent or current actual clinical experience treating those with the same or a similar medical condition.'\n",
      " 'Nature of Statutory Criteria/Case Summary:  The parent of an enrollee has requested speech therapy for treatment of the enrollee’s medical condition.  Findings:  The physician reviewer found that review of the submitted documentation and medical literature fails to demonstrate the medical necessity of the requested services. The article by Myers and colleagues recommends a comprehensive educational program to include speech therapy for children with autism spectrum disorder. In this case, the patient has been treated with speech therapy and has made slow progress with improvements in mean length of utterance, pronoun use and use of correct verb tense. However, in the school and home setting there is not as much generalization. At this point individual speech therapy is not medically necessary. Continued work on her speech goals and social goals can be treated through ABA services, group speech therapy or a social skills group. In sum, individual speech therapy is not medically necessary in this clinical setting.  Final result:  The reviewer determined that the requested services are not medically necessary for treatment of the patient’s medical condition. Therefore, the Health Plan’s denial should be upheld.  Credentials/Qualifications:  The reviewer is board certified in pediatrics with sub-specialty certification in developmental and behavioral pediatrics and is actively practicing.  The reviewer is an expert in the treatment of the enrollee’s medical condition and knowledgeable about the proposed treatment through recent or current actual clinical experience treating those with the same or a similar medical condition. '\n",
      " ...\n",
      " \"A 46-year-old female requested an orthoscopic surgery for treatment of a torn labrum and shrunken capsule of the shoulder.  The Health Plan denied this request indicating the procedure is not medically necessary.The Review Organization's Physician Consultant examined the medical records submitted and determined there is good potential that physical therapy will lead to avoidance of surgery; therefore, the Health Plan&#8217;s denial should be upheld.\"\n",
      " \"A 24-year-old female requested a bilateral breast reduction surgery for treatment of recurrent persistent thoracic back pain.  The Health Plan denied this request indicating the procedure is not medically necessary.The Review Organization's Physician Consultant examined the medical records submitted and determined bilateral breast reduction surgery is medically necessary for treatment of this enrollee's condition; therefore, the Health Plan&#8217;s denial should be overturned.\"\n",
      " \"A male requested participation in a Phase I study of Oxaliplatin for lung cancer.    The health plan denied the request indicating the treatment requested was experimental.  The Review Organization's Physician Consultants examined the medical records submitted and determined the medical service is not likely to be more beneficial to you than available standard therapy and is not required to be provided to you by your health plan.  Therefore, the health plan&#8217;s denial should be upheld.\"]\n",
      "#######\n",
      "Extracted Gender :\n",
      "['Male' 'Female' None]\n",
      "#######\n",
      "Extracted Age :\n",
      "[nan 62. 36. 27. 14. 45. 59. 43. 69. 50. 17. 37. 16. 75. 32. 49. 58. 64.\n",
      " 53. 30. 39. 40. 67. 60. 57. 23. 63. 35. 20. 55. 68. 52. 41. 61. 29. 54.\n",
      " 18. 65. 42. 34. 51. 48. 56. 46. 19. 28. 26. 12. 44. 22. 31. 33. 21. 47.\n",
      " 66. 15. 24. 25. 70. 77. 38. 72. 78. 11. 13. 10. 79. 73. 82. 85. 92.  6.\n",
      " 74.  9.  2.  4.  8.  3.  7. 76. 71.  5. 84. 81. 80.  1. 91. 89. 83. 87.\n",
      " 86. 88. 90.]\n",
      "#######\n"
     ]
    }
   ],
   "source": [
    "for i in df.columns:\n",
    "    print(i,\":\")\n",
    "    print(df[i].unique())\n",
    "    print(\"#######\")"
   ]
  },
  {
   "cell_type": "markdown",
   "metadata": {},
   "source": [
    "## replacing Nan values with unknown"
   ]
  },
  {
   "cell_type": "code",
   "execution_count": 33,
   "metadata": {},
   "outputs": [],
   "source": [
    "df[['Diagnosis Sub Category', 'Treatment Sub Category']]= df[['Diagnosis Sub Category', 'Treatment Sub Category']].fillna('Unknown')"
   ]
  },
  {
   "cell_type": "code",
   "execution_count": 34,
   "metadata": {},
   "outputs": [],
   "source": [
    "df[['Diagnosis Category', 'Treatment Category']] = df[['Diagnosis Category', 'Treatment Category']].fillna('Unknown')"
   ]
  },
  {
   "cell_type": "code",
   "execution_count": 35,
   "metadata": {},
   "outputs": [],
   "source": [
    "df[['Patient Gender']] = df[['Patient Gender']].fillna('Unknown')"
   ]
  },
  {
   "cell_type": "code",
   "execution_count": 36,
   "metadata": {},
   "outputs": [],
   "source": [
    "df[['Age Range']] = df[['Age Range']].fillna('Unknown')"
   ]
  },
  {
   "cell_type": "code",
   "execution_count": 37,
   "metadata": {},
   "outputs": [
    {
     "data": {
      "text/html": [
       "<div>\n",
       "<style scoped>\n",
       "    .dataframe tbody tr th:only-of-type {\n",
       "        vertical-align: middle;\n",
       "    }\n",
       "\n",
       "    .dataframe tbody tr th {\n",
       "        vertical-align: top;\n",
       "    }\n",
       "\n",
       "    .dataframe thead th {\n",
       "        text-align: right;\n",
       "    }\n",
       "</style>\n",
       "<table border=\"1\" class=\"dataframe\">\n",
       "  <thead>\n",
       "    <tr style=\"text-align: right;\">\n",
       "      <th></th>\n",
       "      <th>index</th>\n",
       "      <th>count</th>\n",
       "    </tr>\n",
       "  </thead>\n",
       "  <tbody>\n",
       "    <tr>\n",
       "      <th>0</th>\n",
       "      <td>Reference ID</td>\n",
       "      <td>0</td>\n",
       "    </tr>\n",
       "    <tr>\n",
       "      <th>1</th>\n",
       "      <td>Report Year</td>\n",
       "      <td>0</td>\n",
       "    </tr>\n",
       "    <tr>\n",
       "      <th>2</th>\n",
       "      <td>Diagnosis Category</td>\n",
       "      <td>0</td>\n",
       "    </tr>\n",
       "    <tr>\n",
       "      <th>3</th>\n",
       "      <td>Diagnosis Sub Category</td>\n",
       "      <td>0</td>\n",
       "    </tr>\n",
       "    <tr>\n",
       "      <th>4</th>\n",
       "      <td>Treatment Category</td>\n",
       "      <td>0</td>\n",
       "    </tr>\n",
       "    <tr>\n",
       "      <th>5</th>\n",
       "      <td>Treatment Sub Category</td>\n",
       "      <td>0</td>\n",
       "    </tr>\n",
       "    <tr>\n",
       "      <th>6</th>\n",
       "      <td>Determination</td>\n",
       "      <td>0</td>\n",
       "    </tr>\n",
       "    <tr>\n",
       "      <th>7</th>\n",
       "      <td>Type</td>\n",
       "      <td>0</td>\n",
       "    </tr>\n",
       "    <tr>\n",
       "      <th>8</th>\n",
       "      <td>Age Range</td>\n",
       "      <td>0</td>\n",
       "    </tr>\n",
       "    <tr>\n",
       "      <th>9</th>\n",
       "      <td>Patient Gender</td>\n",
       "      <td>0</td>\n",
       "    </tr>\n",
       "    <tr>\n",
       "      <th>10</th>\n",
       "      <td>Findings</td>\n",
       "      <td>20</td>\n",
       "    </tr>\n",
       "    <tr>\n",
       "      <th>11</th>\n",
       "      <td>Extracted Gender</td>\n",
       "      <td>3</td>\n",
       "    </tr>\n",
       "    <tr>\n",
       "      <th>12</th>\n",
       "      <td>Extracted Age</td>\n",
       "      <td>4925</td>\n",
       "    </tr>\n",
       "  </tbody>\n",
       "</table>\n",
       "</div>"
      ],
      "text/plain": [
       "                     index  count\n",
       "0             Reference ID      0\n",
       "1              Report Year      0\n",
       "2       Diagnosis Category      0\n",
       "3   Diagnosis Sub Category      0\n",
       "4       Treatment Category      0\n",
       "5   Treatment Sub Category      0\n",
       "6            Determination      0\n",
       "7                     Type      0\n",
       "8                Age Range      0\n",
       "9           Patient Gender      0\n",
       "10                Findings     20\n",
       "11        Extracted Gender      3\n",
       "12           Extracted Age   4925"
      ]
     },
     "execution_count": 37,
     "metadata": {},
     "output_type": "execute_result"
    }
   ],
   "source": [
    "df.isnull().sum().reset_index(name='count')"
   ]
  },
  {
   "cell_type": "code",
   "execution_count": 38,
   "metadata": {},
   "outputs": [],
   "source": [
    "df = df.drop(['Extracted Gender','Extracted Age'],axis=1)"
   ]
  },
  {
   "cell_type": "code",
   "execution_count": 39,
   "metadata": {},
   "outputs": [
    {
     "data": {
      "text/html": [
       "<div>\n",
       "<style scoped>\n",
       "    .dataframe tbody tr th:only-of-type {\n",
       "        vertical-align: middle;\n",
       "    }\n",
       "\n",
       "    .dataframe tbody tr th {\n",
       "        vertical-align: top;\n",
       "    }\n",
       "\n",
       "    .dataframe thead th {\n",
       "        text-align: right;\n",
       "    }\n",
       "</style>\n",
       "<table border=\"1\" class=\"dataframe\">\n",
       "  <thead>\n",
       "    <tr style=\"text-align: right;\">\n",
       "      <th></th>\n",
       "      <th>Reference ID</th>\n",
       "      <th>Report Year</th>\n",
       "      <th>Diagnosis Category</th>\n",
       "      <th>Diagnosis Sub Category</th>\n",
       "      <th>Treatment Category</th>\n",
       "      <th>Treatment Sub Category</th>\n",
       "      <th>Determination</th>\n",
       "      <th>Type</th>\n",
       "      <th>Age Range</th>\n",
       "      <th>Patient Gender</th>\n",
       "      <th>Findings</th>\n",
       "    </tr>\n",
       "  </thead>\n",
       "  <tbody>\n",
       "    <tr>\n",
       "      <th>0</th>\n",
       "      <td>MN16-22639</td>\n",
       "      <td>2016</td>\n",
       "      <td>Infectious</td>\n",
       "      <td>Hepatitis</td>\n",
       "      <td>Pharmacy/Prescription Drugs</td>\n",
       "      <td>Anti-virals</td>\n",
       "      <td>Overturned Decision of Health Plan</td>\n",
       "      <td>Medical Necessity</td>\n",
       "      <td>41-50</td>\n",
       "      <td>Male</td>\n",
       "      <td>Nature of Statutory Criteria/Case Summary: An ...</td>\n",
       "    </tr>\n",
       "    <tr>\n",
       "      <th>1</th>\n",
       "      <td>MN16-22638</td>\n",
       "      <td>2016</td>\n",
       "      <td>Mental</td>\n",
       "      <td>Eating Disorder</td>\n",
       "      <td>Mental Health Treatment</td>\n",
       "      <td>Residential Treatment Center - Admission</td>\n",
       "      <td>Upheld Decision of Health Plan</td>\n",
       "      <td>Medical Necessity</td>\n",
       "      <td>21-30</td>\n",
       "      <td>Female</td>\n",
       "      <td>Nature of Statutory Criteria/Case Summary:  An...</td>\n",
       "    </tr>\n",
       "    <tr>\n",
       "      <th>2</th>\n",
       "      <td>MN16-22637</td>\n",
       "      <td>2016</td>\n",
       "      <td>Autism Spectrum</td>\n",
       "      <td>Autism-PDD-NOS</td>\n",
       "      <td>Autism Related Treatment</td>\n",
       "      <td>Speech Therapy</td>\n",
       "      <td>Upheld Decision of Health Plan</td>\n",
       "      <td>Medical Necessity</td>\n",
       "      <td>0-10</td>\n",
       "      <td>Female</td>\n",
       "      <td>Nature of Statutory Criteria/Case Summary:  Th...</td>\n",
       "    </tr>\n",
       "    <tr>\n",
       "      <th>3</th>\n",
       "      <td>EI16-22636</td>\n",
       "      <td>2016</td>\n",
       "      <td>Prevention/Good Health</td>\n",
       "      <td>Unknown</td>\n",
       "      <td>Diagnostic Imaging, Screening and Testing</td>\n",
       "      <td>Mammography</td>\n",
       "      <td>Overturned Decision of Health Plan</td>\n",
       "      <td>Experimental/Investigational</td>\n",
       "      <td>65+</td>\n",
       "      <td>Female</td>\n",
       "      <td>Nature of Statutory Criteria/Case Summary: An ...</td>\n",
       "    </tr>\n",
       "    <tr>\n",
       "      <th>4</th>\n",
       "      <td>EI06-5319</td>\n",
       "      <td>2006</td>\n",
       "      <td>Cardiac/Circulatory</td>\n",
       "      <td>Unknown</td>\n",
       "      <td>Cardio Vascular</td>\n",
       "      <td>Unknown</td>\n",
       "      <td>Upheld Decision of Health Plan</td>\n",
       "      <td>Experimental/Investigational</td>\n",
       "      <td>51-64</td>\n",
       "      <td>Male</td>\n",
       "      <td>Physician 1: The patient is a 62-year-old male...</td>\n",
       "    </tr>\n",
       "    <tr>\n",
       "      <th>...</th>\n",
       "      <td>...</td>\n",
       "      <td>...</td>\n",
       "      <td>...</td>\n",
       "      <td>...</td>\n",
       "      <td>...</td>\n",
       "      <td>...</td>\n",
       "      <td>...</td>\n",
       "      <td>...</td>\n",
       "      <td>...</td>\n",
       "      <td>...</td>\n",
       "      <td>...</td>\n",
       "    </tr>\n",
       "    <tr>\n",
       "      <th>19240</th>\n",
       "      <td>MN01-7</td>\n",
       "      <td>2001</td>\n",
       "      <td>Trauma/Injuries</td>\n",
       "      <td>Gunshot Wound</td>\n",
       "      <td>Neurosugery</td>\n",
       "      <td>Cranioplasty</td>\n",
       "      <td>Overturned Decision of Health Plan</td>\n",
       "      <td>Medical Necessity</td>\n",
       "      <td>11-20</td>\n",
       "      <td>Male</td>\n",
       "      <td>The parents of a 17-year-old male requested a ...</td>\n",
       "    </tr>\n",
       "    <tr>\n",
       "      <th>19241</th>\n",
       "      <td>MN01-6</td>\n",
       "      <td>2001</td>\n",
       "      <td>Infectious</td>\n",
       "      <td>Onychomycosis/ Nail Fungus</td>\n",
       "      <td>Pharmacy/Prescription Drugs</td>\n",
       "      <td>Anti-Fungal</td>\n",
       "      <td>Upheld Decision of Health Plan</td>\n",
       "      <td>Medical Necessity</td>\n",
       "      <td>41-50</td>\n",
       "      <td>Male</td>\n",
       "      <td>A 46-year-old male requested Penlac lacquer fo...</td>\n",
       "    </tr>\n",
       "    <tr>\n",
       "      <th>19242</th>\n",
       "      <td>MN01-5</td>\n",
       "      <td>2001</td>\n",
       "      <td>Orthopedic/ Musculoskeletal</td>\n",
       "      <td>Other</td>\n",
       "      <td>Orthopedic</td>\n",
       "      <td>Arthroscopy</td>\n",
       "      <td>Upheld Decision of Health Plan</td>\n",
       "      <td>Medical Necessity</td>\n",
       "      <td>41-50</td>\n",
       "      <td>Female</td>\n",
       "      <td>A 46-year-old female requested an orthoscopic ...</td>\n",
       "    </tr>\n",
       "    <tr>\n",
       "      <th>19243</th>\n",
       "      <td>MN01-4</td>\n",
       "      <td>2001</td>\n",
       "      <td>Orthopedic/ Musculoskeletal</td>\n",
       "      <td>Back Pain</td>\n",
       "      <td>Reconstructive/Plastic Surgery</td>\n",
       "      <td>Breast Reduction</td>\n",
       "      <td>Overturned Decision of Health Plan</td>\n",
       "      <td>Medical Necessity</td>\n",
       "      <td>21-30</td>\n",
       "      <td>Female</td>\n",
       "      <td>A 24-year-old female requested a bilateral bre...</td>\n",
       "    </tr>\n",
       "    <tr>\n",
       "      <th>19244</th>\n",
       "      <td>EI01-3</td>\n",
       "      <td>2001</td>\n",
       "      <td>Cancer</td>\n",
       "      <td>Lung Cancer</td>\n",
       "      <td>Cancer Treatment</td>\n",
       "      <td>Clinical Trial (Phase 1)</td>\n",
       "      <td>Upheld Decision of Health Plan</td>\n",
       "      <td>Experimental/Investigational</td>\n",
       "      <td>Unknown</td>\n",
       "      <td>Male</td>\n",
       "      <td>A male requested participation in a Phase I st...</td>\n",
       "    </tr>\n",
       "  </tbody>\n",
       "</table>\n",
       "<p>19245 rows × 11 columns</p>\n",
       "</div>"
      ],
      "text/plain": [
       "      Reference ID  Report Year           Diagnosis Category  \\\n",
       "0       MN16-22639         2016                   Infectious   \n",
       "1       MN16-22638         2016                       Mental   \n",
       "2       MN16-22637         2016              Autism Spectrum   \n",
       "3       EI16-22636         2016       Prevention/Good Health   \n",
       "4        EI06-5319         2006          Cardiac/Circulatory   \n",
       "...            ...          ...                          ...   \n",
       "19240       MN01-7         2001              Trauma/Injuries   \n",
       "19241       MN01-6         2001                   Infectious   \n",
       "19242       MN01-5         2001  Orthopedic/ Musculoskeletal   \n",
       "19243       MN01-4         2001  Orthopedic/ Musculoskeletal   \n",
       "19244       EI01-3         2001                       Cancer   \n",
       "\n",
       "           Diagnosis Sub Category                         Treatment Category  \\\n",
       "0                       Hepatitis                Pharmacy/Prescription Drugs   \n",
       "1                 Eating Disorder                    Mental Health Treatment   \n",
       "2                  Autism-PDD-NOS                   Autism Related Treatment   \n",
       "3                         Unknown  Diagnostic Imaging, Screening and Testing   \n",
       "4                         Unknown                            Cardio Vascular   \n",
       "...                           ...                                        ...   \n",
       "19240               Gunshot Wound                                Neurosugery   \n",
       "19241  Onychomycosis/ Nail Fungus                Pharmacy/Prescription Drugs   \n",
       "19242                       Other                                 Orthopedic   \n",
       "19243                   Back Pain             Reconstructive/Plastic Surgery   \n",
       "19244                 Lung Cancer                           Cancer Treatment   \n",
       "\n",
       "                         Treatment Sub Category  \\\n",
       "0                                   Anti-virals   \n",
       "1      Residential Treatment Center - Admission   \n",
       "2                                Speech Therapy   \n",
       "3                                   Mammography   \n",
       "4                                       Unknown   \n",
       "...                                         ...   \n",
       "19240                              Cranioplasty   \n",
       "19241                               Anti-Fungal   \n",
       "19242                               Arthroscopy   \n",
       "19243                          Breast Reduction   \n",
       "19244                  Clinical Trial (Phase 1)   \n",
       "\n",
       "                            Determination                          Type  \\\n",
       "0      Overturned Decision of Health Plan             Medical Necessity   \n",
       "1          Upheld Decision of Health Plan             Medical Necessity   \n",
       "2          Upheld Decision of Health Plan             Medical Necessity   \n",
       "3      Overturned Decision of Health Plan  Experimental/Investigational   \n",
       "4          Upheld Decision of Health Plan  Experimental/Investigational   \n",
       "...                                   ...                           ...   \n",
       "19240  Overturned Decision of Health Plan             Medical Necessity   \n",
       "19241      Upheld Decision of Health Plan             Medical Necessity   \n",
       "19242      Upheld Decision of Health Plan             Medical Necessity   \n",
       "19243  Overturned Decision of Health Plan             Medical Necessity   \n",
       "19244      Upheld Decision of Health Plan  Experimental/Investigational   \n",
       "\n",
       "      Age Range Patient Gender  \\\n",
       "0         41-50           Male   \n",
       "1         21-30         Female   \n",
       "2          0-10         Female   \n",
       "3           65+         Female   \n",
       "4         51-64           Male   \n",
       "...         ...            ...   \n",
       "19240     11-20           Male   \n",
       "19241     41-50           Male   \n",
       "19242     41-50         Female   \n",
       "19243     21-30         Female   \n",
       "19244   Unknown           Male   \n",
       "\n",
       "                                                Findings  \n",
       "0      Nature of Statutory Criteria/Case Summary: An ...  \n",
       "1      Nature of Statutory Criteria/Case Summary:  An...  \n",
       "2      Nature of Statutory Criteria/Case Summary:  Th...  \n",
       "3      Nature of Statutory Criteria/Case Summary: An ...  \n",
       "4      Physician 1: The patient is a 62-year-old male...  \n",
       "...                                                  ...  \n",
       "19240  The parents of a 17-year-old male requested a ...  \n",
       "19241  A 46-year-old male requested Penlac lacquer fo...  \n",
       "19242  A 46-year-old female requested an orthoscopic ...  \n",
       "19243  A 24-year-old female requested a bilateral bre...  \n",
       "19244  A male requested participation in a Phase I st...  \n",
       "\n",
       "[19245 rows x 11 columns]"
      ]
     },
     "execution_count": 39,
     "metadata": {},
     "output_type": "execute_result"
    }
   ],
   "source": [
    "df"
   ]
  },
  {
   "cell_type": "markdown",
   "metadata": {},
   "source": [
    "## check uplicate data"
   ]
  },
  {
   "cell_type": "code",
   "execution_count": 40,
   "metadata": {},
   "outputs": [],
   "source": [
    "duplicate_data = df.duplicated()"
   ]
  },
  {
   "cell_type": "code",
   "execution_count": 41,
   "metadata": {},
   "outputs": [
    {
     "name": "stdout",
     "output_type": "stream",
     "text": [
      "There is no duplicate data\n"
     ]
    }
   ],
   "source": [
    "if duplicate_data.any():\n",
    "    print('duplicate data found')\n",
    "else:\n",
    "    print(\"There is no duplicate data\")"
   ]
  },
  {
   "cell_type": "code",
   "execution_count": 42,
   "metadata": {},
   "outputs": [
    {
     "data": {
      "text/html": [
       "<div>\n",
       "<style scoped>\n",
       "    .dataframe tbody tr th:only-of-type {\n",
       "        vertical-align: middle;\n",
       "    }\n",
       "\n",
       "    .dataframe tbody tr th {\n",
       "        vertical-align: top;\n",
       "    }\n",
       "\n",
       "    .dataframe thead th {\n",
       "        text-align: right;\n",
       "    }\n",
       "</style>\n",
       "<table border=\"1\" class=\"dataframe\">\n",
       "  <thead>\n",
       "    <tr style=\"text-align: right;\">\n",
       "      <th></th>\n",
       "      <th>duplicate_total</th>\n",
       "    </tr>\n",
       "  </thead>\n",
       "  <tbody>\n",
       "    <tr>\n",
       "      <th>Reference ID</th>\n",
       "      <td>0</td>\n",
       "    </tr>\n",
       "    <tr>\n",
       "      <th>Report Year</th>\n",
       "      <td>0</td>\n",
       "    </tr>\n",
       "    <tr>\n",
       "      <th>Diagnosis Category</th>\n",
       "      <td>0</td>\n",
       "    </tr>\n",
       "    <tr>\n",
       "      <th>Diagnosis Sub Category</th>\n",
       "      <td>0</td>\n",
       "    </tr>\n",
       "    <tr>\n",
       "      <th>Treatment Category</th>\n",
       "      <td>0</td>\n",
       "    </tr>\n",
       "    <tr>\n",
       "      <th>Treatment Sub Category</th>\n",
       "      <td>0</td>\n",
       "    </tr>\n",
       "    <tr>\n",
       "      <th>Determination</th>\n",
       "      <td>0</td>\n",
       "    </tr>\n",
       "    <tr>\n",
       "      <th>Type</th>\n",
       "      <td>0</td>\n",
       "    </tr>\n",
       "    <tr>\n",
       "      <th>Age Range</th>\n",
       "      <td>0</td>\n",
       "    </tr>\n",
       "    <tr>\n",
       "      <th>Patient Gender</th>\n",
       "      <td>0</td>\n",
       "    </tr>\n",
       "    <tr>\n",
       "      <th>Findings</th>\n",
       "      <td>0</td>\n",
       "    </tr>\n",
       "  </tbody>\n",
       "</table>\n",
       "</div>"
      ],
      "text/plain": [
       "                        duplicate_total\n",
       "Reference ID                          0\n",
       "Report Year                           0\n",
       "Diagnosis Category                    0\n",
       "Diagnosis Sub Category                0\n",
       "Treatment Category                    0\n",
       "Treatment Sub Category                0\n",
       "Determination                         0\n",
       "Type                                  0\n",
       "Age Range                             0\n",
       "Patient Gender                        0\n",
       "Findings                              0"
      ]
     },
     "execution_count": 42,
     "metadata": {},
     "output_type": "execute_result"
    }
   ],
   "source": [
    "duplicated_data = pd.DataFrame(df.loc[df.duplicated()].count())\n",
    "duplicated_data.columns = ['duplicate_total']\n",
    "duplicated_data"
   ]
  },
  {
   "cell_type": "markdown",
   "metadata": {},
   "source": [
    "# Bar chart visualization for categorical variable"
   ]
  },
  {
   "cell_type": "code",
   "execution_count": 43,
   "metadata": {},
   "outputs": [
    {
     "data": {
      "image/png": "[encoded data removed]",
      "text/plain": [
       "<Figure size 1500x500 with 3 Axes>"
      ]
     },
     "metadata": {},
     "output_type": "display_data"
    }
   ],
   "source": [
    "# listing categorical variables columns\n",
    "cate_columns = ['Type','Age Range','Patient Gender']\n",
    "\n",
    "fig, axs = plt.subplots(1, 3, figsize=(15, 5))\n",
    "\n",
    "cmap = plt.cm.get_cmap('cool')\n",
    "\n",
    "# looping through each columns\n",
    "\n",
    "for i, col in enumerate(cate_columns):\n",
    "    # group the data by column and counting the number of occurances of each value\n",
    "    counts = df[col].value_counts()\n",
    "    #total rows\n",
    "    total_rows = len(df)\n",
    "    #percentage of each rows\n",
    "    percent = (counts/total_rows) *100\n",
    "    #creating bar in corresponding subplot\n",
    "    axs[i].bar(counts.index,counts.values,color=cmap(i/len(cate_columns)))\n",
    "    axs[i].set_title(col)\n",
    "    axs[i].set_xlabel('Values')\n",
    "    axs[i].set_ylabel('Count')\n",
    "\n",
    "    #rotate the x axis label\n",
    "    plt.setp(axs[i].get_xticklabels(),rotation=45,ha='right')\n",
    "\n",
    "    #adding annotation on each bar\n",
    "    for j, count in enumerate(counts):\n",
    "        pc = percent[j]\n",
    "        axs[i].text(counts.index[j],count + 0.02 * total_rows, f'{count}\\n{pc:.2f}%',ha='center', va='top')\n",
    "\n",
    "#show plot\n",
    "plt.show()"
   ]
  },
  {
   "cell_type": "markdown",
   "metadata": {},
   "source": [
    "# Show genderwise distribution"
   ]
  },
  {
   "cell_type": "code",
   "execution_count": 44,
   "metadata": {},
   "outputs": [
    {
     "data": {
      "image/png": "[encoded data removed]",
      "text/plain": [
       "<Figure size 1600x400 with 3 Axes>"
      ]
     },
     "metadata": {},
     "output_type": "display_data"
    }
   ],
   "source": [
    "fig, ax = plt.subplots(1,3)\n",
    "fig.set_size_inches(16,4)\n",
    "\n",
    "fig.suptitle('Gender and Type Distribution')\n",
    "\n",
    "d = df.groupby([ 'Type','Patient Gender']).size()\n",
    "p = d.unstack(level=1).plot(kind='bar', ax=ax[0],rot=45,fontsize=10)\n",
    "\n",
    "d = df.groupby(['Age Range','Patient Gender']).size()\n",
    "p = d.unstack(level=1).plot(kind='barh', ax=ax[1],fontsize=10)\n",
    "\n",
    "d = df.groupby(['Age Range','Type',]).size()\n",
    "p = d.unstack(level=1).plot(kind='bar', ax=ax[2],rot=45,fontsize=10)"
   ]
  },
  {
   "cell_type": "markdown",
   "metadata": {},
   "source": [
    "## Analyzing diagnosis, treatment, patient gender and age range"
   ]
  },
  {
   "cell_type": "code",
   "execution_count": 45,
   "metadata": {},
   "outputs": [],
   "source": [
    "year_wise_request_by_age = df.groupby(['Report Year','Age Range']).size().reset_index(name = \"Number of request\")"
   ]
  },
  {
   "cell_type": "code",
   "execution_count": 46,
   "metadata": {},
   "outputs": [],
   "source": [
    "year_wise_request_by_age.columns = ['Report Year','Category','Number of request']"
   ]
  },
  {
   "cell_type": "code",
   "execution_count": 47,
   "metadata": {},
   "outputs": [
    {
     "data": {
      "text/html": [
       "<div>\n",
       "<style scoped>\n",
       "    .dataframe tbody tr th:only-of-type {\n",
       "        vertical-align: middle;\n",
       "    }\n",
       "\n",
       "    .dataframe tbody tr th {\n",
       "        vertical-align: top;\n",
       "    }\n",
       "\n",
       "    .dataframe thead th {\n",
       "        text-align: right;\n",
       "    }\n",
       "</style>\n",
       "<table border=\"1\" class=\"dataframe\">\n",
       "  <thead>\n",
       "    <tr style=\"text-align: right;\">\n",
       "      <th></th>\n",
       "      <th>Report Year</th>\n",
       "      <th>Category</th>\n",
       "      <th>Number of request</th>\n",
       "    </tr>\n",
       "  </thead>\n",
       "  <tbody>\n",
       "    <tr>\n",
       "      <th>0</th>\n",
       "      <td>2001</td>\n",
       "      <td>0-10</td>\n",
       "      <td>32</td>\n",
       "    </tr>\n",
       "    <tr>\n",
       "      <th>1</th>\n",
       "      <td>2001</td>\n",
       "      <td>11-20</td>\n",
       "      <td>33</td>\n",
       "    </tr>\n",
       "    <tr>\n",
       "      <th>2</th>\n",
       "      <td>2001</td>\n",
       "      <td>21-30</td>\n",
       "      <td>33</td>\n",
       "    </tr>\n",
       "    <tr>\n",
       "      <th>3</th>\n",
       "      <td>2001</td>\n",
       "      <td>31-40</td>\n",
       "      <td>95</td>\n",
       "    </tr>\n",
       "    <tr>\n",
       "      <th>4</th>\n",
       "      <td>2001</td>\n",
       "      <td>41-50</td>\n",
       "      <td>153</td>\n",
       "    </tr>\n",
       "    <tr>\n",
       "      <th>...</th>\n",
       "      <td>...</td>\n",
       "      <td>...</td>\n",
       "      <td>...</td>\n",
       "    </tr>\n",
       "    <tr>\n",
       "      <th>109</th>\n",
       "      <td>2016</td>\n",
       "      <td>21-30</td>\n",
       "      <td>107</td>\n",
       "    </tr>\n",
       "    <tr>\n",
       "      <th>110</th>\n",
       "      <td>2016</td>\n",
       "      <td>31-40</td>\n",
       "      <td>131</td>\n",
       "    </tr>\n",
       "    <tr>\n",
       "      <th>111</th>\n",
       "      <td>2016</td>\n",
       "      <td>41-50</td>\n",
       "      <td>235</td>\n",
       "    </tr>\n",
       "    <tr>\n",
       "      <th>112</th>\n",
       "      <td>2016</td>\n",
       "      <td>51-64</td>\n",
       "      <td>611</td>\n",
       "    </tr>\n",
       "    <tr>\n",
       "      <th>113</th>\n",
       "      <td>2016</td>\n",
       "      <td>65+</td>\n",
       "      <td>57</td>\n",
       "    </tr>\n",
       "  </tbody>\n",
       "</table>\n",
       "<p>114 rows × 3 columns</p>\n",
       "</div>"
      ],
      "text/plain": [
       "     Report Year Category  Number of request\n",
       "0           2001     0-10                 32\n",
       "1           2001    11-20                 33\n",
       "2           2001    21-30                 33\n",
       "3           2001    31-40                 95\n",
       "4           2001    41-50                153\n",
       "..           ...      ...                ...\n",
       "109         2016    21-30                107\n",
       "110         2016    31-40                131\n",
       "111         2016    41-50                235\n",
       "112         2016    51-64                611\n",
       "113         2016      65+                 57\n",
       "\n",
       "[114 rows x 3 columns]"
      ]
     },
     "execution_count": 47,
     "metadata": {},
     "output_type": "execute_result"
    }
   ],
   "source": [
    "year_wise_request_by_age"
   ]
  },
  {
   "cell_type": "code",
   "execution_count": 48,
   "metadata": {},
   "outputs": [],
   "source": [
    "year_wise_request_by_gender = df.groupby(['Report Year','Patient Gender']).size().reset_index(name = \"Number of request\")"
   ]
  },
  {
   "cell_type": "code",
   "execution_count": 49,
   "metadata": {},
   "outputs": [],
   "source": [
    "year_wise_request_by_gender.columns = ['Report Year','Category','Number of request']"
   ]
  },
  {
   "cell_type": "code",
   "execution_count": 50,
   "metadata": {},
   "outputs": [
    {
     "data": {
      "text/html": [
       "<div>\n",
       "<style scoped>\n",
       "    .dataframe tbody tr th:only-of-type {\n",
       "        vertical-align: middle;\n",
       "    }\n",
       "\n",
       "    .dataframe tbody tr th {\n",
       "        vertical-align: top;\n",
       "    }\n",
       "\n",
       "    .dataframe thead th {\n",
       "        text-align: right;\n",
       "    }\n",
       "</style>\n",
       "<table border=\"1\" class=\"dataframe\">\n",
       "  <thead>\n",
       "    <tr style=\"text-align: right;\">\n",
       "      <th></th>\n",
       "      <th>Report Year</th>\n",
       "      <th>Category</th>\n",
       "      <th>Number of request</th>\n",
       "    </tr>\n",
       "  </thead>\n",
       "  <tbody>\n",
       "    <tr>\n",
       "      <th>0</th>\n",
       "      <td>2001</td>\n",
       "      <td>Female</td>\n",
       "      <td>327</td>\n",
       "    </tr>\n",
       "    <tr>\n",
       "      <th>1</th>\n",
       "      <td>2001</td>\n",
       "      <td>Male</td>\n",
       "      <td>223</td>\n",
       "    </tr>\n",
       "    <tr>\n",
       "      <th>2</th>\n",
       "      <td>2001</td>\n",
       "      <td>Unknown</td>\n",
       "      <td>1</td>\n",
       "    </tr>\n",
       "    <tr>\n",
       "      <th>3</th>\n",
       "      <td>2002</td>\n",
       "      <td>Female</td>\n",
       "      <td>429</td>\n",
       "    </tr>\n",
       "    <tr>\n",
       "      <th>4</th>\n",
       "      <td>2002</td>\n",
       "      <td>Male</td>\n",
       "      <td>260</td>\n",
       "    </tr>\n",
       "    <tr>\n",
       "      <th>5</th>\n",
       "      <td>2002</td>\n",
       "      <td>Unknown</td>\n",
       "      <td>2</td>\n",
       "    </tr>\n",
       "    <tr>\n",
       "      <th>6</th>\n",
       "      <td>2003</td>\n",
       "      <td>Female</td>\n",
       "      <td>458</td>\n",
       "    </tr>\n",
       "    <tr>\n",
       "      <th>7</th>\n",
       "      <td>2003</td>\n",
       "      <td>Male</td>\n",
       "      <td>281</td>\n",
       "    </tr>\n",
       "    <tr>\n",
       "      <th>8</th>\n",
       "      <td>2004</td>\n",
       "      <td>Female</td>\n",
       "      <td>504</td>\n",
       "    </tr>\n",
       "    <tr>\n",
       "      <th>9</th>\n",
       "      <td>2004</td>\n",
       "      <td>Male</td>\n",
       "      <td>274</td>\n",
       "    </tr>\n",
       "    <tr>\n",
       "      <th>10</th>\n",
       "      <td>2005</td>\n",
       "      <td>Female</td>\n",
       "      <td>552</td>\n",
       "    </tr>\n",
       "    <tr>\n",
       "      <th>11</th>\n",
       "      <td>2005</td>\n",
       "      <td>Male</td>\n",
       "      <td>413</td>\n",
       "    </tr>\n",
       "    <tr>\n",
       "      <th>12</th>\n",
       "      <td>2006</td>\n",
       "      <td>Female</td>\n",
       "      <td>640</td>\n",
       "    </tr>\n",
       "    <tr>\n",
       "      <th>13</th>\n",
       "      <td>2006</td>\n",
       "      <td>Male</td>\n",
       "      <td>442</td>\n",
       "    </tr>\n",
       "    <tr>\n",
       "      <th>14</th>\n",
       "      <td>2007</td>\n",
       "      <td>Female</td>\n",
       "      <td>773</td>\n",
       "    </tr>\n",
       "    <tr>\n",
       "      <th>15</th>\n",
       "      <td>2007</td>\n",
       "      <td>Male</td>\n",
       "      <td>570</td>\n",
       "    </tr>\n",
       "    <tr>\n",
       "      <th>16</th>\n",
       "      <td>2008</td>\n",
       "      <td>Female</td>\n",
       "      <td>888</td>\n",
       "    </tr>\n",
       "    <tr>\n",
       "      <th>17</th>\n",
       "      <td>2008</td>\n",
       "      <td>Male</td>\n",
       "      <td>631</td>\n",
       "    </tr>\n",
       "    <tr>\n",
       "      <th>18</th>\n",
       "      <td>2009</td>\n",
       "      <td>Female</td>\n",
       "      <td>823</td>\n",
       "    </tr>\n",
       "    <tr>\n",
       "      <th>19</th>\n",
       "      <td>2009</td>\n",
       "      <td>Male</td>\n",
       "      <td>618</td>\n",
       "    </tr>\n",
       "    <tr>\n",
       "      <th>20</th>\n",
       "      <td>2010</td>\n",
       "      <td>Female</td>\n",
       "      <td>845</td>\n",
       "    </tr>\n",
       "    <tr>\n",
       "      <th>21</th>\n",
       "      <td>2010</td>\n",
       "      <td>Male</td>\n",
       "      <td>597</td>\n",
       "    </tr>\n",
       "    <tr>\n",
       "      <th>22</th>\n",
       "      <td>2011</td>\n",
       "      <td>Female</td>\n",
       "      <td>734</td>\n",
       "    </tr>\n",
       "    <tr>\n",
       "      <th>23</th>\n",
       "      <td>2011</td>\n",
       "      <td>Male</td>\n",
       "      <td>711</td>\n",
       "    </tr>\n",
       "    <tr>\n",
       "      <th>24</th>\n",
       "      <td>2012</td>\n",
       "      <td>Female</td>\n",
       "      <td>668</td>\n",
       "    </tr>\n",
       "    <tr>\n",
       "      <th>25</th>\n",
       "      <td>2012</td>\n",
       "      <td>Male</td>\n",
       "      <td>538</td>\n",
       "    </tr>\n",
       "    <tr>\n",
       "      <th>26</th>\n",
       "      <td>2013</td>\n",
       "      <td>Female</td>\n",
       "      <td>718</td>\n",
       "    </tr>\n",
       "    <tr>\n",
       "      <th>27</th>\n",
       "      <td>2013</td>\n",
       "      <td>Male</td>\n",
       "      <td>504</td>\n",
       "    </tr>\n",
       "    <tr>\n",
       "      <th>28</th>\n",
       "      <td>2014</td>\n",
       "      <td>Female</td>\n",
       "      <td>805</td>\n",
       "    </tr>\n",
       "    <tr>\n",
       "      <th>29</th>\n",
       "      <td>2014</td>\n",
       "      <td>Male</td>\n",
       "      <td>627</td>\n",
       "    </tr>\n",
       "    <tr>\n",
       "      <th>30</th>\n",
       "      <td>2015</td>\n",
       "      <td>Female</td>\n",
       "      <td>1171</td>\n",
       "    </tr>\n",
       "    <tr>\n",
       "      <th>31</th>\n",
       "      <td>2015</td>\n",
       "      <td>Male</td>\n",
       "      <td>911</td>\n",
       "    </tr>\n",
       "    <tr>\n",
       "      <th>32</th>\n",
       "      <td>2016</td>\n",
       "      <td>Female</td>\n",
       "      <td>802</td>\n",
       "    </tr>\n",
       "    <tr>\n",
       "      <th>33</th>\n",
       "      <td>2016</td>\n",
       "      <td>Male</td>\n",
       "      <td>505</td>\n",
       "    </tr>\n",
       "  </tbody>\n",
       "</table>\n",
       "</div>"
      ],
      "text/plain": [
       "    Report Year Category  Number of request\n",
       "0          2001   Female                327\n",
       "1          2001     Male                223\n",
       "2          2001  Unknown                  1\n",
       "3          2002   Female                429\n",
       "4          2002     Male                260\n",
       "5          2002  Unknown                  2\n",
       "6          2003   Female                458\n",
       "7          2003     Male                281\n",
       "8          2004   Female                504\n",
       "9          2004     Male                274\n",
       "10         2005   Female                552\n",
       "11         2005     Male                413\n",
       "12         2006   Female                640\n",
       "13         2006     Male                442\n",
       "14         2007   Female                773\n",
       "15         2007     Male                570\n",
       "16         2008   Female                888\n",
       "17         2008     Male                631\n",
       "18         2009   Female                823\n",
       "19         2009     Male                618\n",
       "20         2010   Female                845\n",
       "21         2010     Male                597\n",
       "22         2011   Female                734\n",
       "23         2011     Male                711\n",
       "24         2012   Female                668\n",
       "25         2012     Male                538\n",
       "26         2013   Female                718\n",
       "27         2013     Male                504\n",
       "28         2014   Female                805\n",
       "29         2014     Male                627\n",
       "30         2015   Female               1171\n",
       "31         2015     Male                911\n",
       "32         2016   Female                802\n",
       "33         2016     Male                505"
      ]
     },
     "execution_count": 50,
     "metadata": {},
     "output_type": "execute_result"
    }
   ],
   "source": [
    "year_wise_request_by_gender "
   ]
  },
  {
   "cell_type": "code",
   "execution_count": 51,
   "metadata": {},
   "outputs": [],
   "source": [
    "year_wise_request_by_type= df.groupby(['Report Year','Type']).size().reset_index(name = \"Number of request\")"
   ]
  },
  {
   "cell_type": "code",
   "execution_count": 52,
   "metadata": {},
   "outputs": [
    {
     "data": {
      "text/html": [
       "<div>\n",
       "<style scoped>\n",
       "    .dataframe tbody tr th:only-of-type {\n",
       "        vertical-align: middle;\n",
       "    }\n",
       "\n",
       "    .dataframe tbody tr th {\n",
       "        vertical-align: top;\n",
       "    }\n",
       "\n",
       "    .dataframe thead th {\n",
       "        text-align: right;\n",
       "    }\n",
       "</style>\n",
       "<table border=\"1\" class=\"dataframe\">\n",
       "  <thead>\n",
       "    <tr style=\"text-align: right;\">\n",
       "      <th></th>\n",
       "      <th>Report Year</th>\n",
       "      <th>Type</th>\n",
       "      <th>Number of request</th>\n",
       "    </tr>\n",
       "  </thead>\n",
       "  <tbody>\n",
       "    <tr>\n",
       "      <th>0</th>\n",
       "      <td>2001</td>\n",
       "      <td>Experimental/Investigational</td>\n",
       "      <td>144</td>\n",
       "    </tr>\n",
       "    <tr>\n",
       "      <th>1</th>\n",
       "      <td>2001</td>\n",
       "      <td>Medical Necessity</td>\n",
       "      <td>407</td>\n",
       "    </tr>\n",
       "    <tr>\n",
       "      <th>2</th>\n",
       "      <td>2002</td>\n",
       "      <td>Experimental/Investigational</td>\n",
       "      <td>135</td>\n",
       "    </tr>\n",
       "    <tr>\n",
       "      <th>3</th>\n",
       "      <td>2002</td>\n",
       "      <td>Medical Necessity</td>\n",
       "      <td>554</td>\n",
       "    </tr>\n",
       "    <tr>\n",
       "      <th>4</th>\n",
       "      <td>2002</td>\n",
       "      <td>Urgent Care</td>\n",
       "      <td>2</td>\n",
       "    </tr>\n",
       "    <tr>\n",
       "      <th>5</th>\n",
       "      <td>2003</td>\n",
       "      <td>Experimental/Investigational</td>\n",
       "      <td>147</td>\n",
       "    </tr>\n",
       "    <tr>\n",
       "      <th>6</th>\n",
       "      <td>2003</td>\n",
       "      <td>Medical Necessity</td>\n",
       "      <td>592</td>\n",
       "    </tr>\n",
       "    <tr>\n",
       "      <th>7</th>\n",
       "      <td>2004</td>\n",
       "      <td>Experimental/Investigational</td>\n",
       "      <td>131</td>\n",
       "    </tr>\n",
       "    <tr>\n",
       "      <th>8</th>\n",
       "      <td>2004</td>\n",
       "      <td>Medical Necessity</td>\n",
       "      <td>647</td>\n",
       "    </tr>\n",
       "    <tr>\n",
       "      <th>9</th>\n",
       "      <td>2005</td>\n",
       "      <td>Experimental/Investigational</td>\n",
       "      <td>214</td>\n",
       "    </tr>\n",
       "    <tr>\n",
       "      <th>10</th>\n",
       "      <td>2005</td>\n",
       "      <td>Medical Necessity</td>\n",
       "      <td>751</td>\n",
       "    </tr>\n",
       "    <tr>\n",
       "      <th>11</th>\n",
       "      <td>2006</td>\n",
       "      <td>Experimental/Investigational</td>\n",
       "      <td>232</td>\n",
       "    </tr>\n",
       "    <tr>\n",
       "      <th>12</th>\n",
       "      <td>2006</td>\n",
       "      <td>Medical Necessity</td>\n",
       "      <td>850</td>\n",
       "    </tr>\n",
       "    <tr>\n",
       "      <th>13</th>\n",
       "      <td>2007</td>\n",
       "      <td>Experimental/Investigational</td>\n",
       "      <td>363</td>\n",
       "    </tr>\n",
       "    <tr>\n",
       "      <th>14</th>\n",
       "      <td>2007</td>\n",
       "      <td>Medical Necessity</td>\n",
       "      <td>980</td>\n",
       "    </tr>\n",
       "    <tr>\n",
       "      <th>15</th>\n",
       "      <td>2008</td>\n",
       "      <td>Experimental/Investigational</td>\n",
       "      <td>429</td>\n",
       "    </tr>\n",
       "    <tr>\n",
       "      <th>16</th>\n",
       "      <td>2008</td>\n",
       "      <td>Medical Necessity</td>\n",
       "      <td>969</td>\n",
       "    </tr>\n",
       "    <tr>\n",
       "      <th>17</th>\n",
       "      <td>2008</td>\n",
       "      <td>Urgent Care</td>\n",
       "      <td>121</td>\n",
       "    </tr>\n",
       "    <tr>\n",
       "      <th>18</th>\n",
       "      <td>2009</td>\n",
       "      <td>Experimental/Investigational</td>\n",
       "      <td>436</td>\n",
       "    </tr>\n",
       "    <tr>\n",
       "      <th>19</th>\n",
       "      <td>2009</td>\n",
       "      <td>Medical Necessity</td>\n",
       "      <td>941</td>\n",
       "    </tr>\n",
       "    <tr>\n",
       "      <th>20</th>\n",
       "      <td>2009</td>\n",
       "      <td>Urgent Care</td>\n",
       "      <td>64</td>\n",
       "    </tr>\n",
       "    <tr>\n",
       "      <th>21</th>\n",
       "      <td>2010</td>\n",
       "      <td>Experimental/Investigational</td>\n",
       "      <td>459</td>\n",
       "    </tr>\n",
       "    <tr>\n",
       "      <th>22</th>\n",
       "      <td>2010</td>\n",
       "      <td>Medical Necessity</td>\n",
       "      <td>916</td>\n",
       "    </tr>\n",
       "    <tr>\n",
       "      <th>23</th>\n",
       "      <td>2010</td>\n",
       "      <td>Urgent Care</td>\n",
       "      <td>67</td>\n",
       "    </tr>\n",
       "    <tr>\n",
       "      <th>24</th>\n",
       "      <td>2011</td>\n",
       "      <td>Experimental/Investigational</td>\n",
       "      <td>378</td>\n",
       "    </tr>\n",
       "    <tr>\n",
       "      <th>25</th>\n",
       "      <td>2011</td>\n",
       "      <td>Medical Necessity</td>\n",
       "      <td>1025</td>\n",
       "    </tr>\n",
       "    <tr>\n",
       "      <th>26</th>\n",
       "      <td>2011</td>\n",
       "      <td>Urgent Care</td>\n",
       "      <td>42</td>\n",
       "    </tr>\n",
       "    <tr>\n",
       "      <th>27</th>\n",
       "      <td>2012</td>\n",
       "      <td>Experimental/Investigational</td>\n",
       "      <td>321</td>\n",
       "    </tr>\n",
       "    <tr>\n",
       "      <th>28</th>\n",
       "      <td>2012</td>\n",
       "      <td>Medical Necessity</td>\n",
       "      <td>843</td>\n",
       "    </tr>\n",
       "    <tr>\n",
       "      <th>29</th>\n",
       "      <td>2012</td>\n",
       "      <td>Urgent Care</td>\n",
       "      <td>42</td>\n",
       "    </tr>\n",
       "    <tr>\n",
       "      <th>30</th>\n",
       "      <td>2013</td>\n",
       "      <td>Experimental/Investigational</td>\n",
       "      <td>298</td>\n",
       "    </tr>\n",
       "    <tr>\n",
       "      <th>31</th>\n",
       "      <td>2013</td>\n",
       "      <td>Medical Necessity</td>\n",
       "      <td>883</td>\n",
       "    </tr>\n",
       "    <tr>\n",
       "      <th>32</th>\n",
       "      <td>2013</td>\n",
       "      <td>Urgent Care</td>\n",
       "      <td>41</td>\n",
       "    </tr>\n",
       "    <tr>\n",
       "      <th>33</th>\n",
       "      <td>2014</td>\n",
       "      <td>Experimental/Investigational</td>\n",
       "      <td>422</td>\n",
       "    </tr>\n",
       "    <tr>\n",
       "      <th>34</th>\n",
       "      <td>2014</td>\n",
       "      <td>Medical Necessity</td>\n",
       "      <td>969</td>\n",
       "    </tr>\n",
       "    <tr>\n",
       "      <th>35</th>\n",
       "      <td>2014</td>\n",
       "      <td>Urgent Care</td>\n",
       "      <td>41</td>\n",
       "    </tr>\n",
       "    <tr>\n",
       "      <th>36</th>\n",
       "      <td>2015</td>\n",
       "      <td>Experimental/Investigational</td>\n",
       "      <td>590</td>\n",
       "    </tr>\n",
       "    <tr>\n",
       "      <th>37</th>\n",
       "      <td>2015</td>\n",
       "      <td>Medical Necessity</td>\n",
       "      <td>1440</td>\n",
       "    </tr>\n",
       "    <tr>\n",
       "      <th>38</th>\n",
       "      <td>2015</td>\n",
       "      <td>Urgent Care</td>\n",
       "      <td>52</td>\n",
       "    </tr>\n",
       "    <tr>\n",
       "      <th>39</th>\n",
       "      <td>2016</td>\n",
       "      <td>Experimental/Investigational</td>\n",
       "      <td>468</td>\n",
       "    </tr>\n",
       "    <tr>\n",
       "      <th>40</th>\n",
       "      <td>2016</td>\n",
       "      <td>Medical Necessity</td>\n",
       "      <td>821</td>\n",
       "    </tr>\n",
       "    <tr>\n",
       "      <th>41</th>\n",
       "      <td>2016</td>\n",
       "      <td>Urgent Care</td>\n",
       "      <td>18</td>\n",
       "    </tr>\n",
       "  </tbody>\n",
       "</table>\n",
       "</div>"
      ],
      "text/plain": [
       "    Report Year                          Type  Number of request\n",
       "0          2001  Experimental/Investigational                144\n",
       "1          2001             Medical Necessity                407\n",
       "2          2002  Experimental/Investigational                135\n",
       "3          2002             Medical Necessity                554\n",
       "4          2002                   Urgent Care                  2\n",
       "5          2003  Experimental/Investigational                147\n",
       "6          2003             Medical Necessity                592\n",
       "7          2004  Experimental/Investigational                131\n",
       "8          2004             Medical Necessity                647\n",
       "9          2005  Experimental/Investigational                214\n",
       "10         2005             Medical Necessity                751\n",
       "11         2006  Experimental/Investigational                232\n",
       "12         2006             Medical Necessity                850\n",
       "13         2007  Experimental/Investigational                363\n",
       "14         2007             Medical Necessity                980\n",
       "15         2008  Experimental/Investigational                429\n",
       "16         2008             Medical Necessity                969\n",
       "17         2008                   Urgent Care                121\n",
       "18         2009  Experimental/Investigational                436\n",
       "19         2009             Medical Necessity                941\n",
       "20         2009                   Urgent Care                 64\n",
       "21         2010  Experimental/Investigational                459\n",
       "22         2010             Medical Necessity                916\n",
       "23         2010                   Urgent Care                 67\n",
       "24         2011  Experimental/Investigational                378\n",
       "25         2011             Medical Necessity               1025\n",
       "26         2011                   Urgent Care                 42\n",
       "27         2012  Experimental/Investigational                321\n",
       "28         2012             Medical Necessity                843\n",
       "29         2012                   Urgent Care                 42\n",
       "30         2013  Experimental/Investigational                298\n",
       "31         2013             Medical Necessity                883\n",
       "32         2013                   Urgent Care                 41\n",
       "33         2014  Experimental/Investigational                422\n",
       "34         2014             Medical Necessity                969\n",
       "35         2014                   Urgent Care                 41\n",
       "36         2015  Experimental/Investigational                590\n",
       "37         2015             Medical Necessity               1440\n",
       "38         2015                   Urgent Care                 52\n",
       "39         2016  Experimental/Investigational                468\n",
       "40         2016             Medical Necessity                821\n",
       "41         2016                   Urgent Care                 18"
      ]
     },
     "execution_count": 52,
     "metadata": {},
     "output_type": "execute_result"
    }
   ],
   "source": [
    "year_wise_request_by_type"
   ]
  },
  {
   "cell_type": "code",
   "execution_count": 53,
   "metadata": {},
   "outputs": [],
   "source": [
    "year_wise_request_by_type.columns = ['Report Year','Category','Number of request']"
   ]
  },
  {
   "cell_type": "code",
   "execution_count": 54,
   "metadata": {},
   "outputs": [
    {
     "data": {
      "text/html": [
       "<div>\n",
       "<style scoped>\n",
       "    .dataframe tbody tr th:only-of-type {\n",
       "        vertical-align: middle;\n",
       "    }\n",
       "\n",
       "    .dataframe tbody tr th {\n",
       "        vertical-align: top;\n",
       "    }\n",
       "\n",
       "    .dataframe thead th {\n",
       "        text-align: right;\n",
       "    }\n",
       "</style>\n",
       "<table border=\"1\" class=\"dataframe\">\n",
       "  <thead>\n",
       "    <tr style=\"text-align: right;\">\n",
       "      <th></th>\n",
       "      <th>Report Year</th>\n",
       "      <th>Category</th>\n",
       "      <th>Number of request</th>\n",
       "    </tr>\n",
       "  </thead>\n",
       "  <tbody>\n",
       "    <tr>\n",
       "      <th>0</th>\n",
       "      <td>2001</td>\n",
       "      <td>Experimental/Investigational</td>\n",
       "      <td>144</td>\n",
       "    </tr>\n",
       "    <tr>\n",
       "      <th>1</th>\n",
       "      <td>2001</td>\n",
       "      <td>Medical Necessity</td>\n",
       "      <td>407</td>\n",
       "    </tr>\n",
       "    <tr>\n",
       "      <th>2</th>\n",
       "      <td>2002</td>\n",
       "      <td>Experimental/Investigational</td>\n",
       "      <td>135</td>\n",
       "    </tr>\n",
       "    <tr>\n",
       "      <th>3</th>\n",
       "      <td>2002</td>\n",
       "      <td>Medical Necessity</td>\n",
       "      <td>554</td>\n",
       "    </tr>\n",
       "    <tr>\n",
       "      <th>4</th>\n",
       "      <td>2002</td>\n",
       "      <td>Urgent Care</td>\n",
       "      <td>2</td>\n",
       "    </tr>\n",
       "    <tr>\n",
       "      <th>5</th>\n",
       "      <td>2003</td>\n",
       "      <td>Experimental/Investigational</td>\n",
       "      <td>147</td>\n",
       "    </tr>\n",
       "    <tr>\n",
       "      <th>6</th>\n",
       "      <td>2003</td>\n",
       "      <td>Medical Necessity</td>\n",
       "      <td>592</td>\n",
       "    </tr>\n",
       "    <tr>\n",
       "      <th>7</th>\n",
       "      <td>2004</td>\n",
       "      <td>Experimental/Investigational</td>\n",
       "      <td>131</td>\n",
       "    </tr>\n",
       "    <tr>\n",
       "      <th>8</th>\n",
       "      <td>2004</td>\n",
       "      <td>Medical Necessity</td>\n",
       "      <td>647</td>\n",
       "    </tr>\n",
       "    <tr>\n",
       "      <th>9</th>\n",
       "      <td>2005</td>\n",
       "      <td>Experimental/Investigational</td>\n",
       "      <td>214</td>\n",
       "    </tr>\n",
       "    <tr>\n",
       "      <th>10</th>\n",
       "      <td>2005</td>\n",
       "      <td>Medical Necessity</td>\n",
       "      <td>751</td>\n",
       "    </tr>\n",
       "    <tr>\n",
       "      <th>11</th>\n",
       "      <td>2006</td>\n",
       "      <td>Experimental/Investigational</td>\n",
       "      <td>232</td>\n",
       "    </tr>\n",
       "    <tr>\n",
       "      <th>12</th>\n",
       "      <td>2006</td>\n",
       "      <td>Medical Necessity</td>\n",
       "      <td>850</td>\n",
       "    </tr>\n",
       "    <tr>\n",
       "      <th>13</th>\n",
       "      <td>2007</td>\n",
       "      <td>Experimental/Investigational</td>\n",
       "      <td>363</td>\n",
       "    </tr>\n",
       "    <tr>\n",
       "      <th>14</th>\n",
       "      <td>2007</td>\n",
       "      <td>Medical Necessity</td>\n",
       "      <td>980</td>\n",
       "    </tr>\n",
       "    <tr>\n",
       "      <th>15</th>\n",
       "      <td>2008</td>\n",
       "      <td>Experimental/Investigational</td>\n",
       "      <td>429</td>\n",
       "    </tr>\n",
       "    <tr>\n",
       "      <th>16</th>\n",
       "      <td>2008</td>\n",
       "      <td>Medical Necessity</td>\n",
       "      <td>969</td>\n",
       "    </tr>\n",
       "    <tr>\n",
       "      <th>17</th>\n",
       "      <td>2008</td>\n",
       "      <td>Urgent Care</td>\n",
       "      <td>121</td>\n",
       "    </tr>\n",
       "    <tr>\n",
       "      <th>18</th>\n",
       "      <td>2009</td>\n",
       "      <td>Experimental/Investigational</td>\n",
       "      <td>436</td>\n",
       "    </tr>\n",
       "    <tr>\n",
       "      <th>19</th>\n",
       "      <td>2009</td>\n",
       "      <td>Medical Necessity</td>\n",
       "      <td>941</td>\n",
       "    </tr>\n",
       "    <tr>\n",
       "      <th>20</th>\n",
       "      <td>2009</td>\n",
       "      <td>Urgent Care</td>\n",
       "      <td>64</td>\n",
       "    </tr>\n",
       "    <tr>\n",
       "      <th>21</th>\n",
       "      <td>2010</td>\n",
       "      <td>Experimental/Investigational</td>\n",
       "      <td>459</td>\n",
       "    </tr>\n",
       "    <tr>\n",
       "      <th>22</th>\n",
       "      <td>2010</td>\n",
       "      <td>Medical Necessity</td>\n",
       "      <td>916</td>\n",
       "    </tr>\n",
       "    <tr>\n",
       "      <th>23</th>\n",
       "      <td>2010</td>\n",
       "      <td>Urgent Care</td>\n",
       "      <td>67</td>\n",
       "    </tr>\n",
       "    <tr>\n",
       "      <th>24</th>\n",
       "      <td>2011</td>\n",
       "      <td>Experimental/Investigational</td>\n",
       "      <td>378</td>\n",
       "    </tr>\n",
       "    <tr>\n",
       "      <th>25</th>\n",
       "      <td>2011</td>\n",
       "      <td>Medical Necessity</td>\n",
       "      <td>1025</td>\n",
       "    </tr>\n",
       "    <tr>\n",
       "      <th>26</th>\n",
       "      <td>2011</td>\n",
       "      <td>Urgent Care</td>\n",
       "      <td>42</td>\n",
       "    </tr>\n",
       "    <tr>\n",
       "      <th>27</th>\n",
       "      <td>2012</td>\n",
       "      <td>Experimental/Investigational</td>\n",
       "      <td>321</td>\n",
       "    </tr>\n",
       "    <tr>\n",
       "      <th>28</th>\n",
       "      <td>2012</td>\n",
       "      <td>Medical Necessity</td>\n",
       "      <td>843</td>\n",
       "    </tr>\n",
       "    <tr>\n",
       "      <th>29</th>\n",
       "      <td>2012</td>\n",
       "      <td>Urgent Care</td>\n",
       "      <td>42</td>\n",
       "    </tr>\n",
       "    <tr>\n",
       "      <th>30</th>\n",
       "      <td>2013</td>\n",
       "      <td>Experimental/Investigational</td>\n",
       "      <td>298</td>\n",
       "    </tr>\n",
       "    <tr>\n",
       "      <th>31</th>\n",
       "      <td>2013</td>\n",
       "      <td>Medical Necessity</td>\n",
       "      <td>883</td>\n",
       "    </tr>\n",
       "    <tr>\n",
       "      <th>32</th>\n",
       "      <td>2013</td>\n",
       "      <td>Urgent Care</td>\n",
       "      <td>41</td>\n",
       "    </tr>\n",
       "    <tr>\n",
       "      <th>33</th>\n",
       "      <td>2014</td>\n",
       "      <td>Experimental/Investigational</td>\n",
       "      <td>422</td>\n",
       "    </tr>\n",
       "    <tr>\n",
       "      <th>34</th>\n",
       "      <td>2014</td>\n",
       "      <td>Medical Necessity</td>\n",
       "      <td>969</td>\n",
       "    </tr>\n",
       "    <tr>\n",
       "      <th>35</th>\n",
       "      <td>2014</td>\n",
       "      <td>Urgent Care</td>\n",
       "      <td>41</td>\n",
       "    </tr>\n",
       "    <tr>\n",
       "      <th>36</th>\n",
       "      <td>2015</td>\n",
       "      <td>Experimental/Investigational</td>\n",
       "      <td>590</td>\n",
       "    </tr>\n",
       "    <tr>\n",
       "      <th>37</th>\n",
       "      <td>2015</td>\n",
       "      <td>Medical Necessity</td>\n",
       "      <td>1440</td>\n",
       "    </tr>\n",
       "    <tr>\n",
       "      <th>38</th>\n",
       "      <td>2015</td>\n",
       "      <td>Urgent Care</td>\n",
       "      <td>52</td>\n",
       "    </tr>\n",
       "    <tr>\n",
       "      <th>39</th>\n",
       "      <td>2016</td>\n",
       "      <td>Experimental/Investigational</td>\n",
       "      <td>468</td>\n",
       "    </tr>\n",
       "    <tr>\n",
       "      <th>40</th>\n",
       "      <td>2016</td>\n",
       "      <td>Medical Necessity</td>\n",
       "      <td>821</td>\n",
       "    </tr>\n",
       "    <tr>\n",
       "      <th>41</th>\n",
       "      <td>2016</td>\n",
       "      <td>Urgent Care</td>\n",
       "      <td>18</td>\n",
       "    </tr>\n",
       "  </tbody>\n",
       "</table>\n",
       "</div>"
      ],
      "text/plain": [
       "    Report Year                      Category  Number of request\n",
       "0          2001  Experimental/Investigational                144\n",
       "1          2001             Medical Necessity                407\n",
       "2          2002  Experimental/Investigational                135\n",
       "3          2002             Medical Necessity                554\n",
       "4          2002                   Urgent Care                  2\n",
       "5          2003  Experimental/Investigational                147\n",
       "6          2003             Medical Necessity                592\n",
       "7          2004  Experimental/Investigational                131\n",
       "8          2004             Medical Necessity                647\n",
       "9          2005  Experimental/Investigational                214\n",
       "10         2005             Medical Necessity                751\n",
       "11         2006  Experimental/Investigational                232\n",
       "12         2006             Medical Necessity                850\n",
       "13         2007  Experimental/Investigational                363\n",
       "14         2007             Medical Necessity                980\n",
       "15         2008  Experimental/Investigational                429\n",
       "16         2008             Medical Necessity                969\n",
       "17         2008                   Urgent Care                121\n",
       "18         2009  Experimental/Investigational                436\n",
       "19         2009             Medical Necessity                941\n",
       "20         2009                   Urgent Care                 64\n",
       "21         2010  Experimental/Investigational                459\n",
       "22         2010             Medical Necessity                916\n",
       "23         2010                   Urgent Care                 67\n",
       "24         2011  Experimental/Investigational                378\n",
       "25         2011             Medical Necessity               1025\n",
       "26         2011                   Urgent Care                 42\n",
       "27         2012  Experimental/Investigational                321\n",
       "28         2012             Medical Necessity                843\n",
       "29         2012                   Urgent Care                 42\n",
       "30         2013  Experimental/Investigational                298\n",
       "31         2013             Medical Necessity                883\n",
       "32         2013                   Urgent Care                 41\n",
       "33         2014  Experimental/Investigational                422\n",
       "34         2014             Medical Necessity                969\n",
       "35         2014                   Urgent Care                 41\n",
       "36         2015  Experimental/Investigational                590\n",
       "37         2015             Medical Necessity               1440\n",
       "38         2015                   Urgent Care                 52\n",
       "39         2016  Experimental/Investigational                468\n",
       "40         2016             Medical Necessity                821\n",
       "41         2016                   Urgent Care                 18"
      ]
     },
     "execution_count": 54,
     "metadata": {},
     "output_type": "execute_result"
    }
   ],
   "source": [
    "year_wise_request_by_type"
   ]
  },
  {
   "cell_type": "markdown",
   "metadata": {},
   "source": [
    "### function to generate plots based on report year"
   ]
  },
  {
   "cell_type": "code",
   "execution_count": 55,
   "metadata": {},
   "outputs": [],
   "source": [
    "import plotly.express as px"
   ]
  },
  {
   "cell_type": "code",
   "execution_count": 56,
   "metadata": {},
   "outputs": [],
   "source": [
    "def plot_graph(temp_df, title):\n",
    "    hover_data = {\n",
    "        'Report Year': True,\n",
    "        'Number of request': True,\n",
    "        'Category': True\n",
    "    }\n",
    "    \n",
    "    fig = px.line(temp_df, x= 'Report Year',y = 'Number of request',color= 'Category',hover_data= hover_data, markers=True)\n",
    "\n",
    "    fig.update_layout(title = title)\n",
    "\n",
    "    return fig"
   ]
  },
  {
   "cell_type": "code",
   "execution_count": 57,
   "metadata": {},
   "outputs": [],
   "source": [
    "data = [year_wise_request_by_age, year_wise_request_by_gender, year_wise_request_by_type]"
   ]
  },
  {
   "cell_type": "code",
   "execution_count": 58,
   "metadata": {},
   "outputs": [
    {
     "data": {
      "text/html": [
       "<div>\n",
       "<style scoped>\n",
       "    .dataframe tbody tr th:only-of-type {\n",
       "        vertical-align: middle;\n",
       "    }\n",
       "\n",
       "    .dataframe tbody tr th {\n",
       "        vertical-align: top;\n",
       "    }\n",
       "\n",
       "    .dataframe thead th {\n",
       "        text-align: right;\n",
       "    }\n",
       "</style>\n",
       "<table border=\"1\" class=\"dataframe\">\n",
       "  <thead>\n",
       "    <tr style=\"text-align: right;\">\n",
       "      <th></th>\n",
       "      <th>Report Year</th>\n",
       "      <th>Category</th>\n",
       "      <th>Number of request</th>\n",
       "    </tr>\n",
       "  </thead>\n",
       "  <tbody>\n",
       "    <tr>\n",
       "      <th>0</th>\n",
       "      <td>2001</td>\n",
       "      <td>0-10</td>\n",
       "      <td>32</td>\n",
       "    </tr>\n",
       "    <tr>\n",
       "      <th>1</th>\n",
       "      <td>2001</td>\n",
       "      <td>11-20</td>\n",
       "      <td>33</td>\n",
       "    </tr>\n",
       "    <tr>\n",
       "      <th>2</th>\n",
       "      <td>2001</td>\n",
       "      <td>21-30</td>\n",
       "      <td>33</td>\n",
       "    </tr>\n",
       "    <tr>\n",
       "      <th>3</th>\n",
       "      <td>2001</td>\n",
       "      <td>31-40</td>\n",
       "      <td>95</td>\n",
       "    </tr>\n",
       "    <tr>\n",
       "      <th>4</th>\n",
       "      <td>2001</td>\n",
       "      <td>41-50</td>\n",
       "      <td>153</td>\n",
       "    </tr>\n",
       "    <tr>\n",
       "      <th>...</th>\n",
       "      <td>...</td>\n",
       "      <td>...</td>\n",
       "      <td>...</td>\n",
       "    </tr>\n",
       "    <tr>\n",
       "      <th>109</th>\n",
       "      <td>2016</td>\n",
       "      <td>21-30</td>\n",
       "      <td>107</td>\n",
       "    </tr>\n",
       "    <tr>\n",
       "      <th>110</th>\n",
       "      <td>2016</td>\n",
       "      <td>31-40</td>\n",
       "      <td>131</td>\n",
       "    </tr>\n",
       "    <tr>\n",
       "      <th>111</th>\n",
       "      <td>2016</td>\n",
       "      <td>41-50</td>\n",
       "      <td>235</td>\n",
       "    </tr>\n",
       "    <tr>\n",
       "      <th>112</th>\n",
       "      <td>2016</td>\n",
       "      <td>51-64</td>\n",
       "      <td>611</td>\n",
       "    </tr>\n",
       "    <tr>\n",
       "      <th>113</th>\n",
       "      <td>2016</td>\n",
       "      <td>65+</td>\n",
       "      <td>57</td>\n",
       "    </tr>\n",
       "  </tbody>\n",
       "</table>\n",
       "<p>114 rows × 3 columns</p>\n",
       "</div>"
      ],
      "text/plain": [
       "     Report Year Category  Number of request\n",
       "0           2001     0-10                 32\n",
       "1           2001    11-20                 33\n",
       "2           2001    21-30                 33\n",
       "3           2001    31-40                 95\n",
       "4           2001    41-50                153\n",
       "..           ...      ...                ...\n",
       "109         2016    21-30                107\n",
       "110         2016    31-40                131\n",
       "111         2016    41-50                235\n",
       "112         2016    51-64                611\n",
       "113         2016      65+                 57\n",
       "\n",
       "[114 rows x 3 columns]"
      ]
     },
     "execution_count": 58,
     "metadata": {},
     "output_type": "execute_result"
    }
   ],
   "source": [
    "year_wise_request_by_age"
   ]
  },
  {
   "cell_type": "code",
   "execution_count": 59,
   "metadata": {},
   "outputs": [],
   "source": [
    "titles = ['Requests by age','Requests by gender','Requests by type']"
   ]
  },
  {
   "cell_type": "code",
   "execution_count": 60,
   "metadata": {},
   "outputs": [
    {
     "data": {
      "application/vnd.plotly.v1+json": {
       "config": {
        "plotlyServerURL": "https://plot.ly"
       },
       "data": [
        {
         "customdata": [
          [
           "0-10"
          ],
          [
           "0-10"
          ],
          [
           "0-10"
          ],
          [
           "0-10"
          ],
          [
           "0-10"
          ],
          [
           "0-10"
          ],
          [
           "0-10"
          ],
          [
           "0-10"
          ],
          [
           "0-10"
          ],
          [
           "0-10"
          ],
          [
           "0-10"
          ],
          [
           "0-10"
          ],
          [
           "0-10"
          ],
          [
           "0-10"
          ],
          [
           "0-10"
          ],
          [
           "0-10"
          ]
         ],
         "hovertemplate": "Category=%{customdata[0]}<br>Report Year=%{x}<br>Number of request=%{y}<extra></extra>",
         "legendgroup": "0-10",
         "line": {
          "color": "#636efa",
          "dash": "solid"
         },
         "marker": {
          "symbol": "circle"
         },
         "mode": "markers+lines",
         "name": "0-10",
         "orientation": "v",
         "showlegend": true,
         "type": "scatter",
         "x": [
          2001,
          2002,
          2003,
          2004,
          2005,
          2006,
          2007,
          2008,
          2009,
          2010,
          2011,
          2012,
          2013,
          2014,
          2015,
          2016
         ],
         "xaxis": "x",
         "y": [
          32,
          28,
          48,
          44,
          68,
          78,
          122,
          148,
          152,
          188,
          370,
          204,
          109,
          107,
          86,
          45
         ],
         "yaxis": "y"
        },
        {
         "customdata": [
          [
           "11-20"
          ],
          [
           "11-20"
          ],
          [
           "11-20"
          ],
          [
           "11-20"
          ],
          [
           "11-20"
          ],
          [
           "11-20"
          ],
          [
           "11-20"
          ],
          [
           "11-20"
          ],
          [
           "11-20"
          ],
          [
           "11-20"
          ],
          [
           "11-20"
          ],
          [
           "11-20"
          ],
          [
           "11-20"
          ],
          [
           "11-20"
          ],
          [
           "11-20"
          ],
          [
           "11-20"
          ]
         ],
         "hovertemplate": "Category=%{customdata[0]}<br>Report Year=%{x}<br>Number of request=%{y}<extra></extra>",
         "legendgroup": "11-20",
         "line": {
          "color": "#EF553B",
          "dash": "solid"
         },
         "marker": {
          "symbol": "circle"
         },
         "mode": "markers+lines",
         "name": "11-20",
         "orientation": "v",
         "showlegend": true,
         "type": "scatter",
         "x": [
          2001,
          2002,
          2003,
          2004,
          2005,
          2006,
          2007,
          2008,
          2009,
          2010,
          2011,
          2012,
          2013,
          2014,
          2015,
          2016
         ],
         "xaxis": "x",
         "y": [
          33,
          61,
          58,
          78,
          104,
          106,
          150,
          163,
          160,
          151,
          134,
          142,
          149,
          182,
          176,
          121
         ],
         "yaxis": "y"
        },
        {
         "customdata": [
          [
           "21-30"
          ],
          [
           "21-30"
          ],
          [
           "21-30"
          ],
          [
           "21-30"
          ],
          [
           "21-30"
          ],
          [
           "21-30"
          ],
          [
           "21-30"
          ],
          [
           "21-30"
          ],
          [
           "21-30"
          ],
          [
           "21-30"
          ],
          [
           "21-30"
          ],
          [
           "21-30"
          ],
          [
           "21-30"
          ],
          [
           "21-30"
          ],
          [
           "21-30"
          ],
          [
           "21-30"
          ]
         ],
         "hovertemplate": "Category=%{customdata[0]}<br>Report Year=%{x}<br>Number of request=%{y}<extra></extra>",
         "legendgroup": "21-30",
         "line": {
          "color": "#00cc96",
          "dash": "solid"
         },
         "marker": {
          "symbol": "circle"
         },
         "mode": "markers+lines",
         "name": "21-30",
         "orientation": "v",
         "showlegend": true,
         "type": "scatter",
         "x": [
          2001,
          2002,
          2003,
          2004,
          2005,
          2006,
          2007,
          2008,
          2009,
          2010,
          2011,
          2012,
          2013,
          2014,
          2015,
          2016
         ],
         "xaxis": "x",
         "y": [
          33,
          53,
          73,
          51,
          50,
          76,
          86,
          119,
          113,
          111,
          104,
          123,
          124,
          149,
          163,
          107
         ],
         "yaxis": "y"
        },
        {
         "customdata": [
          [
           "31-40"
          ],
          [
           "31-40"
          ],
          [
           "31-40"
          ],
          [
           "31-40"
          ],
          [
           "31-40"
          ],
          [
           "31-40"
          ],
          [
           "31-40"
          ],
          [
           "31-40"
          ],
          [
           "31-40"
          ],
          [
           "31-40"
          ],
          [
           "31-40"
          ],
          [
           "31-40"
          ],
          [
           "31-40"
          ],
          [
           "31-40"
          ],
          [
           "31-40"
          ],
          [
           "31-40"
          ]
         ],
         "hovertemplate": "Category=%{customdata[0]}<br>Report Year=%{x}<br>Number of request=%{y}<extra></extra>",
         "legendgroup": "31-40",
         "line": {
          "color": "#ab63fa",
          "dash": "solid"
         },
         "marker": {
          "symbol": "circle"
         },
         "mode": "markers+lines",
         "name": "31-40",
         "orientation": "v",
         "showlegend": true,
         "type": "scatter",
         "x": [
          2001,
          2002,
          2003,
          2004,
          2005,
          2006,
          2007,
          2008,
          2009,
          2010,
          2011,
          2012,
          2013,
          2014,
          2015,
          2016
         ],
         "xaxis": "x",
         "y": [
          95,
          107,
          128,
          128,
          144,
          117,
          163,
          202,
          155,
          186,
          115,
          100,
          130,
          169,
          210,
          131
         ],
         "yaxis": "y"
        },
        {
         "customdata": [
          [
           "41-50"
          ],
          [
           "41-50"
          ],
          [
           "41-50"
          ],
          [
           "41-50"
          ],
          [
           "41-50"
          ],
          [
           "41-50"
          ],
          [
           "41-50"
          ],
          [
           "41-50"
          ],
          [
           "41-50"
          ],
          [
           "41-50"
          ],
          [
           "41-50"
          ],
          [
           "41-50"
          ],
          [
           "41-50"
          ],
          [
           "41-50"
          ],
          [
           "41-50"
          ],
          [
           "41-50"
          ]
         ],
         "hovertemplate": "Category=%{customdata[0]}<br>Report Year=%{x}<br>Number of request=%{y}<extra></extra>",
         "legendgroup": "41-50",
         "line": {
          "color": "#FFA15A",
          "dash": "solid"
         },
         "marker": {
          "symbol": "circle"
         },
         "mode": "markers+lines",
         "name": "41-50",
         "orientation": "v",
         "showlegend": true,
         "type": "scatter",
         "x": [
          2001,
          2002,
          2003,
          2004,
          2005,
          2006,
          2007,
          2008,
          2009,
          2010,
          2011,
          2012,
          2013,
          2014,
          2015,
          2016
         ],
         "xaxis": "x",
         "y": [
          153,
          165,
          185,
          193,
          231,
          258,
          275,
          312,
          275,
          265,
          238,
          217,
          237,
          255,
          347,
          235
         ],
         "yaxis": "y"
        },
        {
         "customdata": [
          [
           "51-64"
          ],
          [
           "51-64"
          ],
          [
           "51-64"
          ],
          [
           "51-64"
          ],
          [
           "51-64"
          ],
          [
           "51-64"
          ],
          [
           "51-64"
          ],
          [
           "51-64"
          ],
          [
           "51-64"
          ],
          [
           "51-64"
          ],
          [
           "51-64"
          ],
          [
           "51-64"
          ],
          [
           "51-64"
          ],
          [
           "51-64"
          ],
          [
           "51-64"
          ],
          [
           "51-64"
          ]
         ],
         "hovertemplate": "Category=%{customdata[0]}<br>Report Year=%{x}<br>Number of request=%{y}<extra></extra>",
         "legendgroup": "51-64",
         "line": {
          "color": "#19d3f3",
          "dash": "solid"
         },
         "marker": {
          "symbol": "circle"
         },
         "mode": "markers+lines",
         "name": "51-64",
         "orientation": "v",
         "showlegend": true,
         "type": "scatter",
         "x": [
          2001,
          2002,
          2003,
          2004,
          2005,
          2006,
          2007,
          2008,
          2009,
          2010,
          2011,
          2012,
          2013,
          2014,
          2015,
          2016
         ],
         "xaxis": "x",
         "y": [
          170,
          210,
          228,
          264,
          338,
          405,
          495,
          518,
          529,
          474,
          425,
          376,
          429,
          518,
          996,
          611
         ],
         "yaxis": "y"
        },
        {
         "customdata": [
          [
           "65+"
          ],
          [
           "65+"
          ],
          [
           "65+"
          ],
          [
           "65+"
          ],
          [
           "65+"
          ],
          [
           "65+"
          ],
          [
           "65+"
          ],
          [
           "65+"
          ],
          [
           "65+"
          ],
          [
           "65+"
          ],
          [
           "65+"
          ],
          [
           "65+"
          ],
          [
           "65+"
          ],
          [
           "65+"
          ],
          [
           "65+"
          ],
          [
           "65+"
          ]
         ],
         "hovertemplate": "Category=%{customdata[0]}<br>Report Year=%{x}<br>Number of request=%{y}<extra></extra>",
         "legendgroup": "65+",
         "line": {
          "color": "#FF6692",
          "dash": "solid"
         },
         "marker": {
          "symbol": "circle"
         },
         "mode": "markers+lines",
         "name": "65+",
         "orientation": "v",
         "showlegend": true,
         "type": "scatter",
         "x": [
          2001,
          2002,
          2003,
          2004,
          2005,
          2006,
          2007,
          2008,
          2009,
          2010,
          2011,
          2012,
          2013,
          2014,
          2015,
          2016
         ],
         "xaxis": "x",
         "y": [
          11,
          19,
          19,
          20,
          30,
          42,
          52,
          57,
          57,
          67,
          59,
          44,
          44,
          52,
          104,
          57
         ],
         "yaxis": "y"
        },
        {
         "customdata": [
          [
           "Unknown"
          ],
          [
           "Unknown"
          ]
         ],
         "hovertemplate": "Category=%{customdata[0]}<br>Report Year=%{x}<br>Number of request=%{y}<extra></extra>",
         "legendgroup": "Unknown",
         "line": {
          "color": "#B6E880",
          "dash": "solid"
         },
         "marker": {
          "symbol": "circle"
         },
         "mode": "markers+lines",
         "name": "Unknown",
         "orientation": "v",
         "showlegend": true,
         "type": "scatter",
         "x": [
          2001,
          2002
         ],
         "xaxis": "x",
         "y": [
          24,
          48
         ],
         "yaxis": "y"
        }
       ],
       "layout": {
        "legend": {
         "title": {
          "text": "Category"
         },
         "tracegroupgap": 0
        },
        "margin": {
         "t": 60
        },
        "template": {
         "data": {
          "bar": [
           {
            "error_x": {
             "color": "#2a3f5f"
            },
            "error_y": {
             "color": "#2a3f5f"
            },
            "marker": {
             "line": {
              "color": "#E5ECF6",
              "width": 0.5
             },
             "pattern": {
              "fillmode": "overlay",
              "size": 10,
              "solidity": 0.2
             }
            },
            "type": "bar"
           }
          ],
          "barpolar": [
           {
            "marker": {
             "line": {
              "color": "#E5ECF6",
              "width": 0.5
             },
             "pattern": {
              "fillmode": "overlay",
              "size": 10,
              "solidity": 0.2
             }
            },
            "type": "barpolar"
           }
          ],
          "carpet": [
           {
            "aaxis": {
             "endlinecolor": "#2a3f5f",
             "gridcolor": "white",
             "linecolor": "white",
             "minorgridcolor": "white",
             "startlinecolor": "#2a3f5f"
            },
            "baxis": {
             "endlinecolor": "#2a3f5f",
             "gridcolor": "white",
             "linecolor": "white",
             "minorgridcolor": "white",
             "startlinecolor": "#2a3f5f"
            },
            "type": "carpet"
           }
          ],
          "choropleth": [
           {
            "colorbar": {
             "outlinewidth": 0,
             "ticks": ""
            },
            "type": "choropleth"
           }
          ],
          "contour": [
           {
            "colorbar": {
             "outlinewidth": 0,
             "ticks": ""
            },
            "colorscale": [
             [
              0,
              "#0d0887"
             ],
             [
              0.1111111111111111,
              "#46039f"
             ],
             [
              0.2222222222222222,
              "#7201a8"
             ],
             [
              0.3333333333333333,
              "#9c179e"
             ],
             [
              0.4444444444444444,
              "#bd3786"
             ],
             [
              0.5555555555555556,
              "#d8576b"
             ],
             [
              0.6666666666666666,
              "#ed7953"
             ],
             [
              0.7777777777777778,
              "#fb9f3a"
             ],
             [
              0.8888888888888888,
              "#fdca26"
             ],
             [
              1,
              "#f0f921"
             ]
            ],
            "type": "contour"
           }
          ],
          "contourcarpet": [
           {
            "colorbar": {
             "outlinewidth": 0,
             "ticks": ""
            },
            "type": "contourcarpet"
           }
          ],
          "heatmap": [
           {
            "colorbar": {
             "outlinewidth": 0,
             "ticks": ""
            },
            "colorscale": [
             [
              0,
              "#0d0887"
             ],
             [
              0.1111111111111111,
              "#46039f"
             ],
             [
              0.2222222222222222,
              "#7201a8"
             ],
             [
              0.3333333333333333,
              "#9c179e"
             ],
             [
              0.4444444444444444,
              "#bd3786"
             ],
             [
              0.5555555555555556,
              "#d8576b"
             ],
             [
              0.6666666666666666,
              "#ed7953"
             ],
             [
              0.7777777777777778,
              "#fb9f3a"
             ],
             [
              0.8888888888888888,
              "#fdca26"
             ],
             [
              1,
              "#f0f921"
             ]
            ],
            "type": "heatmap"
           }
          ],
          "heatmapgl": [
           {
            "colorbar": {
             "outlinewidth": 0,
             "ticks": ""
            },
            "colorscale": [
             [
              0,
              "#0d0887"
             ],
             [
              0.1111111111111111,
              "#46039f"
             ],
             [
              0.2222222222222222,
              "#7201a8"
             ],
             [
              0.3333333333333333,
              "#9c179e"
             ],
             [
              0.4444444444444444,
              "#bd3786"
             ],
             [
              0.5555555555555556,
              "#d8576b"
             ],
             [
              0.6666666666666666,
              "#ed7953"
             ],
             [
              0.7777777777777778,
              "#fb9f3a"
             ],
             [
              0.8888888888888888,
              "#fdca26"
             ],
             [
              1,
              "#f0f921"
             ]
            ],
            "type": "heatmapgl"
           }
          ],
          "histogram": [
           {
            "marker": {
             "pattern": {
              "fillmode": "overlay",
              "size": 10,
              "solidity": 0.2
             }
            },
            "type": "histogram"
           }
          ],
          "histogram2d": [
           {
            "colorbar": {
             "outlinewidth": 0,
             "ticks": ""
            },
            "colorscale": [
             [
              0,
              "#0d0887"
             ],
             [
              0.1111111111111111,
              "#46039f"
             ],
             [
              0.2222222222222222,
              "#7201a8"
             ],
             [
              0.3333333333333333,
              "#9c179e"
             ],
             [
              0.4444444444444444,
              "#bd3786"
             ],
             [
              0.5555555555555556,
              "#d8576b"
             ],
             [
              0.6666666666666666,
              "#ed7953"
             ],
             [
              0.7777777777777778,
              "#fb9f3a"
             ],
             [
              0.8888888888888888,
              "#fdca26"
             ],
             [
              1,
              "#f0f921"
             ]
            ],
            "type": "histogram2d"
           }
          ],
          "histogram2dcontour": [
           {
            "colorbar": {
             "outlinewidth": 0,
             "ticks": ""
            },
            "colorscale": [
             [
              0,
              "#0d0887"
             ],
             [
              0.1111111111111111,
              "#46039f"
             ],
             [
              0.2222222222222222,
              "#7201a8"
             ],
             [
              0.3333333333333333,
              "#9c179e"
             ],
             [
              0.4444444444444444,
              "#bd3786"
             ],
             [
              0.5555555555555556,
              "#d8576b"
             ],
             [
              0.6666666666666666,
              "#ed7953"
             ],
             [
              0.7777777777777778,
              "#fb9f3a"
             ],
             [
              0.8888888888888888,
              "#fdca26"
             ],
             [
              1,
              "#f0f921"
             ]
            ],
            "type": "histogram2dcontour"
           }
          ],
          "mesh3d": [
           {
            "colorbar": {
             "outlinewidth": 0,
             "ticks": ""
            },
            "type": "mesh3d"
           }
          ],
          "parcoords": [
           {
            "line": {
             "colorbar": {
              "outlinewidth": 0,
              "ticks": ""
             }
            },
            "type": "parcoords"
           }
          ],
          "pie": [
           {
            "automargin": true,
            "type": "pie"
           }
          ],
          "scatter": [
           {
            "marker": {
             "colorbar": {
              "outlinewidth": 0,
              "ticks": ""
             }
            },
            "type": "scatter"
           }
          ],
          "scatter3d": [
           {
            "line": {
             "colorbar": {
              "outlinewidth": 0,
              "ticks": ""
             }
            },
            "marker": {
             "colorbar": {
              "outlinewidth": 0,
              "ticks": ""
             }
            },
            "type": "scatter3d"
           }
          ],
          "scattercarpet": [
           {
            "marker": {
             "colorbar": {
              "outlinewidth": 0,
              "ticks": ""
             }
            },
            "type": "scattercarpet"
           }
          ],
          "scattergeo": [
           {
            "marker": {
             "colorbar": {
              "outlinewidth": 0,
              "ticks": ""
             }
            },
            "type": "scattergeo"
           }
          ],
          "scattergl": [
           {
            "marker": {
             "colorbar": {
              "outlinewidth": 0,
              "ticks": ""
             }
            },
            "type": "scattergl"
           }
          ],
          "scattermapbox": [
           {
            "marker": {
             "colorbar": {
              "outlinewidth": 0,
              "ticks": ""
             }
            },
            "type": "scattermapbox"
           }
          ],
          "scatterpolar": [
           {
            "marker": {
             "colorbar": {
              "outlinewidth": 0,
              "ticks": ""
             }
            },
            "type": "scatterpolar"
           }
          ],
          "scatterpolargl": [
           {
            "marker": {
             "colorbar": {
              "outlinewidth": 0,
              "ticks": ""
             }
            },
            "type": "scatterpolargl"
           }
          ],
          "scatterternary": [
           {
            "marker": {
             "colorbar": {
              "outlinewidth": 0,
              "ticks": ""
             }
            },
            "type": "scatterternary"
           }
          ],
          "surface": [
           {
            "colorbar": {
             "outlinewidth": 0,
             "ticks": ""
            },
            "colorscale": [
             [
              0,
              "#0d0887"
             ],
             [
              0.1111111111111111,
              "#46039f"
             ],
             [
              0.2222222222222222,
              "#7201a8"
             ],
             [
              0.3333333333333333,
              "#9c179e"
             ],
             [
              0.4444444444444444,
              "#bd3786"
             ],
             [
              0.5555555555555556,
              "#d8576b"
             ],
             [
              0.6666666666666666,
              "#ed7953"
             ],
             [
              0.7777777777777778,
              "#fb9f3a"
             ],
             [
              0.8888888888888888,
              "#fdca26"
             ],
             [
              1,
              "#f0f921"
             ]
            ],
            "type": "surface"
           }
          ],
          "table": [
           {
            "cells": {
             "fill": {
              "color": "#EBF0F8"
             },
             "line": {
              "color": "white"
             }
            },
            "header": {
             "fill": {
              "color": "#C8D4E3"
             },
             "line": {
              "color": "white"
             }
            },
            "type": "table"
           }
          ]
         },
         "layout": {
          "annotationdefaults": {
           "arrowcolor": "#2a3f5f",
           "arrowhead": 0,
           "arrowwidth": 1
          },
          "autotypenumbers": "strict",
          "coloraxis": {
           "colorbar": {
            "outlinewidth": 0,
            "ticks": ""
           }
          },
          "colorscale": {
           "diverging": [
            [
             0,
             "#8e0152"
            ],
            [
             0.1,
             "#c51b7d"
            ],
            [
             0.2,
             "#de77ae"
            ],
            [
             0.3,
             "#f1b6da"
            ],
            [
             0.4,
             "#fde0ef"
            ],
            [
             0.5,
             "#f7f7f7"
            ],
            [
             0.6,
             "#e6f5d0"
            ],
            [
             0.7,
             "#b8e186"
            ],
            [
             0.8,
             "#7fbc41"
            ],
            [
             0.9,
             "#4d9221"
            ],
            [
             1,
             "#276419"
            ]
           ],
           "sequential": [
            [
             0,
             "#0d0887"
            ],
            [
             0.1111111111111111,
             "#46039f"
            ],
            [
             0.2222222222222222,
             "#7201a8"
            ],
            [
             0.3333333333333333,
             "#9c179e"
            ],
            [
             0.4444444444444444,
             "#bd3786"
            ],
            [
             0.5555555555555556,
             "#d8576b"
            ],
            [
             0.6666666666666666,
             "#ed7953"
            ],
            [
             0.7777777777777778,
             "#fb9f3a"
            ],
            [
             0.8888888888888888,
             "#fdca26"
            ],
            [
             1,
             "#f0f921"
            ]
           ],
           "sequentialminus": [
            [
             0,
             "#0d0887"
            ],
            [
             0.1111111111111111,
             "#46039f"
            ],
            [
             0.2222222222222222,
             "#7201a8"
            ],
            [
             0.3333333333333333,
             "#9c179e"
            ],
            [
             0.4444444444444444,
             "#bd3786"
            ],
            [
             0.5555555555555556,
             "#d8576b"
            ],
            [
             0.6666666666666666,
             "#ed7953"
            ],
            [
             0.7777777777777778,
             "#fb9f3a"
            ],
            [
             0.8888888888888888,
             "#fdca26"
            ],
            [
             1,
             "#f0f921"
            ]
           ]
          },
          "colorway": [
           "#636efa",
           "#EF553B",
           "#00cc96",
           "#ab63fa",
           "#FFA15A",
           "#19d3f3",
           "#FF6692",
           "#B6E880",
           "#FF97FF",
           "#FECB52"
          ],
          "font": {
           "color": "#2a3f5f"
          },
          "geo": {
           "bgcolor": "white",
           "lakecolor": "white",
           "landcolor": "#E5ECF6",
           "showlakes": true,
           "showland": true,
           "subunitcolor": "white"
          },
          "hoverlabel": {
           "align": "left"
          },
          "hovermode": "closest",
          "mapbox": {
           "style": "light"
          },
          "paper_bgcolor": "white",
          "plot_bgcolor": "#E5ECF6",
          "polar": {
           "angularaxis": {
            "gridcolor": "white",
            "linecolor": "white",
            "ticks": ""
           },
           "bgcolor": "#E5ECF6",
           "radialaxis": {
            "gridcolor": "white",
            "linecolor": "white",
            "ticks": ""
           }
          },
          "scene": {
           "xaxis": {
            "backgroundcolor": "#E5ECF6",
            "gridcolor": "white",
            "gridwidth": 2,
            "linecolor": "white",
            "showbackground": true,
            "ticks": "",
            "zerolinecolor": "white"
           },
           "yaxis": {
            "backgroundcolor": "#E5ECF6",
            "gridcolor": "white",
            "gridwidth": 2,
            "linecolor": "white",
            "showbackground": true,
            "ticks": "",
            "zerolinecolor": "white"
           },
           "zaxis": {
            "backgroundcolor": "#E5ECF6",
            "gridcolor": "white",
            "gridwidth": 2,
            "linecolor": "white",
            "showbackground": true,
            "ticks": "",
            "zerolinecolor": "white"
           }
          },
          "shapedefaults": {
           "line": {
            "color": "#2a3f5f"
           }
          },
          "ternary": {
           "aaxis": {
            "gridcolor": "white",
            "linecolor": "white",
            "ticks": ""
           },
           "baxis": {
            "gridcolor": "white",
            "linecolor": "white",
            "ticks": ""
           },
           "bgcolor": "#E5ECF6",
           "caxis": {
            "gridcolor": "white",
            "linecolor": "white",
            "ticks": ""
           }
          },
          "title": {
           "x": 0.05
          },
          "xaxis": {
           "automargin": true,
           "gridcolor": "white",
           "linecolor": "white",
           "ticks": "",
           "title": {
            "standoff": 15
           },
           "zerolinecolor": "white",
           "zerolinewidth": 2
          },
          "yaxis": {
           "automargin": true,
           "gridcolor": "white",
           "linecolor": "white",
           "ticks": "",
           "title": {
            "standoff": 15
           },
           "zerolinecolor": "white",
           "zerolinewidth": 2
          }
         }
        },
        "title": {
         "text": "Requests by age"
        },
        "xaxis": {
         "anchor": "y",
         "domain": [
          0,
          1
         ],
         "title": {
          "text": "Report Year"
         }
        },
        "yaxis": {
         "anchor": "x",
         "domain": [
          0,
          1
         ],
         "title": {
          "text": "Number of request"
         }
        }
       }
      }
     },
     "metadata": {},
     "output_type": "display_data"
    },
    {
     "data": {
      "application/vnd.plotly.v1+json": {
       "config": {
        "plotlyServerURL": "https://plot.ly"
       },
       "data": [
        {
         "customdata": [
          [
           "Female"
          ],
          [
           "Female"
          ],
          [
           "Female"
          ],
          [
           "Female"
          ],
          [
           "Female"
          ],
          [
           "Female"
          ],
          [
           "Female"
          ],
          [
           "Female"
          ],
          [
           "Female"
          ],
          [
           "Female"
          ],
          [
           "Female"
          ],
          [
           "Female"
          ],
          [
           "Female"
          ],
          [
           "Female"
          ],
          [
           "Female"
          ],
          [
           "Female"
          ]
         ],
         "hovertemplate": "Category=%{customdata[0]}<br>Report Year=%{x}<br>Number of request=%{y}<extra></extra>",
         "legendgroup": "Female",
         "line": {
          "color": "#636efa",
          "dash": "solid"
         },
         "marker": {
          "symbol": "circle"
         },
         "mode": "markers+lines",
         "name": "Female",
         "orientation": "v",
         "showlegend": true,
         "type": "scatter",
         "x": [
          2001,
          2002,
          2003,
          2004,
          2005,
          2006,
          2007,
          2008,
          2009,
          2010,
          2011,
          2012,
          2013,
          2014,
          2015,
          2016
         ],
         "xaxis": "x",
         "y": [
          327,
          429,
          458,
          504,
          552,
          640,
          773,
          888,
          823,
          845,
          734,
          668,
          718,
          805,
          1171,
          802
         ],
         "yaxis": "y"
        },
        {
         "customdata": [
          [
           "Male"
          ],
          [
           "Male"
          ],
          [
           "Male"
          ],
          [
           "Male"
          ],
          [
           "Male"
          ],
          [
           "Male"
          ],
          [
           "Male"
          ],
          [
           "Male"
          ],
          [
           "Male"
          ],
          [
           "Male"
          ],
          [
           "Male"
          ],
          [
           "Male"
          ],
          [
           "Male"
          ],
          [
           "Male"
          ],
          [
           "Male"
          ],
          [
           "Male"
          ]
         ],
         "hovertemplate": "Category=%{customdata[0]}<br>Report Year=%{x}<br>Number of request=%{y}<extra></extra>",
         "legendgroup": "Male",
         "line": {
          "color": "#EF553B",
          "dash": "solid"
         },
         "marker": {
          "symbol": "circle"
         },
         "mode": "markers+lines",
         "name": "Male",
         "orientation": "v",
         "showlegend": true,
         "type": "scatter",
         "x": [
          2001,
          2002,
          2003,
          2004,
          2005,
          2006,
          2007,
          2008,
          2009,
          2010,
          2011,
          2012,
          2013,
          2014,
          2015,
          2016
         ],
         "xaxis": "x",
         "y": [
          223,
          260,
          281,
          274,
          413,
          442,
          570,
          631,
          618,
          597,
          711,
          538,
          504,
          627,
          911,
          505
         ],
         "yaxis": "y"
        },
        {
         "customdata": [
          [
           "Unknown"
          ],
          [
           "Unknown"
          ]
         ],
         "hovertemplate": "Category=%{customdata[0]}<br>Report Year=%{x}<br>Number of request=%{y}<extra></extra>",
         "legendgroup": "Unknown",
         "line": {
          "color": "#00cc96",
          "dash": "solid"
         },
         "marker": {
          "symbol": "circle"
         },
         "mode": "markers+lines",
         "name": "Unknown",
         "orientation": "v",
         "showlegend": true,
         "type": "scatter",
         "x": [
          2001,
          2002
         ],
         "xaxis": "x",
         "y": [
          1,
          2
         ],
         "yaxis": "y"
        }
       ],
       "layout": {
        "legend": {
         "title": {
          "text": "Category"
         },
         "tracegroupgap": 0
        },
        "margin": {
         "t": 60
        },
        "template": {
         "data": {
          "bar": [
           {
            "error_x": {
             "color": "#2a3f5f"
            },
            "error_y": {
             "color": "#2a3f5f"
            },
            "marker": {
             "line": {
              "color": "#E5ECF6",
              "width": 0.5
             },
             "pattern": {
              "fillmode": "overlay",
              "size": 10,
              "solidity": 0.2
             }
            },
            "type": "bar"
           }
          ],
          "barpolar": [
           {
            "marker": {
             "line": {
              "color": "#E5ECF6",
              "width": 0.5
             },
             "pattern": {
              "fillmode": "overlay",
              "size": 10,
              "solidity": 0.2
             }
            },
            "type": "barpolar"
           }
          ],
          "carpet": [
           {
            "aaxis": {
             "endlinecolor": "#2a3f5f",
             "gridcolor": "white",
             "linecolor": "white",
             "minorgridcolor": "white",
             "startlinecolor": "#2a3f5f"
            },
            "baxis": {
             "endlinecolor": "#2a3f5f",
             "gridcolor": "white",
             "linecolor": "white",
             "minorgridcolor": "white",
             "startlinecolor": "#2a3f5f"
            },
            "type": "carpet"
           }
          ],
          "choropleth": [
           {
            "colorbar": {
             "outlinewidth": 0,
             "ticks": ""
            },
            "type": "choropleth"
           }
          ],
          "contour": [
           {
            "colorbar": {
             "outlinewidth": 0,
             "ticks": ""
            },
            "colorscale": [
             [
              0,
              "#0d0887"
             ],
             [
              0.1111111111111111,
              "#46039f"
             ],
             [
              0.2222222222222222,
              "#7201a8"
             ],
             [
              0.3333333333333333,
              "#9c179e"
             ],
             [
              0.4444444444444444,
              "#bd3786"
             ],
             [
              0.5555555555555556,
              "#d8576b"
             ],
             [
              0.6666666666666666,
              "#ed7953"
             ],
             [
              0.7777777777777778,
              "#fb9f3a"
             ],
             [
              0.8888888888888888,
              "#fdca26"
             ],
             [
              1,
              "#f0f921"
             ]
            ],
            "type": "contour"
           }
          ],
          "contourcarpet": [
           {
            "colorbar": {
             "outlinewidth": 0,
             "ticks": ""
            },
            "type": "contourcarpet"
           }
          ],
          "heatmap": [
           {
            "colorbar": {
             "outlinewidth": 0,
             "ticks": ""
            },
            "colorscale": [
             [
              0,
              "#0d0887"
             ],
             [
              0.1111111111111111,
              "#46039f"
             ],
             [
              0.2222222222222222,
              "#7201a8"
             ],
             [
              0.3333333333333333,
              "#9c179e"
             ],
             [
              0.4444444444444444,
              "#bd3786"
             ],
             [
              0.5555555555555556,
              "#d8576b"
             ],
             [
              0.6666666666666666,
              "#ed7953"
             ],
             [
              0.7777777777777778,
              "#fb9f3a"
             ],
             [
              0.8888888888888888,
              "#fdca26"
             ],
             [
              1,
              "#f0f921"
             ]
            ],
            "type": "heatmap"
           }
          ],
          "heatmapgl": [
           {
            "colorbar": {
             "outlinewidth": 0,
             "ticks": ""
            },
            "colorscale": [
             [
              0,
              "#0d0887"
             ],
             [
              0.1111111111111111,
              "#46039f"
             ],
             [
              0.2222222222222222,
              "#7201a8"
             ],
             [
              0.3333333333333333,
              "#9c179e"
             ],
             [
              0.4444444444444444,
              "#bd3786"
             ],
             [
              0.5555555555555556,
              "#d8576b"
             ],
             [
              0.6666666666666666,
              "#ed7953"
             ],
             [
              0.7777777777777778,
              "#fb9f3a"
             ],
             [
              0.8888888888888888,
              "#fdca26"
             ],
             [
              1,
              "#f0f921"
             ]
            ],
            "type": "heatmapgl"
           }
          ],
          "histogram": [
           {
            "marker": {
             "pattern": {
              "fillmode": "overlay",
              "size": 10,
              "solidity": 0.2
             }
            },
            "type": "histogram"
           }
          ],
          "histogram2d": [
           {
            "colorbar": {
             "outlinewidth": 0,
             "ticks": ""
            },
            "colorscale": [
             [
              0,
              "#0d0887"
             ],
             [
              0.1111111111111111,
              "#46039f"
             ],
             [
              0.2222222222222222,
              "#7201a8"
             ],
             [
              0.3333333333333333,
              "#9c179e"
             ],
             [
              0.4444444444444444,
              "#bd3786"
             ],
             [
              0.5555555555555556,
              "#d8576b"
             ],
             [
              0.6666666666666666,
              "#ed7953"
             ],
             [
              0.7777777777777778,
              "#fb9f3a"
             ],
             [
              0.8888888888888888,
              "#fdca26"
             ],
             [
              1,
              "#f0f921"
             ]
            ],
            "type": "histogram2d"
           }
          ],
          "histogram2dcontour": [
           {
            "colorbar": {
             "outlinewidth": 0,
             "ticks": ""
            },
            "colorscale": [
             [
              0,
              "#0d0887"
             ],
             [
              0.1111111111111111,
              "#46039f"
             ],
             [
              0.2222222222222222,
              "#7201a8"
             ],
             [
              0.3333333333333333,
              "#9c179e"
             ],
             [
              0.4444444444444444,
              "#bd3786"
             ],
             [
              0.5555555555555556,
              "#d8576b"
             ],
             [
              0.6666666666666666,
              "#ed7953"
             ],
             [
              0.7777777777777778,
              "#fb9f3a"
             ],
             [
              0.8888888888888888,
              "#fdca26"
             ],
             [
              1,
              "#f0f921"
             ]
            ],
            "type": "histogram2dcontour"
           }
          ],
          "mesh3d": [
           {
            "colorbar": {
             "outlinewidth": 0,
             "ticks": ""
            },
            "type": "mesh3d"
           }
          ],
          "parcoords": [
           {
            "line": {
             "colorbar": {
              "outlinewidth": 0,
              "ticks": ""
             }
            },
            "type": "parcoords"
           }
          ],
          "pie": [
           {
            "automargin": true,
            "type": "pie"
           }
          ],
          "scatter": [
           {
            "marker": {
             "colorbar": {
              "outlinewidth": 0,
              "ticks": ""
             }
            },
            "type": "scatter"
           }
          ],
          "scatter3d": [
           {
            "line": {
             "colorbar": {
              "outlinewidth": 0,
              "ticks": ""
             }
            },
            "marker": {
             "colorbar": {
              "outlinewidth": 0,
              "ticks": ""
             }
            },
            "type": "scatter3d"
           }
          ],
          "scattercarpet": [
           {
            "marker": {
             "colorbar": {
              "outlinewidth": 0,
              "ticks": ""
             }
            },
            "type": "scattercarpet"
           }
          ],
          "scattergeo": [
           {
            "marker": {
             "colorbar": {
              "outlinewidth": 0,
              "ticks": ""
             }
            },
            "type": "scattergeo"
           }
          ],
          "scattergl": [
           {
            "marker": {
             "colorbar": {
              "outlinewidth": 0,
              "ticks": ""
             }
            },
            "type": "scattergl"
           }
          ],
          "scattermapbox": [
           {
            "marker": {
             "colorbar": {
              "outlinewidth": 0,
              "ticks": ""
             }
            },
            "type": "scattermapbox"
           }
          ],
          "scatterpolar": [
           {
            "marker": {
             "colorbar": {
              "outlinewidth": 0,
              "ticks": ""
             }
            },
            "type": "scatterpolar"
           }
          ],
          "scatterpolargl": [
           {
            "marker": {
             "colorbar": {
              "outlinewidth": 0,
              "ticks": ""
             }
            },
            "type": "scatterpolargl"
           }
          ],
          "scatterternary": [
           {
            "marker": {
             "colorbar": {
              "outlinewidth": 0,
              "ticks": ""
             }
            },
            "type": "scatterternary"
           }
          ],
          "surface": [
           {
            "colorbar": {
             "outlinewidth": 0,
             "ticks": ""
            },
            "colorscale": [
             [
              0,
              "#0d0887"
             ],
             [
              0.1111111111111111,
              "#46039f"
             ],
             [
              0.2222222222222222,
              "#7201a8"
             ],
             [
              0.3333333333333333,
              "#9c179e"
             ],
             [
              0.4444444444444444,
              "#bd3786"
             ],
             [
              0.5555555555555556,
              "#d8576b"
             ],
             [
              0.6666666666666666,
              "#ed7953"
             ],
             [
              0.7777777777777778,
              "#fb9f3a"
             ],
             [
              0.8888888888888888,
              "#fdca26"
             ],
             [
              1,
              "#f0f921"
             ]
            ],
            "type": "surface"
           }
          ],
          "table": [
           {
            "cells": {
             "fill": {
              "color": "#EBF0F8"
             },
             "line": {
              "color": "white"
             }
            },
            "header": {
             "fill": {
              "color": "#C8D4E3"
             },
             "line": {
              "color": "white"
             }
            },
            "type": "table"
           }
          ]
         },
         "layout": {
          "annotationdefaults": {
           "arrowcolor": "#2a3f5f",
           "arrowhead": 0,
           "arrowwidth": 1
          },
          "autotypenumbers": "strict",
          "coloraxis": {
           "colorbar": {
            "outlinewidth": 0,
            "ticks": ""
           }
          },
          "colorscale": {
           "diverging": [
            [
             0,
             "#8e0152"
            ],
            [
             0.1,
             "#c51b7d"
            ],
            [
             0.2,
             "#de77ae"
            ],
            [
             0.3,
             "#f1b6da"
            ],
            [
             0.4,
             "#fde0ef"
            ],
            [
             0.5,
             "#f7f7f7"
            ],
            [
             0.6,
             "#e6f5d0"
            ],
            [
             0.7,
             "#b8e186"
            ],
            [
             0.8,
             "#7fbc41"
            ],
            [
             0.9,
             "#4d9221"
            ],
            [
             1,
             "#276419"
            ]
           ],
           "sequential": [
            [
             0,
             "#0d0887"
            ],
            [
             0.1111111111111111,
             "#46039f"
            ],
            [
             0.2222222222222222,
             "#7201a8"
            ],
            [
             0.3333333333333333,
             "#9c179e"
            ],
            [
             0.4444444444444444,
             "#bd3786"
            ],
            [
             0.5555555555555556,
             "#d8576b"
            ],
            [
             0.6666666666666666,
             "#ed7953"
            ],
            [
             0.7777777777777778,
             "#fb9f3a"
            ],
            [
             0.8888888888888888,
             "#fdca26"
            ],
            [
             1,
             "#f0f921"
            ]
           ],
           "sequentialminus": [
            [
             0,
             "#0d0887"
            ],
            [
             0.1111111111111111,
             "#46039f"
            ],
            [
             0.2222222222222222,
             "#7201a8"
            ],
            [
             0.3333333333333333,
             "#9c179e"
            ],
            [
             0.4444444444444444,
             "#bd3786"
            ],
            [
             0.5555555555555556,
             "#d8576b"
            ],
            [
             0.6666666666666666,
             "#ed7953"
            ],
            [
             0.7777777777777778,
             "#fb9f3a"
            ],
            [
             0.8888888888888888,
             "#fdca26"
            ],
            [
             1,
             "#f0f921"
            ]
           ]
          },
          "colorway": [
           "#636efa",
           "#EF553B",
           "#00cc96",
           "#ab63fa",
           "#FFA15A",
           "#19d3f3",
           "#FF6692",
           "#B6E880",
           "#FF97FF",
           "#FECB52"
          ],
          "font": {
           "color": "#2a3f5f"
          },
          "geo": {
           "bgcolor": "white",
           "lakecolor": "white",
           "landcolor": "#E5ECF6",
           "showlakes": true,
           "showland": true,
           "subunitcolor": "white"
          },
          "hoverlabel": {
           "align": "left"
          },
          "hovermode": "closest",
          "mapbox": {
           "style": "light"
          },
          "paper_bgcolor": "white",
          "plot_bgcolor": "#E5ECF6",
          "polar": {
           "angularaxis": {
            "gridcolor": "white",
            "linecolor": "white",
            "ticks": ""
           },
           "bgcolor": "#E5ECF6",
           "radialaxis": {
            "gridcolor": "white",
            "linecolor": "white",
            "ticks": ""
           }
          },
          "scene": {
           "xaxis": {
            "backgroundcolor": "#E5ECF6",
            "gridcolor": "white",
            "gridwidth": 2,
            "linecolor": "white",
            "showbackground": true,
            "ticks": "",
            "zerolinecolor": "white"
           },
           "yaxis": {
            "backgroundcolor": "#E5ECF6",
            "gridcolor": "white",
            "gridwidth": 2,
            "linecolor": "white",
            "showbackground": true,
            "ticks": "",
            "zerolinecolor": "white"
           },
           "zaxis": {
            "backgroundcolor": "#E5ECF6",
            "gridcolor": "white",
            "gridwidth": 2,
            "linecolor": "white",
            "showbackground": true,
            "ticks": "",
            "zerolinecolor": "white"
           }
          },
          "shapedefaults": {
           "line": {
            "color": "#2a3f5f"
           }
          },
          "ternary": {
           "aaxis": {
            "gridcolor": "white",
            "linecolor": "white",
            "ticks": ""
           },
           "baxis": {
            "gridcolor": "white",
            "linecolor": "white",
            "ticks": ""
           },
           "bgcolor": "#E5ECF6",
           "caxis": {
            "gridcolor": "white",
            "linecolor": "white",
            "ticks": ""
           }
          },
          "title": {
           "x": 0.05
          },
          "xaxis": {
           "automargin": true,
           "gridcolor": "white",
           "linecolor": "white",
           "ticks": "",
           "title": {
            "standoff": 15
           },
           "zerolinecolor": "white",
           "zerolinewidth": 2
          },
          "yaxis": {
           "automargin": true,
           "gridcolor": "white",
           "linecolor": "white",
           "ticks": "",
           "title": {
            "standoff": 15
           },
           "zerolinecolor": "white",
           "zerolinewidth": 2
          }
         }
        },
        "title": {
         "text": "Requests by gender"
        },
        "xaxis": {
         "anchor": "y",
         "domain": [
          0,
          1
         ],
         "title": {
          "text": "Report Year"
         }
        },
        "yaxis": {
         "anchor": "x",
         "domain": [
          0,
          1
         ],
         "title": {
          "text": "Number of request"
         }
        }
       }
      }
     },
     "metadata": {},
     "output_type": "display_data"
    },
    {
     "data": {
      "application/vnd.plotly.v1+json": {
       "config": {
        "plotlyServerURL": "https://plot.ly"
       },
       "data": [
        {
         "customdata": [
          [
           "Experimental/Investigational"
          ],
          [
           "Experimental/Investigational"
          ],
          [
           "Experimental/Investigational"
          ],
          [
           "Experimental/Investigational"
          ],
          [
           "Experimental/Investigational"
          ],
          [
           "Experimental/Investigational"
          ],
          [
           "Experimental/Investigational"
          ],
          [
           "Experimental/Investigational"
          ],
          [
           "Experimental/Investigational"
          ],
          [
           "Experimental/Investigational"
          ],
          [
           "Experimental/Investigational"
          ],
          [
           "Experimental/Investigational"
          ],
          [
           "Experimental/Investigational"
          ],
          [
           "Experimental/Investigational"
          ],
          [
           "Experimental/Investigational"
          ],
          [
           "Experimental/Investigational"
          ]
         ],
         "hovertemplate": "Category=%{customdata[0]}<br>Report Year=%{x}<br>Number of request=%{y}<extra></extra>",
         "legendgroup": "Experimental/Investigational",
         "line": {
          "color": "#636efa",
          "dash": "solid"
         },
         "marker": {
          "symbol": "circle"
         },
         "mode": "markers+lines",
         "name": "Experimental/Investigational",
         "orientation": "v",
         "showlegend": true,
         "type": "scatter",
         "x": [
          2001,
          2002,
          2003,
          2004,
          2005,
          2006,
          2007,
          2008,
          2009,
          2010,
          2011,
          2012,
          2013,
          2014,
          2015,
          2016
         ],
         "xaxis": "x",
         "y": [
          144,
          135,
          147,
          131,
          214,
          232,
          363,
          429,
          436,
          459,
          378,
          321,
          298,
          422,
          590,
          468
         ],
         "yaxis": "y"
        },
        {
         "customdata": [
          [
           "Medical Necessity"
          ],
          [
           "Medical Necessity"
          ],
          [
           "Medical Necessity"
          ],
          [
           "Medical Necessity"
          ],
          [
           "Medical Necessity"
          ],
          [
           "Medical Necessity"
          ],
          [
           "Medical Necessity"
          ],
          [
           "Medical Necessity"
          ],
          [
           "Medical Necessity"
          ],
          [
           "Medical Necessity"
          ],
          [
           "Medical Necessity"
          ],
          [
           "Medical Necessity"
          ],
          [
           "Medical Necessity"
          ],
          [
           "Medical Necessity"
          ],
          [
           "Medical Necessity"
          ],
          [
           "Medical Necessity"
          ]
         ],
         "hovertemplate": "Category=%{customdata[0]}<br>Report Year=%{x}<br>Number of request=%{y}<extra></extra>",
         "legendgroup": "Medical Necessity",
         "line": {
          "color": "#EF553B",
          "dash": "solid"
         },
         "marker": {
          "symbol": "circle"
         },
         "mode": "markers+lines",
         "name": "Medical Necessity",
         "orientation": "v",
         "showlegend": true,
         "type": "scatter",
         "x": [
          2001,
          2002,
          2003,
          2004,
          2005,
          2006,
          2007,
          2008,
          2009,
          2010,
          2011,
          2012,
          2013,
          2014,
          2015,
          2016
         ],
         "xaxis": "x",
         "y": [
          407,
          554,
          592,
          647,
          751,
          850,
          980,
          969,
          941,
          916,
          1025,
          843,
          883,
          969,
          1440,
          821
         ],
         "yaxis": "y"
        },
        {
         "customdata": [
          [
           "Urgent Care"
          ],
          [
           "Urgent Care"
          ],
          [
           "Urgent Care"
          ],
          [
           "Urgent Care"
          ],
          [
           "Urgent Care"
          ],
          [
           "Urgent Care"
          ],
          [
           "Urgent Care"
          ],
          [
           "Urgent Care"
          ],
          [
           "Urgent Care"
          ],
          [
           "Urgent Care"
          ]
         ],
         "hovertemplate": "Category=%{customdata[0]}<br>Report Year=%{x}<br>Number of request=%{y}<extra></extra>",
         "legendgroup": "Urgent Care",
         "line": {
          "color": "#00cc96",
          "dash": "solid"
         },
         "marker": {
          "symbol": "circle"
         },
         "mode": "markers+lines",
         "name": "Urgent Care",
         "orientation": "v",
         "showlegend": true,
         "type": "scatter",
         "x": [
          2002,
          2008,
          2009,
          2010,
          2011,
          2012,
          2013,
          2014,
          2015,
          2016
         ],
         "xaxis": "x",
         "y": [
          2,
          121,
          64,
          67,
          42,
          42,
          41,
          41,
          52,
          18
         ],
         "yaxis": "y"
        }
       ],
       "layout": {
        "legend": {
         "title": {
          "text": "Category"
         },
         "tracegroupgap": 0
        },
        "margin": {
         "t": 60
        },
        "template": {
         "data": {
          "bar": [
           {
            "error_x": {
             "color": "#2a3f5f"
            },
            "error_y": {
             "color": "#2a3f5f"
            },
            "marker": {
             "line": {
              "color": "#E5ECF6",
              "width": 0.5
             },
             "pattern": {
              "fillmode": "overlay",
              "size": 10,
              "solidity": 0.2
             }
            },
            "type": "bar"
           }
          ],
          "barpolar": [
           {
            "marker": {
             "line": {
              "color": "#E5ECF6",
              "width": 0.5
             },
             "pattern": {
              "fillmode": "overlay",
              "size": 10,
              "solidity": 0.2
             }
            },
            "type": "barpolar"
           }
          ],
          "carpet": [
           {
            "aaxis": {
             "endlinecolor": "#2a3f5f",
             "gridcolor": "white",
             "linecolor": "white",
             "minorgridcolor": "white",
             "startlinecolor": "#2a3f5f"
            },
            "baxis": {
             "endlinecolor": "#2a3f5f",
             "gridcolor": "white",
             "linecolor": "white",
             "minorgridcolor": "white",
             "startlinecolor": "#2a3f5f"
            },
            "type": "carpet"
           }
          ],
          "choropleth": [
           {
            "colorbar": {
             "outlinewidth": 0,
             "ticks": ""
            },
            "type": "choropleth"
           }
          ],
          "contour": [
           {
            "colorbar": {
             "outlinewidth": 0,
             "ticks": ""
            },
            "colorscale": [
             [
              0,
              "#0d0887"
             ],
             [
              0.1111111111111111,
              "#46039f"
             ],
             [
              0.2222222222222222,
              "#7201a8"
             ],
             [
              0.3333333333333333,
              "#9c179e"
             ],
             [
              0.4444444444444444,
              "#bd3786"
             ],
             [
              0.5555555555555556,
              "#d8576b"
             ],
             [
              0.6666666666666666,
              "#ed7953"
             ],
             [
              0.7777777777777778,
              "#fb9f3a"
             ],
             [
              0.8888888888888888,
              "#fdca26"
             ],
             [
              1,
              "#f0f921"
             ]
            ],
            "type": "contour"
           }
          ],
          "contourcarpet": [
           {
            "colorbar": {
             "outlinewidth": 0,
             "ticks": ""
            },
            "type": "contourcarpet"
           }
          ],
          "heatmap": [
           {
            "colorbar": {
             "outlinewidth": 0,
             "ticks": ""
            },
            "colorscale": [
             [
              0,
              "#0d0887"
             ],
             [
              0.1111111111111111,
              "#46039f"
             ],
             [
              0.2222222222222222,
              "#7201a8"
             ],
             [
              0.3333333333333333,
              "#9c179e"
             ],
             [
              0.4444444444444444,
              "#bd3786"
             ],
             [
              0.5555555555555556,
              "#d8576b"
             ],
             [
              0.6666666666666666,
              "#ed7953"
             ],
             [
              0.7777777777777778,
              "#fb9f3a"
             ],
             [
              0.8888888888888888,
              "#fdca26"
             ],
             [
              1,
              "#f0f921"
             ]
            ],
            "type": "heatmap"
           }
          ],
          "heatmapgl": [
           {
            "colorbar": {
             "outlinewidth": 0,
             "ticks": ""
            },
            "colorscale": [
             [
              0,
              "#0d0887"
             ],
             [
              0.1111111111111111,
              "#46039f"
             ],
             [
              0.2222222222222222,
              "#7201a8"
             ],
             [
              0.3333333333333333,
              "#9c179e"
             ],
             [
              0.4444444444444444,
              "#bd3786"
             ],
             [
              0.5555555555555556,
              "#d8576b"
             ],
             [
              0.6666666666666666,
              "#ed7953"
             ],
             [
              0.7777777777777778,
              "#fb9f3a"
             ],
             [
              0.8888888888888888,
              "#fdca26"
             ],
             [
              1,
              "#f0f921"
             ]
            ],
            "type": "heatmapgl"
           }
          ],
          "histogram": [
           {
            "marker": {
             "pattern": {
              "fillmode": "overlay",
              "size": 10,
              "solidity": 0.2
             }
            },
            "type": "histogram"
           }
          ],
          "histogram2d": [
           {
            "colorbar": {
             "outlinewidth": 0,
             "ticks": ""
            },
            "colorscale": [
             [
              0,
              "#0d0887"
             ],
             [
              0.1111111111111111,
              "#46039f"
             ],
             [
              0.2222222222222222,
              "#7201a8"
             ],
             [
              0.3333333333333333,
              "#9c179e"
             ],
             [
              0.4444444444444444,
              "#bd3786"
             ],
             [
              0.5555555555555556,
              "#d8576b"
             ],
             [
              0.6666666666666666,
              "#ed7953"
             ],
             [
              0.7777777777777778,
              "#fb9f3a"
             ],
             [
              0.8888888888888888,
              "#fdca26"
             ],
             [
              1,
              "#f0f921"
             ]
            ],
            "type": "histogram2d"
           }
          ],
          "histogram2dcontour": [
           {
            "colorbar": {
             "outlinewidth": 0,
             "ticks": ""
            },
            "colorscale": [
             [
              0,
              "#0d0887"
             ],
             [
              0.1111111111111111,
              "#46039f"
             ],
             [
              0.2222222222222222,
              "#7201a8"
             ],
             [
              0.3333333333333333,
              "#9c179e"
             ],
             [
              0.4444444444444444,
              "#bd3786"
             ],
             [
              0.5555555555555556,
              "#d8576b"
             ],
             [
              0.6666666666666666,
              "#ed7953"
             ],
             [
              0.7777777777777778,
              "#fb9f3a"
             ],
             [
              0.8888888888888888,
              "#fdca26"
             ],
             [
              1,
              "#f0f921"
             ]
            ],
            "type": "histogram2dcontour"
           }
          ],
          "mesh3d": [
           {
            "colorbar": {
             "outlinewidth": 0,
             "ticks": ""
            },
            "type": "mesh3d"
           }
          ],
          "parcoords": [
           {
            "line": {
             "colorbar": {
              "outlinewidth": 0,
              "ticks": ""
             }
            },
            "type": "parcoords"
           }
          ],
          "pie": [
           {
            "automargin": true,
            "type": "pie"
           }
          ],
          "scatter": [
           {
            "marker": {
             "colorbar": {
              "outlinewidth": 0,
              "ticks": ""
             }
            },
            "type": "scatter"
           }
          ],
          "scatter3d": [
           {
            "line": {
             "colorbar": {
              "outlinewidth": 0,
              "ticks": ""
             }
            },
            "marker": {
             "colorbar": {
              "outlinewidth": 0,
              "ticks": ""
             }
            },
            "type": "scatter3d"
           }
          ],
          "scattercarpet": [
           {
            "marker": {
             "colorbar": {
              "outlinewidth": 0,
              "ticks": ""
             }
            },
            "type": "scattercarpet"
           }
          ],
          "scattergeo": [
           {
            "marker": {
             "colorbar": {
              "outlinewidth": 0,
              "ticks": ""
             }
            },
            "type": "scattergeo"
           }
          ],
          "scattergl": [
           {
            "marker": {
             "colorbar": {
              "outlinewidth": 0,
              "ticks": ""
             }
            },
            "type": "scattergl"
           }
          ],
          "scattermapbox": [
           {
            "marker": {
             "colorbar": {
              "outlinewidth": 0,
              "ticks": ""
             }
            },
            "type": "scattermapbox"
           }
          ],
          "scatterpolar": [
           {
            "marker": {
             "colorbar": {
              "outlinewidth": 0,
              "ticks": ""
             }
            },
            "type": "scatterpolar"
           }
          ],
          "scatterpolargl": [
           {
            "marker": {
             "colorbar": {
              "outlinewidth": 0,
              "ticks": ""
             }
            },
            "type": "scatterpolargl"
           }
          ],
          "scatterternary": [
           {
            "marker": {
             "colorbar": {
              "outlinewidth": 0,
              "ticks": ""
             }
            },
            "type": "scatterternary"
           }
          ],
          "surface": [
           {
            "colorbar": {
             "outlinewidth": 0,
             "ticks": ""
            },
            "colorscale": [
             [
              0,
              "#0d0887"
             ],
             [
              0.1111111111111111,
              "#46039f"
             ],
             [
              0.2222222222222222,
              "#7201a8"
             ],
             [
              0.3333333333333333,
              "#9c179e"
             ],
             [
              0.4444444444444444,
              "#bd3786"
             ],
             [
              0.5555555555555556,
              "#d8576b"
             ],
             [
              0.6666666666666666,
              "#ed7953"
             ],
             [
              0.7777777777777778,
              "#fb9f3a"
             ],
             [
              0.8888888888888888,
              "#fdca26"
             ],
             [
              1,
              "#f0f921"
             ]
            ],
            "type": "surface"
           }
          ],
          "table": [
           {
            "cells": {
             "fill": {
              "color": "#EBF0F8"
             },
             "line": {
              "color": "white"
             }
            },
            "header": {
             "fill": {
              "color": "#C8D4E3"
             },
             "line": {
              "color": "white"
             }
            },
            "type": "table"
           }
          ]
         },
         "layout": {
          "annotationdefaults": {
           "arrowcolor": "#2a3f5f",
           "arrowhead": 0,
           "arrowwidth": 1
          },
          "autotypenumbers": "strict",
          "coloraxis": {
           "colorbar": {
            "outlinewidth": 0,
            "ticks": ""
           }
          },
          "colorscale": {
           "diverging": [
            [
             0,
             "#8e0152"
            ],
            [
             0.1,
             "#c51b7d"
            ],
            [
             0.2,
             "#de77ae"
            ],
            [
             0.3,
             "#f1b6da"
            ],
            [
             0.4,
             "#fde0ef"
            ],
            [
             0.5,
             "#f7f7f7"
            ],
            [
             0.6,
             "#e6f5d0"
            ],
            [
             0.7,
             "#b8e186"
            ],
            [
             0.8,
             "#7fbc41"
            ],
            [
             0.9,
             "#4d9221"
            ],
            [
             1,
             "#276419"
            ]
           ],
           "sequential": [
            [
             0,
             "#0d0887"
            ],
            [
             0.1111111111111111,
             "#46039f"
            ],
            [
             0.2222222222222222,
             "#7201a8"
            ],
            [
             0.3333333333333333,
             "#9c179e"
            ],
            [
             0.4444444444444444,
             "#bd3786"
            ],
            [
             0.5555555555555556,
             "#d8576b"
            ],
            [
             0.6666666666666666,
             "#ed7953"
            ],
            [
             0.7777777777777778,
             "#fb9f3a"
            ],
            [
             0.8888888888888888,
             "#fdca26"
            ],
            [
             1,
             "#f0f921"
            ]
           ],
           "sequentialminus": [
            [
             0,
             "#0d0887"
            ],
            [
             0.1111111111111111,
             "#46039f"
            ],
            [
             0.2222222222222222,
             "#7201a8"
            ],
            [
             0.3333333333333333,
             "#9c179e"
            ],
            [
             0.4444444444444444,
             "#bd3786"
            ],
            [
             0.5555555555555556,
             "#d8576b"
            ],
            [
             0.6666666666666666,
             "#ed7953"
            ],
            [
             0.7777777777777778,
             "#fb9f3a"
            ],
            [
             0.8888888888888888,
             "#fdca26"
            ],
            [
             1,
             "#f0f921"
            ]
           ]
          },
          "colorway": [
           "#636efa",
           "#EF553B",
           "#00cc96",
           "#ab63fa",
           "#FFA15A",
           "#19d3f3",
           "#FF6692",
           "#B6E880",
           "#FF97FF",
           "#FECB52"
          ],
          "font": {
           "color": "#2a3f5f"
          },
          "geo": {
           "bgcolor": "white",
           "lakecolor": "white",
           "landcolor": "#E5ECF6",
           "showlakes": true,
           "showland": true,
           "subunitcolor": "white"
          },
          "hoverlabel": {
           "align": "left"
          },
          "hovermode": "closest",
          "mapbox": {
           "style": "light"
          },
          "paper_bgcolor": "white",
          "plot_bgcolor": "#E5ECF6",
          "polar": {
           "angularaxis": {
            "gridcolor": "white",
            "linecolor": "white",
            "ticks": ""
           },
           "bgcolor": "#E5ECF6",
           "radialaxis": {
            "gridcolor": "white",
            "linecolor": "white",
            "ticks": ""
           }
          },
          "scene": {
           "xaxis": {
            "backgroundcolor": "#E5ECF6",
            "gridcolor": "white",
            "gridwidth": 2,
            "linecolor": "white",
            "showbackground": true,
            "ticks": "",
            "zerolinecolor": "white"
           },
           "yaxis": {
            "backgroundcolor": "#E5ECF6",
            "gridcolor": "white",
            "gridwidth": 2,
            "linecolor": "white",
            "showbackground": true,
            "ticks": "",
            "zerolinecolor": "white"
           },
           "zaxis": {
            "backgroundcolor": "#E5ECF6",
            "gridcolor": "white",
            "gridwidth": 2,
            "linecolor": "white",
            "showbackground": true,
            "ticks": "",
            "zerolinecolor": "white"
           }
          },
          "shapedefaults": {
           "line": {
            "color": "#2a3f5f"
           }
          },
          "ternary": {
           "aaxis": {
            "gridcolor": "white",
            "linecolor": "white",
            "ticks": ""
           },
           "baxis": {
            "gridcolor": "white",
            "linecolor": "white",
            "ticks": ""
           },
           "bgcolor": "#E5ECF6",
           "caxis": {
            "gridcolor": "white",
            "linecolor": "white",
            "ticks": ""
           }
          },
          "title": {
           "x": 0.05
          },
          "xaxis": {
           "automargin": true,
           "gridcolor": "white",
           "linecolor": "white",
           "ticks": "",
           "title": {
            "standoff": 15
           },
           "zerolinecolor": "white",
           "zerolinewidth": 2
          },
          "yaxis": {
           "automargin": true,
           "gridcolor": "white",
           "linecolor": "white",
           "ticks": "",
           "title": {
            "standoff": 15
           },
           "zerolinecolor": "white",
           "zerolinewidth": 2
          }
         }
        },
        "title": {
         "text": "Requests by type"
        },
        "xaxis": {
         "anchor": "y",
         "domain": [
          0,
          1
         ],
         "title": {
          "text": "Report Year"
         }
        },
        "yaxis": {
         "anchor": "x",
         "domain": [
          0,
          1
         ],
         "title": {
          "text": "Number of request"
         }
        }
       }
      }
     },
     "metadata": {},
     "output_type": "display_data"
    }
   ],
   "source": [
    "figures = []\n",
    "for data, titles  in zip(data,titles):\n",
    "    fig =plot_graph(data,titles)\n",
    "    figures.append(fig)\n",
    "\n",
    "for fig in figures:\n",
    "    fig.show()"
   ]
  },
  {
   "cell_type": "markdown",
   "metadata": {},
   "source": [
    "### Observation\n",
    "#### There is spike in number of request for year 2015 \n",
    "#### for age group 51-64 there is high number of requests \n",
    "#### females has more number of requests than male\n"
   ]
  },
  {
   "cell_type": "code",
   "execution_count": 61,
   "metadata": {},
   "outputs": [],
   "source": [
    "count_diagnosis_by_year = df.groupby('Report Year')['Diagnosis Category'].apply(lambda x: x.value_counts().idxmax()).reset_index(name='Diagnosis Category')"
   ]
  },
  {
   "cell_type": "code",
   "execution_count": 62,
   "metadata": {},
   "outputs": [],
   "source": [
    "max_diagnosis_count = df.groupby(['Report Year', 'Diagnosis Category']).size().groupby('Report Year').max().reset_index(name='Diagnosis Count')"
   ]
  },
  {
   "cell_type": "code",
   "execution_count": 63,
   "metadata": {},
   "outputs": [
    {
     "data": {
      "text/html": [
       "<div>\n",
       "<style scoped>\n",
       "    .dataframe tbody tr th:only-of-type {\n",
       "        vertical-align: middle;\n",
       "    }\n",
       "\n",
       "    .dataframe tbody tr th {\n",
       "        vertical-align: top;\n",
       "    }\n",
       "\n",
       "    .dataframe thead th {\n",
       "        text-align: right;\n",
       "    }\n",
       "</style>\n",
       "<table border=\"1\" class=\"dataframe\">\n",
       "  <thead>\n",
       "    <tr style=\"text-align: right;\">\n",
       "      <th></th>\n",
       "      <th>Report Year</th>\n",
       "      <th>Diagnosis Count</th>\n",
       "    </tr>\n",
       "  </thead>\n",
       "  <tbody>\n",
       "    <tr>\n",
       "      <th>0</th>\n",
       "      <td>2001</td>\n",
       "      <td>122</td>\n",
       "    </tr>\n",
       "    <tr>\n",
       "      <th>1</th>\n",
       "      <td>2002</td>\n",
       "      <td>123</td>\n",
       "    </tr>\n",
       "    <tr>\n",
       "      <th>2</th>\n",
       "      <td>2003</td>\n",
       "      <td>130</td>\n",
       "    </tr>\n",
       "    <tr>\n",
       "      <th>3</th>\n",
       "      <td>2004</td>\n",
       "      <td>118</td>\n",
       "    </tr>\n",
       "    <tr>\n",
       "      <th>4</th>\n",
       "      <td>2005</td>\n",
       "      <td>192</td>\n",
       "    </tr>\n",
       "    <tr>\n",
       "      <th>5</th>\n",
       "      <td>2006</td>\n",
       "      <td>213</td>\n",
       "    </tr>\n",
       "    <tr>\n",
       "      <th>6</th>\n",
       "      <td>2007</td>\n",
       "      <td>269</td>\n",
       "    </tr>\n",
       "    <tr>\n",
       "      <th>7</th>\n",
       "      <td>2008</td>\n",
       "      <td>291</td>\n",
       "    </tr>\n",
       "    <tr>\n",
       "      <th>8</th>\n",
       "      <td>2009</td>\n",
       "      <td>294</td>\n",
       "    </tr>\n",
       "    <tr>\n",
       "      <th>9</th>\n",
       "      <td>2010</td>\n",
       "      <td>252</td>\n",
       "    </tr>\n",
       "    <tr>\n",
       "      <th>10</th>\n",
       "      <td>2011</td>\n",
       "      <td>248</td>\n",
       "    </tr>\n",
       "    <tr>\n",
       "      <th>11</th>\n",
       "      <td>2012</td>\n",
       "      <td>218</td>\n",
       "    </tr>\n",
       "    <tr>\n",
       "      <th>12</th>\n",
       "      <td>2013</td>\n",
       "      <td>233</td>\n",
       "    </tr>\n",
       "    <tr>\n",
       "      <th>13</th>\n",
       "      <td>2014</td>\n",
       "      <td>271</td>\n",
       "    </tr>\n",
       "    <tr>\n",
       "      <th>14</th>\n",
       "      <td>2015</td>\n",
       "      <td>441</td>\n",
       "    </tr>\n",
       "    <tr>\n",
       "      <th>15</th>\n",
       "      <td>2016</td>\n",
       "      <td>244</td>\n",
       "    </tr>\n",
       "  </tbody>\n",
       "</table>\n",
       "</div>"
      ],
      "text/plain": [
       "    Report Year  Diagnosis Count\n",
       "0          2001              122\n",
       "1          2002              123\n",
       "2          2003              130\n",
       "3          2004              118\n",
       "4          2005              192\n",
       "5          2006              213\n",
       "6          2007              269\n",
       "7          2008              291\n",
       "8          2009              294\n",
       "9          2010              252\n",
       "10         2011              248\n",
       "11         2012              218\n",
       "12         2013              233\n",
       "13         2014              271\n",
       "14         2015              441\n",
       "15         2016              244"
      ]
     },
     "execution_count": 63,
     "metadata": {},
     "output_type": "execute_result"
    }
   ],
   "source": [
    "max_diagnosis_count"
   ]
  },
  {
   "cell_type": "code",
   "execution_count": 64,
   "metadata": {},
   "outputs": [],
   "source": [
    "# Merge the column\n",
    "diagnosis_count_by_year = count_diagnosis_by_year.merge(max_diagnosis_count, on='Report Year')\n"
   ]
  },
  {
   "cell_type": "code",
   "execution_count": 65,
   "metadata": {},
   "outputs": [
    {
     "data": {
      "text/html": [
       "<div>\n",
       "<style scoped>\n",
       "    .dataframe tbody tr th:only-of-type {\n",
       "        vertical-align: middle;\n",
       "    }\n",
       "\n",
       "    .dataframe tbody tr th {\n",
       "        vertical-align: top;\n",
       "    }\n",
       "\n",
       "    .dataframe thead th {\n",
       "        text-align: right;\n",
       "    }\n",
       "</style>\n",
       "<table border=\"1\" class=\"dataframe\">\n",
       "  <thead>\n",
       "    <tr style=\"text-align: right;\">\n",
       "      <th></th>\n",
       "      <th>Report Year</th>\n",
       "      <th>Diagnosis Category</th>\n",
       "      <th>Diagnosis Count</th>\n",
       "    </tr>\n",
       "  </thead>\n",
       "  <tbody>\n",
       "    <tr>\n",
       "      <th>0</th>\n",
       "      <td>2001</td>\n",
       "      <td>Orthopedic/ Musculoskeletal</td>\n",
       "      <td>122</td>\n",
       "    </tr>\n",
       "    <tr>\n",
       "      <th>1</th>\n",
       "      <td>2002</td>\n",
       "      <td>Orthopedic/ Musculoskeletal</td>\n",
       "      <td>123</td>\n",
       "    </tr>\n",
       "    <tr>\n",
       "      <th>2</th>\n",
       "      <td>2003</td>\n",
       "      <td>Orthopedic/ Musculoskeletal</td>\n",
       "      <td>130</td>\n",
       "    </tr>\n",
       "    <tr>\n",
       "      <th>3</th>\n",
       "      <td>2004</td>\n",
       "      <td>Orthopedic/ Musculoskeletal</td>\n",
       "      <td>118</td>\n",
       "    </tr>\n",
       "    <tr>\n",
       "      <th>4</th>\n",
       "      <td>2005</td>\n",
       "      <td>Orthopedic/ Musculoskeletal</td>\n",
       "      <td>192</td>\n",
       "    </tr>\n",
       "    <tr>\n",
       "      <th>5</th>\n",
       "      <td>2006</td>\n",
       "      <td>Orthopedic/ Musculoskeletal</td>\n",
       "      <td>213</td>\n",
       "    </tr>\n",
       "    <tr>\n",
       "      <th>6</th>\n",
       "      <td>2007</td>\n",
       "      <td>Orthopedic/ Musculoskeletal</td>\n",
       "      <td>269</td>\n",
       "    </tr>\n",
       "    <tr>\n",
       "      <th>7</th>\n",
       "      <td>2008</td>\n",
       "      <td>Orthopedic/ Musculoskeletal</td>\n",
       "      <td>291</td>\n",
       "    </tr>\n",
       "    <tr>\n",
       "      <th>8</th>\n",
       "      <td>2009</td>\n",
       "      <td>Orthopedic/ Musculoskeletal</td>\n",
       "      <td>294</td>\n",
       "    </tr>\n",
       "    <tr>\n",
       "      <th>9</th>\n",
       "      <td>2010</td>\n",
       "      <td>Orthopedic/ Musculoskeletal</td>\n",
       "      <td>252</td>\n",
       "    </tr>\n",
       "    <tr>\n",
       "      <th>10</th>\n",
       "      <td>2011</td>\n",
       "      <td>Orthopedic/ Musculoskeletal</td>\n",
       "      <td>248</td>\n",
       "    </tr>\n",
       "    <tr>\n",
       "      <th>11</th>\n",
       "      <td>2012</td>\n",
       "      <td>Orthopedic/ Musculoskeletal</td>\n",
       "      <td>218</td>\n",
       "    </tr>\n",
       "    <tr>\n",
       "      <th>12</th>\n",
       "      <td>2013</td>\n",
       "      <td>Orthopedic/ Musculoskeletal</td>\n",
       "      <td>233</td>\n",
       "    </tr>\n",
       "    <tr>\n",
       "      <th>13</th>\n",
       "      <td>2014</td>\n",
       "      <td>Mental</td>\n",
       "      <td>271</td>\n",
       "    </tr>\n",
       "    <tr>\n",
       "      <th>14</th>\n",
       "      <td>2015</td>\n",
       "      <td>Infectious</td>\n",
       "      <td>441</td>\n",
       "    </tr>\n",
       "    <tr>\n",
       "      <th>15</th>\n",
       "      <td>2016</td>\n",
       "      <td>Infectious</td>\n",
       "      <td>244</td>\n",
       "    </tr>\n",
       "  </tbody>\n",
       "</table>\n",
       "</div>"
      ],
      "text/plain": [
       "    Report Year           Diagnosis Category  Diagnosis Count\n",
       "0          2001  Orthopedic/ Musculoskeletal              122\n",
       "1          2002  Orthopedic/ Musculoskeletal              123\n",
       "2          2003  Orthopedic/ Musculoskeletal              130\n",
       "3          2004  Orthopedic/ Musculoskeletal              118\n",
       "4          2005  Orthopedic/ Musculoskeletal              192\n",
       "5          2006  Orthopedic/ Musculoskeletal              213\n",
       "6          2007  Orthopedic/ Musculoskeletal              269\n",
       "7          2008  Orthopedic/ Musculoskeletal              291\n",
       "8          2009  Orthopedic/ Musculoskeletal              294\n",
       "9          2010  Orthopedic/ Musculoskeletal              252\n",
       "10         2011  Orthopedic/ Musculoskeletal              248\n",
       "11         2012  Orthopedic/ Musculoskeletal              218\n",
       "12         2013  Orthopedic/ Musculoskeletal              233\n",
       "13         2014                       Mental              271\n",
       "14         2015                   Infectious              441\n",
       "15         2016                   Infectious              244"
      ]
     },
     "execution_count": 65,
     "metadata": {},
     "output_type": "execute_result"
    }
   ],
   "source": [
    "# Sort the data by \"Report Year\"\n",
    "diagnosis_count_by_year = diagnosis_count_by_year.sort_values('Report Year')\n",
    "diagnosis_count_by_year"
   ]
  },
  {
   "cell_type": "markdown",
   "metadata": {},
   "source": [
    "#### from 2001 to 2013 most request comes from orthopedic diagnosis category. In 2014 that changes to Mental diagnosis category and in 2015 and 2016 infectious diagnosis category IMR were most requested."
   ]
  },
  {
   "cell_type": "markdown",
   "metadata": {},
   "source": [
    "#### Visualize diagnosis data"
   ]
  },
  {
   "cell_type": "code",
   "execution_count": 66,
   "metadata": {},
   "outputs": [
    {
     "data": {
      "application/vnd.plotly.v1+json": {
       "config": {
        "plotlyServerURL": "https://plot.ly"
       },
       "data": [
        {
         "customdata": [
          2001,
          2002,
          2003,
          2004,
          2005,
          2006,
          2007,
          2008,
          2009,
          2010,
          2011,
          2012,
          2013,
          2014,
          2015,
          2016
         ],
         "domain": {
          "x": [
           0,
           1
          ],
          "y": [
           0,
           1
          ]
         },
         "hovertemplate": "Year:%{customdata}",
         "labels": [
          "Orthopedic/ Musculoskeletal",
          "Orthopedic/ Musculoskeletal",
          "Orthopedic/ Musculoskeletal",
          "Orthopedic/ Musculoskeletal",
          "Orthopedic/ Musculoskeletal",
          "Orthopedic/ Musculoskeletal",
          "Orthopedic/ Musculoskeletal",
          "Orthopedic/ Musculoskeletal",
          "Orthopedic/ Musculoskeletal",
          "Orthopedic/ Musculoskeletal",
          "Orthopedic/ Musculoskeletal",
          "Orthopedic/ Musculoskeletal",
          "Orthopedic/ Musculoskeletal",
          "Mental",
          "Infectious",
          "Infectious"
         ],
         "legendgroup": "",
         "name": "",
         "showlegend": true,
         "textinfo": "percent",
         "textposition": "inside",
         "type": "pie",
         "values": [
          122,
          123,
          130,
          118,
          192,
          213,
          269,
          291,
          294,
          252,
          248,
          218,
          233,
          271,
          441,
          244
         ]
        }
       ],
       "layout": {
        "legend": {
         "tracegroupgap": 0
        },
        "template": {
         "data": {
          "bar": [
           {
            "error_x": {
             "color": "#2a3f5f"
            },
            "error_y": {
             "color": "#2a3f5f"
            },
            "marker": {
             "line": {
              "color": "#E5ECF6",
              "width": 0.5
             },
             "pattern": {
              "fillmode": "overlay",
              "size": 10,
              "solidity": 0.2
             }
            },
            "type": "bar"
           }
          ],
          "barpolar": [
           {
            "marker": {
             "line": {
              "color": "#E5ECF6",
              "width": 0.5
             },
             "pattern": {
              "fillmode": "overlay",
              "size": 10,
              "solidity": 0.2
             }
            },
            "type": "barpolar"
           }
          ],
          "carpet": [
           {
            "aaxis": {
             "endlinecolor": "#2a3f5f",
             "gridcolor": "white",
             "linecolor": "white",
             "minorgridcolor": "white",
             "startlinecolor": "#2a3f5f"
            },
            "baxis": {
             "endlinecolor": "#2a3f5f",
             "gridcolor": "white",
             "linecolor": "white",
             "minorgridcolor": "white",
             "startlinecolor": "#2a3f5f"
            },
            "type": "carpet"
           }
          ],
          "choropleth": [
           {
            "colorbar": {
             "outlinewidth": 0,
             "ticks": ""
            },
            "type": "choropleth"
           }
          ],
          "contour": [
           {
            "colorbar": {
             "outlinewidth": 0,
             "ticks": ""
            },
            "colorscale": [
             [
              0,
              "#0d0887"
             ],
             [
              0.1111111111111111,
              "#46039f"
             ],
             [
              0.2222222222222222,
              "#7201a8"
             ],
             [
              0.3333333333333333,
              "#9c179e"
             ],
             [
              0.4444444444444444,
              "#bd3786"
             ],
             [
              0.5555555555555556,
              "#d8576b"
             ],
             [
              0.6666666666666666,
              "#ed7953"
             ],
             [
              0.7777777777777778,
              "#fb9f3a"
             ],
             [
              0.8888888888888888,
              "#fdca26"
             ],
             [
              1,
              "#f0f921"
             ]
            ],
            "type": "contour"
           }
          ],
          "contourcarpet": [
           {
            "colorbar": {
             "outlinewidth": 0,
             "ticks": ""
            },
            "type": "contourcarpet"
           }
          ],
          "heatmap": [
           {
            "colorbar": {
             "outlinewidth": 0,
             "ticks": ""
            },
            "colorscale": [
             [
              0,
              "#0d0887"
             ],
             [
              0.1111111111111111,
              "#46039f"
             ],
             [
              0.2222222222222222,
              "#7201a8"
             ],
             [
              0.3333333333333333,
              "#9c179e"
             ],
             [
              0.4444444444444444,
              "#bd3786"
             ],
             [
              0.5555555555555556,
              "#d8576b"
             ],
             [
              0.6666666666666666,
              "#ed7953"
             ],
             [
              0.7777777777777778,
              "#fb9f3a"
             ],
             [
              0.8888888888888888,
              "#fdca26"
             ],
             [
              1,
              "#f0f921"
             ]
            ],
            "type": "heatmap"
           }
          ],
          "heatmapgl": [
           {
            "colorbar": {
             "outlinewidth": 0,
             "ticks": ""
            },
            "colorscale": [
             [
              0,
              "#0d0887"
             ],
             [
              0.1111111111111111,
              "#46039f"
             ],
             [
              0.2222222222222222,
              "#7201a8"
             ],
             [
              0.3333333333333333,
              "#9c179e"
             ],
             [
              0.4444444444444444,
              "#bd3786"
             ],
             [
              0.5555555555555556,
              "#d8576b"
             ],
             [
              0.6666666666666666,
              "#ed7953"
             ],
             [
              0.7777777777777778,
              "#fb9f3a"
             ],
             [
              0.8888888888888888,
              "#fdca26"
             ],
             [
              1,
              "#f0f921"
             ]
            ],
            "type": "heatmapgl"
           }
          ],
          "histogram": [
           {
            "marker": {
             "pattern": {
              "fillmode": "overlay",
              "size": 10,
              "solidity": 0.2
             }
            },
            "type": "histogram"
           }
          ],
          "histogram2d": [
           {
            "colorbar": {
             "outlinewidth": 0,
             "ticks": ""
            },
            "colorscale": [
             [
              0,
              "#0d0887"
             ],
             [
              0.1111111111111111,
              "#46039f"
             ],
             [
              0.2222222222222222,
              "#7201a8"
             ],
             [
              0.3333333333333333,
              "#9c179e"
             ],
             [
              0.4444444444444444,
              "#bd3786"
             ],
             [
              0.5555555555555556,
              "#d8576b"
             ],
             [
              0.6666666666666666,
              "#ed7953"
             ],
             [
              0.7777777777777778,
              "#fb9f3a"
             ],
             [
              0.8888888888888888,
              "#fdca26"
             ],
             [
              1,
              "#f0f921"
             ]
            ],
            "type": "histogram2d"
           }
          ],
          "histogram2dcontour": [
           {
            "colorbar": {
             "outlinewidth": 0,
             "ticks": ""
            },
            "colorscale": [
             [
              0,
              "#0d0887"
             ],
             [
              0.1111111111111111,
              "#46039f"
             ],
             [
              0.2222222222222222,
              "#7201a8"
             ],
             [
              0.3333333333333333,
              "#9c179e"
             ],
             [
              0.4444444444444444,
              "#bd3786"
             ],
             [
              0.5555555555555556,
              "#d8576b"
             ],
             [
              0.6666666666666666,
              "#ed7953"
             ],
             [
              0.7777777777777778,
              "#fb9f3a"
             ],
             [
              0.8888888888888888,
              "#fdca26"
             ],
             [
              1,
              "#f0f921"
             ]
            ],
            "type": "histogram2dcontour"
           }
          ],
          "mesh3d": [
           {
            "colorbar": {
             "outlinewidth": 0,
             "ticks": ""
            },
            "type": "mesh3d"
           }
          ],
          "parcoords": [
           {
            "line": {
             "colorbar": {
              "outlinewidth": 0,
              "ticks": ""
             }
            },
            "type": "parcoords"
           }
          ],
          "pie": [
           {
            "automargin": true,
            "type": "pie"
           }
          ],
          "scatter": [
           {
            "marker": {
             "colorbar": {
              "outlinewidth": 0,
              "ticks": ""
             }
            },
            "type": "scatter"
           }
          ],
          "scatter3d": [
           {
            "line": {
             "colorbar": {
              "outlinewidth": 0,
              "ticks": ""
             }
            },
            "marker": {
             "colorbar": {
              "outlinewidth": 0,
              "ticks": ""
             }
            },
            "type": "scatter3d"
           }
          ],
          "scattercarpet": [
           {
            "marker": {
             "colorbar": {
              "outlinewidth": 0,
              "ticks": ""
             }
            },
            "type": "scattercarpet"
           }
          ],
          "scattergeo": [
           {
            "marker": {
             "colorbar": {
              "outlinewidth": 0,
              "ticks": ""
             }
            },
            "type": "scattergeo"
           }
          ],
          "scattergl": [
           {
            "marker": {
             "colorbar": {
              "outlinewidth": 0,
              "ticks": ""
             }
            },
            "type": "scattergl"
           }
          ],
          "scattermapbox": [
           {
            "marker": {
             "colorbar": {
              "outlinewidth": 0,
              "ticks": ""
             }
            },
            "type": "scattermapbox"
           }
          ],
          "scatterpolar": [
           {
            "marker": {
             "colorbar": {
              "outlinewidth": 0,
              "ticks": ""
             }
            },
            "type": "scatterpolar"
           }
          ],
          "scatterpolargl": [
           {
            "marker": {
             "colorbar": {
              "outlinewidth": 0,
              "ticks": ""
             }
            },
            "type": "scatterpolargl"
           }
          ],
          "scatterternary": [
           {
            "marker": {
             "colorbar": {
              "outlinewidth": 0,
              "ticks": ""
             }
            },
            "type": "scatterternary"
           }
          ],
          "surface": [
           {
            "colorbar": {
             "outlinewidth": 0,
             "ticks": ""
            },
            "colorscale": [
             [
              0,
              "#0d0887"
             ],
             [
              0.1111111111111111,
              "#46039f"
             ],
             [
              0.2222222222222222,
              "#7201a8"
             ],
             [
              0.3333333333333333,
              "#9c179e"
             ],
             [
              0.4444444444444444,
              "#bd3786"
             ],
             [
              0.5555555555555556,
              "#d8576b"
             ],
             [
              0.6666666666666666,
              "#ed7953"
             ],
             [
              0.7777777777777778,
              "#fb9f3a"
             ],
             [
              0.8888888888888888,
              "#fdca26"
             ],
             [
              1,
              "#f0f921"
             ]
            ],
            "type": "surface"
           }
          ],
          "table": [
           {
            "cells": {
             "fill": {
              "color": "#EBF0F8"
             },
             "line": {
              "color": "white"
             }
            },
            "header": {
             "fill": {
              "color": "#C8D4E3"
             },
             "line": {
              "color": "white"
             }
            },
            "type": "table"
           }
          ]
         },
         "layout": {
          "annotationdefaults": {
           "arrowcolor": "#2a3f5f",
           "arrowhead": 0,
           "arrowwidth": 1
          },
          "autotypenumbers": "strict",
          "coloraxis": {
           "colorbar": {
            "outlinewidth": 0,
            "ticks": ""
           }
          },
          "colorscale": {
           "diverging": [
            [
             0,
             "#8e0152"
            ],
            [
             0.1,
             "#c51b7d"
            ],
            [
             0.2,
             "#de77ae"
            ],
            [
             0.3,
             "#f1b6da"
            ],
            [
             0.4,
             "#fde0ef"
            ],
            [
             0.5,
             "#f7f7f7"
            ],
            [
             0.6,
             "#e6f5d0"
            ],
            [
             0.7,
             "#b8e186"
            ],
            [
             0.8,
             "#7fbc41"
            ],
            [
             0.9,
             "#4d9221"
            ],
            [
             1,
             "#276419"
            ]
           ],
           "sequential": [
            [
             0,
             "#0d0887"
            ],
            [
             0.1111111111111111,
             "#46039f"
            ],
            [
             0.2222222222222222,
             "#7201a8"
            ],
            [
             0.3333333333333333,
             "#9c179e"
            ],
            [
             0.4444444444444444,
             "#bd3786"
            ],
            [
             0.5555555555555556,
             "#d8576b"
            ],
            [
             0.6666666666666666,
             "#ed7953"
            ],
            [
             0.7777777777777778,
             "#fb9f3a"
            ],
            [
             0.8888888888888888,
             "#fdca26"
            ],
            [
             1,
             "#f0f921"
            ]
           ],
           "sequentialminus": [
            [
             0,
             "#0d0887"
            ],
            [
             0.1111111111111111,
             "#46039f"
            ],
            [
             0.2222222222222222,
             "#7201a8"
            ],
            [
             0.3333333333333333,
             "#9c179e"
            ],
            [
             0.4444444444444444,
             "#bd3786"
            ],
            [
             0.5555555555555556,
             "#d8576b"
            ],
            [
             0.6666666666666666,
             "#ed7953"
            ],
            [
             0.7777777777777778,
             "#fb9f3a"
            ],
            [
             0.8888888888888888,
             "#fdca26"
            ],
            [
             1,
             "#f0f921"
            ]
           ]
          },
          "colorway": [
           "#636efa",
           "#EF553B",
           "#00cc96",
           "#ab63fa",
           "#FFA15A",
           "#19d3f3",
           "#FF6692",
           "#B6E880",
           "#FF97FF",
           "#FECB52"
          ],
          "font": {
           "color": "#2a3f5f"
          },
          "geo": {
           "bgcolor": "white",
           "lakecolor": "white",
           "landcolor": "#E5ECF6",
           "showlakes": true,
           "showland": true,
           "subunitcolor": "white"
          },
          "hoverlabel": {
           "align": "left"
          },
          "hovermode": "closest",
          "mapbox": {
           "style": "light"
          },
          "paper_bgcolor": "white",
          "plot_bgcolor": "#E5ECF6",
          "polar": {
           "angularaxis": {
            "gridcolor": "white",
            "linecolor": "white",
            "ticks": ""
           },
           "bgcolor": "#E5ECF6",
           "radialaxis": {
            "gridcolor": "white",
            "linecolor": "white",
            "ticks": ""
           }
          },
          "scene": {
           "xaxis": {
            "backgroundcolor": "#E5ECF6",
            "gridcolor": "white",
            "gridwidth": 2,
            "linecolor": "white",
            "showbackground": true,
            "ticks": "",
            "zerolinecolor": "white"
           },
           "yaxis": {
            "backgroundcolor": "#E5ECF6",
            "gridcolor": "white",
            "gridwidth": 2,
            "linecolor": "white",
            "showbackground": true,
            "ticks": "",
            "zerolinecolor": "white"
           },
           "zaxis": {
            "backgroundcolor": "#E5ECF6",
            "gridcolor": "white",
            "gridwidth": 2,
            "linecolor": "white",
            "showbackground": true,
            "ticks": "",
            "zerolinecolor": "white"
           }
          },
          "shapedefaults": {
           "line": {
            "color": "#2a3f5f"
           }
          },
          "ternary": {
           "aaxis": {
            "gridcolor": "white",
            "linecolor": "white",
            "ticks": ""
           },
           "baxis": {
            "gridcolor": "white",
            "linecolor": "white",
            "ticks": ""
           },
           "bgcolor": "#E5ECF6",
           "caxis": {
            "gridcolor": "white",
            "linecolor": "white",
            "ticks": ""
           }
          },
          "title": {
           "x": 0.05
          },
          "xaxis": {
           "automargin": true,
           "gridcolor": "white",
           "linecolor": "white",
           "ticks": "",
           "title": {
            "standoff": 15
           },
           "zerolinecolor": "white",
           "zerolinewidth": 2
          },
          "yaxis": {
           "automargin": true,
           "gridcolor": "white",
           "linecolor": "white",
           "ticks": "",
           "title": {
            "standoff": 15
           },
           "zerolinecolor": "white",
           "zerolinewidth": 2
          }
         }
        },
        "title": {
         "text": "Diagnosis count by year"
        }
       }
      }
     },
     "metadata": {},
     "output_type": "display_data"
    }
   ],
   "source": [
    "fig = px.pie(diagnosis_count_by_year,values = 'Diagnosis Count', names='Diagnosis Category',title = \"Diagnosis count by year\")\n",
    "\n",
    "fig.update_traces(textposition ='inside',textinfo = 'percent',hovertemplate ='Year:%{customdata}')\n",
    "\n",
    "fig.update_traces(customdata=diagnosis_count_by_year['Report Year'])\n",
    "fig.show()"
   ]
  },
  {
   "cell_type": "markdown",
   "metadata": {},
   "source": [
    "### diagnosis category analysis by gender"
   ]
  },
  {
   "cell_type": "code",
   "execution_count": 67,
   "metadata": {},
   "outputs": [
    {
     "data": {
      "text/html": [
       "<div>\n",
       "<style scoped>\n",
       "    .dataframe tbody tr th:only-of-type {\n",
       "        vertical-align: middle;\n",
       "    }\n",
       "\n",
       "    .dataframe tbody tr th {\n",
       "        vertical-align: top;\n",
       "    }\n",
       "\n",
       "    .dataframe thead th {\n",
       "        text-align: right;\n",
       "    }\n",
       "</style>\n",
       "<table border=\"1\" class=\"dataframe\">\n",
       "  <thead>\n",
       "    <tr style=\"text-align: right;\">\n",
       "      <th></th>\n",
       "      <th>index</th>\n",
       "      <th>female count</th>\n",
       "    </tr>\n",
       "  </thead>\n",
       "  <tbody>\n",
       "    <tr>\n",
       "      <th>0</th>\n",
       "      <td>Orthopedic/ Musculoskeletal</td>\n",
       "      <td>2037</td>\n",
       "    </tr>\n",
       "    <tr>\n",
       "      <th>1</th>\n",
       "      <td>Mental</td>\n",
       "      <td>1392</td>\n",
       "    </tr>\n",
       "    <tr>\n",
       "      <th>2</th>\n",
       "      <td>Central Nervous System/ Neuromuscular</td>\n",
       "      <td>1008</td>\n",
       "    </tr>\n",
       "    <tr>\n",
       "      <th>3</th>\n",
       "      <td>Cancer</td>\n",
       "      <td>929</td>\n",
       "    </tr>\n",
       "    <tr>\n",
       "      <th>4</th>\n",
       "      <td>OB-Gyn/ Pregnancy</td>\n",
       "      <td>800</td>\n",
       "    </tr>\n",
       "    <tr>\n",
       "      <th>5</th>\n",
       "      <td>Morbid Obesity</td>\n",
       "      <td>701</td>\n",
       "    </tr>\n",
       "    <tr>\n",
       "      <th>6</th>\n",
       "      <td>Cardiac/Circulatory</td>\n",
       "      <td>485</td>\n",
       "    </tr>\n",
       "    <tr>\n",
       "      <th>7</th>\n",
       "      <td>Infectious</td>\n",
       "      <td>483</td>\n",
       "    </tr>\n",
       "    <tr>\n",
       "      <th>8</th>\n",
       "      <td>Digestive System/ Gastrointestinal</td>\n",
       "      <td>458</td>\n",
       "    </tr>\n",
       "    <tr>\n",
       "      <th>9</th>\n",
       "      <td>Endocrine/ Metabolic</td>\n",
       "      <td>361</td>\n",
       "    </tr>\n",
       "    <tr>\n",
       "      <th>10</th>\n",
       "      <td>Skin</td>\n",
       "      <td>296</td>\n",
       "    </tr>\n",
       "    <tr>\n",
       "      <th>11</th>\n",
       "      <td>Immunologic</td>\n",
       "      <td>267</td>\n",
       "    </tr>\n",
       "    <tr>\n",
       "      <th>12</th>\n",
       "      <td>Respiratory System</td>\n",
       "      <td>264</td>\n",
       "    </tr>\n",
       "    <tr>\n",
       "      <th>13</th>\n",
       "      <td>Pediatrics</td>\n",
       "      <td>262</td>\n",
       "    </tr>\n",
       "    <tr>\n",
       "      <th>14</th>\n",
       "      <td>Prevention/Good Health</td>\n",
       "      <td>260</td>\n",
       "    </tr>\n",
       "    <tr>\n",
       "      <th>15</th>\n",
       "      <td>Ears, Nose, Throat</td>\n",
       "      <td>192</td>\n",
       "    </tr>\n",
       "    <tr>\n",
       "      <th>16</th>\n",
       "      <td>Genitourinary/ Kidney</td>\n",
       "      <td>141</td>\n",
       "    </tr>\n",
       "    <tr>\n",
       "      <th>17</th>\n",
       "      <td>Foot</td>\n",
       "      <td>133</td>\n",
       "    </tr>\n",
       "    <tr>\n",
       "      <th>18</th>\n",
       "      <td>Vision</td>\n",
       "      <td>122</td>\n",
       "    </tr>\n",
       "    <tr>\n",
       "      <th>19</th>\n",
       "      <td>Autism Spectrum</td>\n",
       "      <td>95</td>\n",
       "    </tr>\n",
       "    <tr>\n",
       "      <th>20</th>\n",
       "      <td>Chronic Pain</td>\n",
       "      <td>88</td>\n",
       "    </tr>\n",
       "    <tr>\n",
       "      <th>21</th>\n",
       "      <td>Post Surgical Complication</td>\n",
       "      <td>67</td>\n",
       "    </tr>\n",
       "    <tr>\n",
       "      <th>22</th>\n",
       "      <td>Blood Related</td>\n",
       "      <td>64</td>\n",
       "    </tr>\n",
       "    <tr>\n",
       "      <th>23</th>\n",
       "      <td>Trauma/Injuries</td>\n",
       "      <td>62</td>\n",
       "    </tr>\n",
       "    <tr>\n",
       "      <th>24</th>\n",
       "      <td>Genetic</td>\n",
       "      <td>51</td>\n",
       "    </tr>\n",
       "    <tr>\n",
       "      <th>25</th>\n",
       "      <td>Dental</td>\n",
       "      <td>44</td>\n",
       "    </tr>\n",
       "    <tr>\n",
       "      <th>26</th>\n",
       "      <td>Unknown</td>\n",
       "      <td>36</td>\n",
       "    </tr>\n",
       "    <tr>\n",
       "      <th>27</th>\n",
       "      <td>Not Applicable</td>\n",
       "      <td>34</td>\n",
       "    </tr>\n",
       "    <tr>\n",
       "      <th>28</th>\n",
       "      <td>Organ Failure</td>\n",
       "      <td>3</td>\n",
       "    </tr>\n",
       "    <tr>\n",
       "      <th>29</th>\n",
       "      <td>Alcohol and Drug Addiction</td>\n",
       "      <td>2</td>\n",
       "    </tr>\n",
       "  </tbody>\n",
       "</table>\n",
       "</div>"
      ],
      "text/plain": [
       "                                    index  female count\n",
       "0             Orthopedic/ Musculoskeletal          2037\n",
       "1                                  Mental          1392\n",
       "2   Central Nervous System/ Neuromuscular          1008\n",
       "3                                  Cancer           929\n",
       "4                       OB-Gyn/ Pregnancy           800\n",
       "5                          Morbid Obesity           701\n",
       "6                     Cardiac/Circulatory           485\n",
       "7                              Infectious           483\n",
       "8      Digestive System/ Gastrointestinal           458\n",
       "9                    Endocrine/ Metabolic           361\n",
       "10                                   Skin           296\n",
       "11                            Immunologic           267\n",
       "12                     Respiratory System           264\n",
       "13                             Pediatrics           262\n",
       "14                 Prevention/Good Health           260\n",
       "15                     Ears, Nose, Throat           192\n",
       "16                  Genitourinary/ Kidney           141\n",
       "17                                   Foot           133\n",
       "18                                 Vision           122\n",
       "19                        Autism Spectrum            95\n",
       "20                           Chronic Pain            88\n",
       "21             Post Surgical Complication            67\n",
       "22                          Blood Related            64\n",
       "23                        Trauma/Injuries            62\n",
       "24                                Genetic            51\n",
       "25                                 Dental            44\n",
       "26                                Unknown            36\n",
       "27                         Not Applicable            34\n",
       "28                          Organ Failure             3\n",
       "29             Alcohol and Drug Addiction             2"
      ]
     },
     "execution_count": 67,
     "metadata": {},
     "output_type": "execute_result"
    }
   ],
   "source": [
    "len_df = len(df)\n",
    "\n",
    "diagnosis_count_male = df[df['Patient Gender']=='Male']['Diagnosis Category'].value_counts().reset_index(name ='male count')\n",
    "\n",
    "diagnosis_count_male\n",
    "\n",
    "diagnosis_count_female = df[df['Patient Gender']=='Female']['Diagnosis Category'].value_counts().reset_index(name ='female count')\n",
    "\n",
    "diagnosis_count_female"
   ]
  },
  {
   "cell_type": "code",
   "execution_count": 68,
   "metadata": {},
   "outputs": [
    {
     "data": {
      "text/html": [
       "<div>\n",
       "<style scoped>\n",
       "    .dataframe tbody tr th:only-of-type {\n",
       "        vertical-align: middle;\n",
       "    }\n",
       "\n",
       "    .dataframe tbody tr th {\n",
       "        vertical-align: top;\n",
       "    }\n",
       "\n",
       "    .dataframe thead th {\n",
       "        text-align: right;\n",
       "    }\n",
       "</style>\n",
       "<table border=\"1\" class=\"dataframe\">\n",
       "  <thead>\n",
       "    <tr style=\"text-align: right;\">\n",
       "      <th></th>\n",
       "      <th>index</th>\n",
       "      <th>male count</th>\n",
       "      <th>Male percent</th>\n",
       "    </tr>\n",
       "  </thead>\n",
       "  <tbody>\n",
       "    <tr>\n",
       "      <th>0</th>\n",
       "      <td>Orthopedic/ Musculoskeletal</td>\n",
       "      <td>1431</td>\n",
       "      <td>7.435698</td>\n",
       "    </tr>\n",
       "    <tr>\n",
       "      <th>1</th>\n",
       "      <td>Mental</td>\n",
       "      <td>1120</td>\n",
       "      <td>5.819693</td>\n",
       "    </tr>\n",
       "    <tr>\n",
       "      <th>2</th>\n",
       "      <td>Cancer</td>\n",
       "      <td>752</td>\n",
       "      <td>3.907508</td>\n",
       "    </tr>\n",
       "    <tr>\n",
       "      <th>3</th>\n",
       "      <td>Central Nervous System/ Neuromuscular</td>\n",
       "      <td>612</td>\n",
       "      <td>3.180047</td>\n",
       "    </tr>\n",
       "    <tr>\n",
       "      <th>4</th>\n",
       "      <td>Infectious</td>\n",
       "      <td>576</td>\n",
       "      <td>2.992985</td>\n",
       "    </tr>\n",
       "    <tr>\n",
       "      <th>5</th>\n",
       "      <td>Cardiac/Circulatory</td>\n",
       "      <td>480</td>\n",
       "      <td>2.494154</td>\n",
       "    </tr>\n",
       "    <tr>\n",
       "      <th>6</th>\n",
       "      <td>Pediatrics</td>\n",
       "      <td>447</td>\n",
       "      <td>2.322681</td>\n",
       "    </tr>\n",
       "    <tr>\n",
       "      <th>7</th>\n",
       "      <td>Autism Spectrum</td>\n",
       "      <td>429</td>\n",
       "      <td>2.229150</td>\n",
       "    </tr>\n",
       "    <tr>\n",
       "      <th>8</th>\n",
       "      <td>Endocrine/ Metabolic</td>\n",
       "      <td>418</td>\n",
       "      <td>2.171993</td>\n",
       "    </tr>\n",
       "    <tr>\n",
       "      <th>9</th>\n",
       "      <td>Digestive System/ Gastrointestinal</td>\n",
       "      <td>300</td>\n",
       "      <td>1.558846</td>\n",
       "    </tr>\n",
       "    <tr>\n",
       "      <th>10</th>\n",
       "      <td>Respiratory System</td>\n",
       "      <td>248</td>\n",
       "      <td>1.288646</td>\n",
       "    </tr>\n",
       "    <tr>\n",
       "      <th>11</th>\n",
       "      <td>Genitourinary/ Kidney</td>\n",
       "      <td>209</td>\n",
       "      <td>1.085996</td>\n",
       "    </tr>\n",
       "    <tr>\n",
       "      <th>12</th>\n",
       "      <td>Skin</td>\n",
       "      <td>185</td>\n",
       "      <td>0.961289</td>\n",
       "    </tr>\n",
       "    <tr>\n",
       "      <th>13</th>\n",
       "      <td>Ears, Nose, Throat</td>\n",
       "      <td>184</td>\n",
       "      <td>0.956092</td>\n",
       "    </tr>\n",
       "    <tr>\n",
       "      <th>14</th>\n",
       "      <td>Morbid Obesity</td>\n",
       "      <td>123</td>\n",
       "      <td>0.639127</td>\n",
       "    </tr>\n",
       "    <tr>\n",
       "      <th>15</th>\n",
       "      <td>Vision</td>\n",
       "      <td>101</td>\n",
       "      <td>0.524812</td>\n",
       "    </tr>\n",
       "    <tr>\n",
       "      <th>16</th>\n",
       "      <td>Foot</td>\n",
       "      <td>81</td>\n",
       "      <td>0.420889</td>\n",
       "    </tr>\n",
       "    <tr>\n",
       "      <th>17</th>\n",
       "      <td>Immunologic</td>\n",
       "      <td>76</td>\n",
       "      <td>0.394908</td>\n",
       "    </tr>\n",
       "    <tr>\n",
       "      <th>18</th>\n",
       "      <td>Trauma/Injuries</td>\n",
       "      <td>65</td>\n",
       "      <td>0.337750</td>\n",
       "    </tr>\n",
       "    <tr>\n",
       "      <th>19</th>\n",
       "      <td>Genetic</td>\n",
       "      <td>48</td>\n",
       "      <td>0.249415</td>\n",
       "    </tr>\n",
       "    <tr>\n",
       "      <th>20</th>\n",
       "      <td>Prevention/Good Health</td>\n",
       "      <td>40</td>\n",
       "      <td>0.207846</td>\n",
       "    </tr>\n",
       "    <tr>\n",
       "      <th>21</th>\n",
       "      <td>Blood Related</td>\n",
       "      <td>37</td>\n",
       "      <td>0.192258</td>\n",
       "    </tr>\n",
       "    <tr>\n",
       "      <th>22</th>\n",
       "      <td>Chronic Pain</td>\n",
       "      <td>34</td>\n",
       "      <td>0.176669</td>\n",
       "    </tr>\n",
       "    <tr>\n",
       "      <th>23</th>\n",
       "      <td>Dental</td>\n",
       "      <td>32</td>\n",
       "      <td>0.166277</td>\n",
       "    </tr>\n",
       "    <tr>\n",
       "      <th>24</th>\n",
       "      <td>Not Applicable</td>\n",
       "      <td>29</td>\n",
       "      <td>0.150688</td>\n",
       "    </tr>\n",
       "    <tr>\n",
       "      <th>25</th>\n",
       "      <td>Unknown</td>\n",
       "      <td>23</td>\n",
       "      <td>0.119512</td>\n",
       "    </tr>\n",
       "    <tr>\n",
       "      <th>26</th>\n",
       "      <td>Post Surgical Complication</td>\n",
       "      <td>18</td>\n",
       "      <td>0.093531</td>\n",
       "    </tr>\n",
       "    <tr>\n",
       "      <th>27</th>\n",
       "      <td>Organ Failure</td>\n",
       "      <td>5</td>\n",
       "      <td>0.025981</td>\n",
       "    </tr>\n",
       "    <tr>\n",
       "      <th>28</th>\n",
       "      <td>OB-Gyn/ Pregnancy</td>\n",
       "      <td>1</td>\n",
       "      <td>0.005196</td>\n",
       "    </tr>\n",
       "    <tr>\n",
       "      <th>29</th>\n",
       "      <td>Alcohol and Drug Addiction</td>\n",
       "      <td>1</td>\n",
       "      <td>0.005196</td>\n",
       "    </tr>\n",
       "  </tbody>\n",
       "</table>\n",
       "</div>"
      ],
      "text/plain": [
       "                                    index  male count  Male percent\n",
       "0             Orthopedic/ Musculoskeletal        1431      7.435698\n",
       "1                                  Mental        1120      5.819693\n",
       "2                                  Cancer         752      3.907508\n",
       "3   Central Nervous System/ Neuromuscular         612      3.180047\n",
       "4                              Infectious         576      2.992985\n",
       "5                     Cardiac/Circulatory         480      2.494154\n",
       "6                              Pediatrics         447      2.322681\n",
       "7                         Autism Spectrum         429      2.229150\n",
       "8                    Endocrine/ Metabolic         418      2.171993\n",
       "9      Digestive System/ Gastrointestinal         300      1.558846\n",
       "10                     Respiratory System         248      1.288646\n",
       "11                  Genitourinary/ Kidney         209      1.085996\n",
       "12                                   Skin         185      0.961289\n",
       "13                     Ears, Nose, Throat         184      0.956092\n",
       "14                         Morbid Obesity         123      0.639127\n",
       "15                                 Vision         101      0.524812\n",
       "16                                   Foot          81      0.420889\n",
       "17                            Immunologic          76      0.394908\n",
       "18                        Trauma/Injuries          65      0.337750\n",
       "19                                Genetic          48      0.249415\n",
       "20                 Prevention/Good Health          40      0.207846\n",
       "21                          Blood Related          37      0.192258\n",
       "22                           Chronic Pain          34      0.176669\n",
       "23                                 Dental          32      0.166277\n",
       "24                         Not Applicable          29      0.150688\n",
       "25                                Unknown          23      0.119512\n",
       "26             Post Surgical Complication          18      0.093531\n",
       "27                          Organ Failure           5      0.025981\n",
       "28                      OB-Gyn/ Pregnancy           1      0.005196\n",
       "29             Alcohol and Drug Addiction           1      0.005196"
      ]
     },
     "execution_count": 68,
     "metadata": {},
     "output_type": "execute_result"
    }
   ],
   "source": [
    "diagnosis_count_male['Male percent'] = diagnosis_count_male['male count']/len_df *100\n",
    "\n",
    "diagnosis_count_female['Female percent'] = diagnosis_count_female['female count']/len_df *100\n",
    "\n",
    "diagnosis_count_male"
   ]
  },
  {
   "cell_type": "code",
   "execution_count": 69,
   "metadata": {},
   "outputs": [],
   "source": [
    "diagnosis_percent = diagnosis_count_female.merge(diagnosis_count_male)"
   ]
  },
  {
   "cell_type": "code",
   "execution_count": 70,
   "metadata": {},
   "outputs": [
    {
     "data": {
      "text/html": [
       "<div>\n",
       "<style scoped>\n",
       "    .dataframe tbody tr th:only-of-type {\n",
       "        vertical-align: middle;\n",
       "    }\n",
       "\n",
       "    .dataframe tbody tr th {\n",
       "        vertical-align: top;\n",
       "    }\n",
       "\n",
       "    .dataframe thead th {\n",
       "        text-align: right;\n",
       "    }\n",
       "</style>\n",
       "<table border=\"1\" class=\"dataframe\">\n",
       "  <thead>\n",
       "    <tr style=\"text-align: right;\">\n",
       "      <th></th>\n",
       "      <th>index</th>\n",
       "      <th>female count</th>\n",
       "      <th>Female percent</th>\n",
       "      <th>male count</th>\n",
       "      <th>Male percent</th>\n",
       "    </tr>\n",
       "  </thead>\n",
       "  <tbody>\n",
       "    <tr>\n",
       "      <th>0</th>\n",
       "      <td>Orthopedic/ Musculoskeletal</td>\n",
       "      <td>2037</td>\n",
       "      <td>10.584567</td>\n",
       "      <td>1431</td>\n",
       "      <td>7.435698</td>\n",
       "    </tr>\n",
       "    <tr>\n",
       "      <th>1</th>\n",
       "      <td>Mental</td>\n",
       "      <td>1392</td>\n",
       "      <td>7.233048</td>\n",
       "      <td>1120</td>\n",
       "      <td>5.819693</td>\n",
       "    </tr>\n",
       "    <tr>\n",
       "      <th>2</th>\n",
       "      <td>Central Nervous System/ Neuromuscular</td>\n",
       "      <td>1008</td>\n",
       "      <td>5.237724</td>\n",
       "      <td>612</td>\n",
       "      <td>3.180047</td>\n",
       "    </tr>\n",
       "    <tr>\n",
       "      <th>3</th>\n",
       "      <td>Cancer</td>\n",
       "      <td>929</td>\n",
       "      <td>4.827228</td>\n",
       "      <td>752</td>\n",
       "      <td>3.907508</td>\n",
       "    </tr>\n",
       "    <tr>\n",
       "      <th>4</th>\n",
       "      <td>OB-Gyn/ Pregnancy</td>\n",
       "      <td>800</td>\n",
       "      <td>4.156924</td>\n",
       "      <td>1</td>\n",
       "      <td>0.005196</td>\n",
       "    </tr>\n",
       "    <tr>\n",
       "      <th>5</th>\n",
       "      <td>Morbid Obesity</td>\n",
       "      <td>701</td>\n",
       "      <td>3.642505</td>\n",
       "      <td>123</td>\n",
       "      <td>0.639127</td>\n",
       "    </tr>\n",
       "    <tr>\n",
       "      <th>6</th>\n",
       "      <td>Cardiac/Circulatory</td>\n",
       "      <td>485</td>\n",
       "      <td>2.520135</td>\n",
       "      <td>480</td>\n",
       "      <td>2.494154</td>\n",
       "    </tr>\n",
       "    <tr>\n",
       "      <th>7</th>\n",
       "      <td>Infectious</td>\n",
       "      <td>483</td>\n",
       "      <td>2.509743</td>\n",
       "      <td>576</td>\n",
       "      <td>2.992985</td>\n",
       "    </tr>\n",
       "    <tr>\n",
       "      <th>8</th>\n",
       "      <td>Digestive System/ Gastrointestinal</td>\n",
       "      <td>458</td>\n",
       "      <td>2.379839</td>\n",
       "      <td>300</td>\n",
       "      <td>1.558846</td>\n",
       "    </tr>\n",
       "    <tr>\n",
       "      <th>9</th>\n",
       "      <td>Endocrine/ Metabolic</td>\n",
       "      <td>361</td>\n",
       "      <td>1.875812</td>\n",
       "      <td>418</td>\n",
       "      <td>2.171993</td>\n",
       "    </tr>\n",
       "    <tr>\n",
       "      <th>10</th>\n",
       "      <td>Skin</td>\n",
       "      <td>296</td>\n",
       "      <td>1.538062</td>\n",
       "      <td>185</td>\n",
       "      <td>0.961289</td>\n",
       "    </tr>\n",
       "    <tr>\n",
       "      <th>11</th>\n",
       "      <td>Immunologic</td>\n",
       "      <td>267</td>\n",
       "      <td>1.387373</td>\n",
       "      <td>76</td>\n",
       "      <td>0.394908</td>\n",
       "    </tr>\n",
       "    <tr>\n",
       "      <th>12</th>\n",
       "      <td>Respiratory System</td>\n",
       "      <td>264</td>\n",
       "      <td>1.371785</td>\n",
       "      <td>248</td>\n",
       "      <td>1.288646</td>\n",
       "    </tr>\n",
       "    <tr>\n",
       "      <th>13</th>\n",
       "      <td>Pediatrics</td>\n",
       "      <td>262</td>\n",
       "      <td>1.361393</td>\n",
       "      <td>447</td>\n",
       "      <td>2.322681</td>\n",
       "    </tr>\n",
       "    <tr>\n",
       "      <th>14</th>\n",
       "      <td>Prevention/Good Health</td>\n",
       "      <td>260</td>\n",
       "      <td>1.351000</td>\n",
       "      <td>40</td>\n",
       "      <td>0.207846</td>\n",
       "    </tr>\n",
       "    <tr>\n",
       "      <th>15</th>\n",
       "      <td>Ears, Nose, Throat</td>\n",
       "      <td>192</td>\n",
       "      <td>0.997662</td>\n",
       "      <td>184</td>\n",
       "      <td>0.956092</td>\n",
       "    </tr>\n",
       "    <tr>\n",
       "      <th>16</th>\n",
       "      <td>Genitourinary/ Kidney</td>\n",
       "      <td>141</td>\n",
       "      <td>0.732658</td>\n",
       "      <td>209</td>\n",
       "      <td>1.085996</td>\n",
       "    </tr>\n",
       "    <tr>\n",
       "      <th>17</th>\n",
       "      <td>Foot</td>\n",
       "      <td>133</td>\n",
       "      <td>0.691089</td>\n",
       "      <td>81</td>\n",
       "      <td>0.420889</td>\n",
       "    </tr>\n",
       "    <tr>\n",
       "      <th>18</th>\n",
       "      <td>Vision</td>\n",
       "      <td>122</td>\n",
       "      <td>0.633931</td>\n",
       "      <td>101</td>\n",
       "      <td>0.524812</td>\n",
       "    </tr>\n",
       "    <tr>\n",
       "      <th>19</th>\n",
       "      <td>Autism Spectrum</td>\n",
       "      <td>95</td>\n",
       "      <td>0.493635</td>\n",
       "      <td>429</td>\n",
       "      <td>2.229150</td>\n",
       "    </tr>\n",
       "    <tr>\n",
       "      <th>20</th>\n",
       "      <td>Chronic Pain</td>\n",
       "      <td>88</td>\n",
       "      <td>0.457262</td>\n",
       "      <td>34</td>\n",
       "      <td>0.176669</td>\n",
       "    </tr>\n",
       "    <tr>\n",
       "      <th>21</th>\n",
       "      <td>Post Surgical Complication</td>\n",
       "      <td>67</td>\n",
       "      <td>0.348142</td>\n",
       "      <td>18</td>\n",
       "      <td>0.093531</td>\n",
       "    </tr>\n",
       "    <tr>\n",
       "      <th>22</th>\n",
       "      <td>Blood Related</td>\n",
       "      <td>64</td>\n",
       "      <td>0.332554</td>\n",
       "      <td>37</td>\n",
       "      <td>0.192258</td>\n",
       "    </tr>\n",
       "    <tr>\n",
       "      <th>23</th>\n",
       "      <td>Trauma/Injuries</td>\n",
       "      <td>62</td>\n",
       "      <td>0.322162</td>\n",
       "      <td>65</td>\n",
       "      <td>0.337750</td>\n",
       "    </tr>\n",
       "    <tr>\n",
       "      <th>24</th>\n",
       "      <td>Genetic</td>\n",
       "      <td>51</td>\n",
       "      <td>0.265004</td>\n",
       "      <td>48</td>\n",
       "      <td>0.249415</td>\n",
       "    </tr>\n",
       "    <tr>\n",
       "      <th>25</th>\n",
       "      <td>Dental</td>\n",
       "      <td>44</td>\n",
       "      <td>0.228631</td>\n",
       "      <td>32</td>\n",
       "      <td>0.166277</td>\n",
       "    </tr>\n",
       "    <tr>\n",
       "      <th>26</th>\n",
       "      <td>Unknown</td>\n",
       "      <td>36</td>\n",
       "      <td>0.187062</td>\n",
       "      <td>23</td>\n",
       "      <td>0.119512</td>\n",
       "    </tr>\n",
       "    <tr>\n",
       "      <th>27</th>\n",
       "      <td>Not Applicable</td>\n",
       "      <td>34</td>\n",
       "      <td>0.176669</td>\n",
       "      <td>29</td>\n",
       "      <td>0.150688</td>\n",
       "    </tr>\n",
       "    <tr>\n",
       "      <th>28</th>\n",
       "      <td>Organ Failure</td>\n",
       "      <td>3</td>\n",
       "      <td>0.015588</td>\n",
       "      <td>5</td>\n",
       "      <td>0.025981</td>\n",
       "    </tr>\n",
       "    <tr>\n",
       "      <th>29</th>\n",
       "      <td>Alcohol and Drug Addiction</td>\n",
       "      <td>2</td>\n",
       "      <td>0.010392</td>\n",
       "      <td>1</td>\n",
       "      <td>0.005196</td>\n",
       "    </tr>\n",
       "  </tbody>\n",
       "</table>\n",
       "</div>"
      ],
      "text/plain": [
       "                                    index  female count  Female percent  \\\n",
       "0             Orthopedic/ Musculoskeletal          2037       10.584567   \n",
       "1                                  Mental          1392        7.233048   \n",
       "2   Central Nervous System/ Neuromuscular          1008        5.237724   \n",
       "3                                  Cancer           929        4.827228   \n",
       "4                       OB-Gyn/ Pregnancy           800        4.156924   \n",
       "5                          Morbid Obesity           701        3.642505   \n",
       "6                     Cardiac/Circulatory           485        2.520135   \n",
       "7                              Infectious           483        2.509743   \n",
       "8      Digestive System/ Gastrointestinal           458        2.379839   \n",
       "9                    Endocrine/ Metabolic           361        1.875812   \n",
       "10                                   Skin           296        1.538062   \n",
       "11                            Immunologic           267        1.387373   \n",
       "12                     Respiratory System           264        1.371785   \n",
       "13                             Pediatrics           262        1.361393   \n",
       "14                 Prevention/Good Health           260        1.351000   \n",
       "15                     Ears, Nose, Throat           192        0.997662   \n",
       "16                  Genitourinary/ Kidney           141        0.732658   \n",
       "17                                   Foot           133        0.691089   \n",
       "18                                 Vision           122        0.633931   \n",
       "19                        Autism Spectrum            95        0.493635   \n",
       "20                           Chronic Pain            88        0.457262   \n",
       "21             Post Surgical Complication            67        0.348142   \n",
       "22                          Blood Related            64        0.332554   \n",
       "23                        Trauma/Injuries            62        0.322162   \n",
       "24                                Genetic            51        0.265004   \n",
       "25                                 Dental            44        0.228631   \n",
       "26                                Unknown            36        0.187062   \n",
       "27                         Not Applicable            34        0.176669   \n",
       "28                          Organ Failure             3        0.015588   \n",
       "29             Alcohol and Drug Addiction             2        0.010392   \n",
       "\n",
       "    male count  Male percent  \n",
       "0         1431      7.435698  \n",
       "1         1120      5.819693  \n",
       "2          612      3.180047  \n",
       "3          752      3.907508  \n",
       "4            1      0.005196  \n",
       "5          123      0.639127  \n",
       "6          480      2.494154  \n",
       "7          576      2.992985  \n",
       "8          300      1.558846  \n",
       "9          418      2.171993  \n",
       "10         185      0.961289  \n",
       "11          76      0.394908  \n",
       "12         248      1.288646  \n",
       "13         447      2.322681  \n",
       "14          40      0.207846  \n",
       "15         184      0.956092  \n",
       "16         209      1.085996  \n",
       "17          81      0.420889  \n",
       "18         101      0.524812  \n",
       "19         429      2.229150  \n",
       "20          34      0.176669  \n",
       "21          18      0.093531  \n",
       "22          37      0.192258  \n",
       "23          65      0.337750  \n",
       "24          48      0.249415  \n",
       "25          32      0.166277  \n",
       "26          23      0.119512  \n",
       "27          29      0.150688  \n",
       "28           5      0.025981  \n",
       "29           1      0.005196  "
      ]
     },
     "execution_count": 70,
     "metadata": {},
     "output_type": "execute_result"
    }
   ],
   "source": [
    "diagnosis_percent"
   ]
  },
  {
   "cell_type": "code",
   "execution_count": 71,
   "metadata": {},
   "outputs": [],
   "source": [
    "diagnosis_percent = diagnosis_percent.rename(columns={'index':'Diagnosis Category'})"
   ]
  },
  {
   "cell_type": "code",
   "execution_count": 72,
   "metadata": {},
   "outputs": [
    {
     "data": {
      "text/html": [
       "<div>\n",
       "<style scoped>\n",
       "    .dataframe tbody tr th:only-of-type {\n",
       "        vertical-align: middle;\n",
       "    }\n",
       "\n",
       "    .dataframe tbody tr th {\n",
       "        vertical-align: top;\n",
       "    }\n",
       "\n",
       "    .dataframe thead th {\n",
       "        text-align: right;\n",
       "    }\n",
       "</style>\n",
       "<table border=\"1\" class=\"dataframe\">\n",
       "  <thead>\n",
       "    <tr style=\"text-align: right;\">\n",
       "      <th></th>\n",
       "      <th>Diagnosis Category</th>\n",
       "      <th>female count</th>\n",
       "      <th>Female percent</th>\n",
       "      <th>male count</th>\n",
       "      <th>Male percent</th>\n",
       "    </tr>\n",
       "  </thead>\n",
       "  <tbody>\n",
       "    <tr>\n",
       "      <th>0</th>\n",
       "      <td>Orthopedic/ Musculoskeletal</td>\n",
       "      <td>2037</td>\n",
       "      <td>10.584567</td>\n",
       "      <td>1431</td>\n",
       "      <td>7.435698</td>\n",
       "    </tr>\n",
       "    <tr>\n",
       "      <th>1</th>\n",
       "      <td>Mental</td>\n",
       "      <td>1392</td>\n",
       "      <td>7.233048</td>\n",
       "      <td>1120</td>\n",
       "      <td>5.819693</td>\n",
       "    </tr>\n",
       "    <tr>\n",
       "      <th>2</th>\n",
       "      <td>Central Nervous System/ Neuromuscular</td>\n",
       "      <td>1008</td>\n",
       "      <td>5.237724</td>\n",
       "      <td>612</td>\n",
       "      <td>3.180047</td>\n",
       "    </tr>\n",
       "    <tr>\n",
       "      <th>3</th>\n",
       "      <td>Cancer</td>\n",
       "      <td>929</td>\n",
       "      <td>4.827228</td>\n",
       "      <td>752</td>\n",
       "      <td>3.907508</td>\n",
       "    </tr>\n",
       "    <tr>\n",
       "      <th>4</th>\n",
       "      <td>OB-Gyn/ Pregnancy</td>\n",
       "      <td>800</td>\n",
       "      <td>4.156924</td>\n",
       "      <td>1</td>\n",
       "      <td>0.005196</td>\n",
       "    </tr>\n",
       "    <tr>\n",
       "      <th>5</th>\n",
       "      <td>Morbid Obesity</td>\n",
       "      <td>701</td>\n",
       "      <td>3.642505</td>\n",
       "      <td>123</td>\n",
       "      <td>0.639127</td>\n",
       "    </tr>\n",
       "    <tr>\n",
       "      <th>6</th>\n",
       "      <td>Cardiac/Circulatory</td>\n",
       "      <td>485</td>\n",
       "      <td>2.520135</td>\n",
       "      <td>480</td>\n",
       "      <td>2.494154</td>\n",
       "    </tr>\n",
       "    <tr>\n",
       "      <th>7</th>\n",
       "      <td>Infectious</td>\n",
       "      <td>483</td>\n",
       "      <td>2.509743</td>\n",
       "      <td>576</td>\n",
       "      <td>2.992985</td>\n",
       "    </tr>\n",
       "    <tr>\n",
       "      <th>8</th>\n",
       "      <td>Digestive System/ Gastrointestinal</td>\n",
       "      <td>458</td>\n",
       "      <td>2.379839</td>\n",
       "      <td>300</td>\n",
       "      <td>1.558846</td>\n",
       "    </tr>\n",
       "    <tr>\n",
       "      <th>9</th>\n",
       "      <td>Endocrine/ Metabolic</td>\n",
       "      <td>361</td>\n",
       "      <td>1.875812</td>\n",
       "      <td>418</td>\n",
       "      <td>2.171993</td>\n",
       "    </tr>\n",
       "  </tbody>\n",
       "</table>\n",
       "</div>"
      ],
      "text/plain": [
       "                      Diagnosis Category  female count  Female percent  \\\n",
       "0            Orthopedic/ Musculoskeletal          2037       10.584567   \n",
       "1                                 Mental          1392        7.233048   \n",
       "2  Central Nervous System/ Neuromuscular          1008        5.237724   \n",
       "3                                 Cancer           929        4.827228   \n",
       "4                      OB-Gyn/ Pregnancy           800        4.156924   \n",
       "5                         Morbid Obesity           701        3.642505   \n",
       "6                    Cardiac/Circulatory           485        2.520135   \n",
       "7                             Infectious           483        2.509743   \n",
       "8     Digestive System/ Gastrointestinal           458        2.379839   \n",
       "9                   Endocrine/ Metabolic           361        1.875812   \n",
       "\n",
       "   male count  Male percent  \n",
       "0        1431      7.435698  \n",
       "1        1120      5.819693  \n",
       "2         612      3.180047  \n",
       "3         752      3.907508  \n",
       "4           1      0.005196  \n",
       "5         123      0.639127  \n",
       "6         480      2.494154  \n",
       "7         576      2.992985  \n",
       "8         300      1.558846  \n",
       "9         418      2.171993  "
      ]
     },
     "execution_count": 72,
     "metadata": {},
     "output_type": "execute_result"
    }
   ],
   "source": [
    "diagnosis_percent = diagnosis_percent.head(10)\n",
    "diagnosis_percent"
   ]
  },
  {
   "cell_type": "code",
   "execution_count": 73,
   "metadata": {},
   "outputs": [
    {
     "data": {
      "application/vnd.plotly.v1+json": {
       "config": {
        "plotlyServerURL": "https://plot.ly"
       },
       "data": [
        {
         "alignmentgroup": "True",
         "hovertemplate": "variable=male count<br>value=%{x}<br>Diagnosis Category=%{y}<extra></extra>",
         "legendgroup": "male count",
         "marker": {
          "color": "#636efa",
          "pattern": {
           "shape": ""
          }
         },
         "name": "male count",
         "offsetgroup": "male count",
         "orientation": "h",
         "showlegend": true,
         "textposition": "auto",
         "texttemplate": "%{x}",
         "type": "bar",
         "x": [
          1431,
          1120,
          612,
          752,
          1,
          123,
          480,
          576,
          300,
          418
         ],
         "xaxis": "x",
         "y": [
          "Orthopedic/ Musculoskeletal",
          "Mental",
          "Central Nervous System/ Neuromuscular",
          "Cancer",
          "OB-Gyn/ Pregnancy",
          "Morbid Obesity",
          "Cardiac/Circulatory",
          "Infectious",
          "Digestive System/ Gastrointestinal",
          "Endocrine/ Metabolic"
         ],
         "yaxis": "y"
        },
        {
         "alignmentgroup": "True",
         "hovertemplate": "variable=female count<br>value=%{x}<br>Diagnosis Category=%{y}<extra></extra>",
         "legendgroup": "female count",
         "marker": {
          "color": "#EF553B",
          "pattern": {
           "shape": ""
          }
         },
         "name": "female count",
         "offsetgroup": "female count",
         "orientation": "h",
         "showlegend": true,
         "textposition": "auto",
         "texttemplate": "%{x}",
         "type": "bar",
         "x": [
          2037,
          1392,
          1008,
          929,
          800,
          701,
          485,
          483,
          458,
          361
         ],
         "xaxis": "x",
         "y": [
          "Orthopedic/ Musculoskeletal",
          "Mental",
          "Central Nervous System/ Neuromuscular",
          "Cancer",
          "OB-Gyn/ Pregnancy",
          "Morbid Obesity",
          "Cardiac/Circulatory",
          "Infectious",
          "Digestive System/ Gastrointestinal",
          "Endocrine/ Metabolic"
         ],
         "yaxis": "y"
        }
       ],
       "layout": {
        "barmode": "relative",
        "legend": {
         "title": {
          "text": "variable"
         },
         "tracegroupgap": 0
        },
        "margin": {
         "t": 60
        },
        "template": {
         "data": {
          "bar": [
           {
            "error_x": {
             "color": "#2a3f5f"
            },
            "error_y": {
             "color": "#2a3f5f"
            },
            "marker": {
             "line": {
              "color": "#E5ECF6",
              "width": 0.5
             },
             "pattern": {
              "fillmode": "overlay",
              "size": 10,
              "solidity": 0.2
             }
            },
            "type": "bar"
           }
          ],
          "barpolar": [
           {
            "marker": {
             "line": {
              "color": "#E5ECF6",
              "width": 0.5
             },
             "pattern": {
              "fillmode": "overlay",
              "size": 10,
              "solidity": 0.2
             }
            },
            "type": "barpolar"
           }
          ],
          "carpet": [
           {
            "aaxis": {
             "endlinecolor": "#2a3f5f",
             "gridcolor": "white",
             "linecolor": "white",
             "minorgridcolor": "white",
             "startlinecolor": "#2a3f5f"
            },
            "baxis": {
             "endlinecolor": "#2a3f5f",
             "gridcolor": "white",
             "linecolor": "white",
             "minorgridcolor": "white",
             "startlinecolor": "#2a3f5f"
            },
            "type": "carpet"
           }
          ],
          "choropleth": [
           {
            "colorbar": {
             "outlinewidth": 0,
             "ticks": ""
            },
            "type": "choropleth"
           }
          ],
          "contour": [
           {
            "colorbar": {
             "outlinewidth": 0,
             "ticks": ""
            },
            "colorscale": [
             [
              0,
              "#0d0887"
             ],
             [
              0.1111111111111111,
              "#46039f"
             ],
             [
              0.2222222222222222,
              "#7201a8"
             ],
             [
              0.3333333333333333,
              "#9c179e"
             ],
             [
              0.4444444444444444,
              "#bd3786"
             ],
             [
              0.5555555555555556,
              "#d8576b"
             ],
             [
              0.6666666666666666,
              "#ed7953"
             ],
             [
              0.7777777777777778,
              "#fb9f3a"
             ],
             [
              0.8888888888888888,
              "#fdca26"
             ],
             [
              1,
              "#f0f921"
             ]
            ],
            "type": "contour"
           }
          ],
          "contourcarpet": [
           {
            "colorbar": {
             "outlinewidth": 0,
             "ticks": ""
            },
            "type": "contourcarpet"
           }
          ],
          "heatmap": [
           {
            "colorbar": {
             "outlinewidth": 0,
             "ticks": ""
            },
            "colorscale": [
             [
              0,
              "#0d0887"
             ],
             [
              0.1111111111111111,
              "#46039f"
             ],
             [
              0.2222222222222222,
              "#7201a8"
             ],
             [
              0.3333333333333333,
              "#9c179e"
             ],
             [
              0.4444444444444444,
              "#bd3786"
             ],
             [
              0.5555555555555556,
              "#d8576b"
             ],
             [
              0.6666666666666666,
              "#ed7953"
             ],
             [
              0.7777777777777778,
              "#fb9f3a"
             ],
             [
              0.8888888888888888,
              "#fdca26"
             ],
             [
              1,
              "#f0f921"
             ]
            ],
            "type": "heatmap"
           }
          ],
          "heatmapgl": [
           {
            "colorbar": {
             "outlinewidth": 0,
             "ticks": ""
            },
            "colorscale": [
             [
              0,
              "#0d0887"
             ],
             [
              0.1111111111111111,
              "#46039f"
             ],
             [
              0.2222222222222222,
              "#7201a8"
             ],
             [
              0.3333333333333333,
              "#9c179e"
             ],
             [
              0.4444444444444444,
              "#bd3786"
             ],
             [
              0.5555555555555556,
              "#d8576b"
             ],
             [
              0.6666666666666666,
              "#ed7953"
             ],
             [
              0.7777777777777778,
              "#fb9f3a"
             ],
             [
              0.8888888888888888,
              "#fdca26"
             ],
             [
              1,
              "#f0f921"
             ]
            ],
            "type": "heatmapgl"
           }
          ],
          "histogram": [
           {
            "marker": {
             "pattern": {
              "fillmode": "overlay",
              "size": 10,
              "solidity": 0.2
             }
            },
            "type": "histogram"
           }
          ],
          "histogram2d": [
           {
            "colorbar": {
             "outlinewidth": 0,
             "ticks": ""
            },
            "colorscale": [
             [
              0,
              "#0d0887"
             ],
             [
              0.1111111111111111,
              "#46039f"
             ],
             [
              0.2222222222222222,
              "#7201a8"
             ],
             [
              0.3333333333333333,
              "#9c179e"
             ],
             [
              0.4444444444444444,
              "#bd3786"
             ],
             [
              0.5555555555555556,
              "#d8576b"
             ],
             [
              0.6666666666666666,
              "#ed7953"
             ],
             [
              0.7777777777777778,
              "#fb9f3a"
             ],
             [
              0.8888888888888888,
              "#fdca26"
             ],
             [
              1,
              "#f0f921"
             ]
            ],
            "type": "histogram2d"
           }
          ],
          "histogram2dcontour": [
           {
            "colorbar": {
             "outlinewidth": 0,
             "ticks": ""
            },
            "colorscale": [
             [
              0,
              "#0d0887"
             ],
             [
              0.1111111111111111,
              "#46039f"
             ],
             [
              0.2222222222222222,
              "#7201a8"
             ],
             [
              0.3333333333333333,
              "#9c179e"
             ],
             [
              0.4444444444444444,
              "#bd3786"
             ],
             [
              0.5555555555555556,
              "#d8576b"
             ],
             [
              0.6666666666666666,
              "#ed7953"
             ],
             [
              0.7777777777777778,
              "#fb9f3a"
             ],
             [
              0.8888888888888888,
              "#fdca26"
             ],
             [
              1,
              "#f0f921"
             ]
            ],
            "type": "histogram2dcontour"
           }
          ],
          "mesh3d": [
           {
            "colorbar": {
             "outlinewidth": 0,
             "ticks": ""
            },
            "type": "mesh3d"
           }
          ],
          "parcoords": [
           {
            "line": {
             "colorbar": {
              "outlinewidth": 0,
              "ticks": ""
             }
            },
            "type": "parcoords"
           }
          ],
          "pie": [
           {
            "automargin": true,
            "type": "pie"
           }
          ],
          "scatter": [
           {
            "marker": {
             "colorbar": {
              "outlinewidth": 0,
              "ticks": ""
             }
            },
            "type": "scatter"
           }
          ],
          "scatter3d": [
           {
            "line": {
             "colorbar": {
              "outlinewidth": 0,
              "ticks": ""
             }
            },
            "marker": {
             "colorbar": {
              "outlinewidth": 0,
              "ticks": ""
             }
            },
            "type": "scatter3d"
           }
          ],
          "scattercarpet": [
           {
            "marker": {
             "colorbar": {
              "outlinewidth": 0,
              "ticks": ""
             }
            },
            "type": "scattercarpet"
           }
          ],
          "scattergeo": [
           {
            "marker": {
             "colorbar": {
              "outlinewidth": 0,
              "ticks": ""
             }
            },
            "type": "scattergeo"
           }
          ],
          "scattergl": [
           {
            "marker": {
             "colorbar": {
              "outlinewidth": 0,
              "ticks": ""
             }
            },
            "type": "scattergl"
           }
          ],
          "scattermapbox": [
           {
            "marker": {
             "colorbar": {
              "outlinewidth": 0,
              "ticks": ""
             }
            },
            "type": "scattermapbox"
           }
          ],
          "scatterpolar": [
           {
            "marker": {
             "colorbar": {
              "outlinewidth": 0,
              "ticks": ""
             }
            },
            "type": "scatterpolar"
           }
          ],
          "scatterpolargl": [
           {
            "marker": {
             "colorbar": {
              "outlinewidth": 0,
              "ticks": ""
             }
            },
            "type": "scatterpolargl"
           }
          ],
          "scatterternary": [
           {
            "marker": {
             "colorbar": {
              "outlinewidth": 0,
              "ticks": ""
             }
            },
            "type": "scatterternary"
           }
          ],
          "surface": [
           {
            "colorbar": {
             "outlinewidth": 0,
             "ticks": ""
            },
            "colorscale": [
             [
              0,
              "#0d0887"
             ],
             [
              0.1111111111111111,
              "#46039f"
             ],
             [
              0.2222222222222222,
              "#7201a8"
             ],
             [
              0.3333333333333333,
              "#9c179e"
             ],
             [
              0.4444444444444444,
              "#bd3786"
             ],
             [
              0.5555555555555556,
              "#d8576b"
             ],
             [
              0.6666666666666666,
              "#ed7953"
             ],
             [
              0.7777777777777778,
              "#fb9f3a"
             ],
             [
              0.8888888888888888,
              "#fdca26"
             ],
             [
              1,
              "#f0f921"
             ]
            ],
            "type": "surface"
           }
          ],
          "table": [
           {
            "cells": {
             "fill": {
              "color": "#EBF0F8"
             },
             "line": {
              "color": "white"
             }
            },
            "header": {
             "fill": {
              "color": "#C8D4E3"
             },
             "line": {
              "color": "white"
             }
            },
            "type": "table"
           }
          ]
         },
         "layout": {
          "annotationdefaults": {
           "arrowcolor": "#2a3f5f",
           "arrowhead": 0,
           "arrowwidth": 1
          },
          "autotypenumbers": "strict",
          "coloraxis": {
           "colorbar": {
            "outlinewidth": 0,
            "ticks": ""
           }
          },
          "colorscale": {
           "diverging": [
            [
             0,
             "#8e0152"
            ],
            [
             0.1,
             "#c51b7d"
            ],
            [
             0.2,
             "#de77ae"
            ],
            [
             0.3,
             "#f1b6da"
            ],
            [
             0.4,
             "#fde0ef"
            ],
            [
             0.5,
             "#f7f7f7"
            ],
            [
             0.6,
             "#e6f5d0"
            ],
            [
             0.7,
             "#b8e186"
            ],
            [
             0.8,
             "#7fbc41"
            ],
            [
             0.9,
             "#4d9221"
            ],
            [
             1,
             "#276419"
            ]
           ],
           "sequential": [
            [
             0,
             "#0d0887"
            ],
            [
             0.1111111111111111,
             "#46039f"
            ],
            [
             0.2222222222222222,
             "#7201a8"
            ],
            [
             0.3333333333333333,
             "#9c179e"
            ],
            [
             0.4444444444444444,
             "#bd3786"
            ],
            [
             0.5555555555555556,
             "#d8576b"
            ],
            [
             0.6666666666666666,
             "#ed7953"
            ],
            [
             0.7777777777777778,
             "#fb9f3a"
            ],
            [
             0.8888888888888888,
             "#fdca26"
            ],
            [
             1,
             "#f0f921"
            ]
           ],
           "sequentialminus": [
            [
             0,
             "#0d0887"
            ],
            [
             0.1111111111111111,
             "#46039f"
            ],
            [
             0.2222222222222222,
             "#7201a8"
            ],
            [
             0.3333333333333333,
             "#9c179e"
            ],
            [
             0.4444444444444444,
             "#bd3786"
            ],
            [
             0.5555555555555556,
             "#d8576b"
            ],
            [
             0.6666666666666666,
             "#ed7953"
            ],
            [
             0.7777777777777778,
             "#fb9f3a"
            ],
            [
             0.8888888888888888,
             "#fdca26"
            ],
            [
             1,
             "#f0f921"
            ]
           ]
          },
          "colorway": [
           "#636efa",
           "#EF553B",
           "#00cc96",
           "#ab63fa",
           "#FFA15A",
           "#19d3f3",
           "#FF6692",
           "#B6E880",
           "#FF97FF",
           "#FECB52"
          ],
          "font": {
           "color": "#2a3f5f"
          },
          "geo": {
           "bgcolor": "white",
           "lakecolor": "white",
           "landcolor": "#E5ECF6",
           "showlakes": true,
           "showland": true,
           "subunitcolor": "white"
          },
          "hoverlabel": {
           "align": "left"
          },
          "hovermode": "closest",
          "mapbox": {
           "style": "light"
          },
          "paper_bgcolor": "white",
          "plot_bgcolor": "#E5ECF6",
          "polar": {
           "angularaxis": {
            "gridcolor": "white",
            "linecolor": "white",
            "ticks": ""
           },
           "bgcolor": "#E5ECF6",
           "radialaxis": {
            "gridcolor": "white",
            "linecolor": "white",
            "ticks": ""
           }
          },
          "scene": {
           "xaxis": {
            "backgroundcolor": "#E5ECF6",
            "gridcolor": "white",
            "gridwidth": 2,
            "linecolor": "white",
            "showbackground": true,
            "ticks": "",
            "zerolinecolor": "white"
           },
           "yaxis": {
            "backgroundcolor": "#E5ECF6",
            "gridcolor": "white",
            "gridwidth": 2,
            "linecolor": "white",
            "showbackground": true,
            "ticks": "",
            "zerolinecolor": "white"
           },
           "zaxis": {
            "backgroundcolor": "#E5ECF6",
            "gridcolor": "white",
            "gridwidth": 2,
            "linecolor": "white",
            "showbackground": true,
            "ticks": "",
            "zerolinecolor": "white"
           }
          },
          "shapedefaults": {
           "line": {
            "color": "#2a3f5f"
           }
          },
          "ternary": {
           "aaxis": {
            "gridcolor": "white",
            "linecolor": "white",
            "ticks": ""
           },
           "baxis": {
            "gridcolor": "white",
            "linecolor": "white",
            "ticks": ""
           },
           "bgcolor": "#E5ECF6",
           "caxis": {
            "gridcolor": "white",
            "linecolor": "white",
            "ticks": ""
           }
          },
          "title": {
           "x": 0.05
          },
          "xaxis": {
           "automargin": true,
           "gridcolor": "white",
           "linecolor": "white",
           "ticks": "",
           "title": {
            "standoff": 15
           },
           "zerolinecolor": "white",
           "zerolinewidth": 2
          },
          "yaxis": {
           "automargin": true,
           "gridcolor": "white",
           "linecolor": "white",
           "ticks": "",
           "title": {
            "standoff": 15
           },
           "zerolinecolor": "white",
           "zerolinewidth": 2
          }
         }
        },
        "title": {
         "text": "Diagnosis count by patiet gender"
        },
        "xaxis": {
         "anchor": "y",
         "domain": [
          0,
          1
         ],
         "title": {
          "text": "value"
         }
        },
        "yaxis": {
         "anchor": "x",
         "domain": [
          0,
          1
         ],
         "title": {
          "text": "Diagnosis Category"
         }
        }
       }
      }
     },
     "metadata": {},
     "output_type": "display_data"
    }
   ],
   "source": [
    "fig = px.bar(diagnosis_percent,x=['male count','female count'], y='Diagnosis Category', orientation= 'h', text_auto=True)\n",
    "fig.update_layout(title_text =\"Diagnosis count by patiet gender\")\n",
    "fig.show()"
   ]
  },
  {
   "cell_type": "markdown",
   "metadata": {},
   "source": [
    "for both male and female orthopedic diagnoasis category request are high followed by mental diagosis category"
   ]
  },
  {
   "cell_type": "markdown",
   "metadata": {},
   "source": [
    "#### Analyzing diagnosis sub category by gender"
   ]
  },
  {
   "cell_type": "code",
   "execution_count": 81,
   "metadata": {},
   "outputs": [
    {
     "data": {
      "text/html": [
       "<div>\n",
       "<style scoped>\n",
       "    .dataframe tbody tr th:only-of-type {\n",
       "        vertical-align: middle;\n",
       "    }\n",
       "\n",
       "    .dataframe tbody tr th {\n",
       "        vertical-align: top;\n",
       "    }\n",
       "\n",
       "    .dataframe thead th {\n",
       "        text-align: right;\n",
       "    }\n",
       "</style>\n",
       "<table border=\"1\" class=\"dataframe\">\n",
       "  <thead>\n",
       "    <tr style=\"text-align: right;\">\n",
       "      <th></th>\n",
       "      <th>index</th>\n",
       "      <th>female count</th>\n",
       "    </tr>\n",
       "  </thead>\n",
       "  <tbody>\n",
       "    <tr>\n",
       "      <th>0</th>\n",
       "      <td>Other</td>\n",
       "      <td>2399</td>\n",
       "    </tr>\n",
       "    <tr>\n",
       "      <th>1</th>\n",
       "      <td>Unknown</td>\n",
       "      <td>1293</td>\n",
       "    </tr>\n",
       "    <tr>\n",
       "      <th>2</th>\n",
       "      <td>Back Pain</td>\n",
       "      <td>427</td>\n",
       "    </tr>\n",
       "    <tr>\n",
       "      <th>3</th>\n",
       "      <td>Breast Cancer</td>\n",
       "      <td>400</td>\n",
       "    </tr>\n",
       "    <tr>\n",
       "      <th>4</th>\n",
       "      <td>Hepatitis</td>\n",
       "      <td>336</td>\n",
       "    </tr>\n",
       "    <tr>\n",
       "      <th>...</th>\n",
       "      <td>...</td>\n",
       "      <td>...</td>\n",
       "    </tr>\n",
       "    <tr>\n",
       "      <th>251</th>\n",
       "      <td>Pyelonephritis</td>\n",
       "      <td>1</td>\n",
       "    </tr>\n",
       "    <tr>\n",
       "      <th>252</th>\n",
       "      <td>Burn</td>\n",
       "      <td>1</td>\n",
       "    </tr>\n",
       "    <tr>\n",
       "      <th>253</th>\n",
       "      <td>Tourettes Syndrom</td>\n",
       "      <td>1</td>\n",
       "    </tr>\n",
       "    <tr>\n",
       "      <th>254</th>\n",
       "      <td>Malaria</td>\n",
       "      <td>1</td>\n",
       "    </tr>\n",
       "    <tr>\n",
       "      <th>255</th>\n",
       "      <td>Enlarged Turbinates</td>\n",
       "      <td>1</td>\n",
       "    </tr>\n",
       "  </tbody>\n",
       "</table>\n",
       "<p>256 rows × 2 columns</p>\n",
       "</div>"
      ],
      "text/plain": [
       "                   index  female count\n",
       "0                  Other          2399\n",
       "1                Unknown          1293\n",
       "2              Back Pain           427\n",
       "3          Breast Cancer           400\n",
       "4              Hepatitis           336\n",
       "..                   ...           ...\n",
       "251       Pyelonephritis             1\n",
       "252                 Burn             1\n",
       "253    Tourettes Syndrom             1\n",
       "254              Malaria             1\n",
       "255  Enlarged Turbinates             1\n",
       "\n",
       "[256 rows x 2 columns]"
      ]
     },
     "execution_count": 81,
     "metadata": {},
     "output_type": "execute_result"
    }
   ],
   "source": [
    "en_df = len(df)\n",
    "\n",
    "diagnosis_sub_cat_count_male = df[df['Patient Gender']=='Male']['Diagnosis Sub Category'].value_counts().reset_index(name ='male count')\n",
    "\n",
    "diagnosis_sub_cat_count_male\n",
    "\n",
    "diagnosis_sub_cat_count_female = df[df['Patient Gender']=='Female']['Diagnosis Sub Category'].value_counts().reset_index(name ='female count')\n",
    "\n",
    "diagnosis_sub_cat_count_female"
   ]
  },
  {
   "cell_type": "code",
   "execution_count": 82,
   "metadata": {},
   "outputs": [
    {
     "data": {
      "text/html": [
       "<div>\n",
       "<style scoped>\n",
       "    .dataframe tbody tr th:only-of-type {\n",
       "        vertical-align: middle;\n",
       "    }\n",
       "\n",
       "    .dataframe tbody tr th {\n",
       "        vertical-align: top;\n",
       "    }\n",
       "\n",
       "    .dataframe thead th {\n",
       "        text-align: right;\n",
       "    }\n",
       "</style>\n",
       "<table border=\"1\" class=\"dataframe\">\n",
       "  <thead>\n",
       "    <tr style=\"text-align: right;\">\n",
       "      <th></th>\n",
       "      <th>index</th>\n",
       "      <th>male count</th>\n",
       "      <th>Male percent</th>\n",
       "    </tr>\n",
       "  </thead>\n",
       "  <tbody>\n",
       "    <tr>\n",
       "      <th>0</th>\n",
       "      <td>Other</td>\n",
       "      <td>1592</td>\n",
       "      <td>8.272279</td>\n",
       "    </tr>\n",
       "    <tr>\n",
       "      <th>1</th>\n",
       "      <td>Unknown</td>\n",
       "      <td>611</td>\n",
       "      <td>3.174851</td>\n",
       "    </tr>\n",
       "    <tr>\n",
       "      <th>2</th>\n",
       "      <td>Hepatitis</td>\n",
       "      <td>455</td>\n",
       "      <td>2.364250</td>\n",
       "    </tr>\n",
       "    <tr>\n",
       "      <th>3</th>\n",
       "      <td>Autism-PDD-NOS</td>\n",
       "      <td>364</td>\n",
       "      <td>1.891400</td>\n",
       "    </tr>\n",
       "    <tr>\n",
       "      <th>4</th>\n",
       "      <td>Back Pain</td>\n",
       "      <td>261</td>\n",
       "      <td>1.356196</td>\n",
       "    </tr>\n",
       "    <tr>\n",
       "      <th>...</th>\n",
       "      <td>...</td>\n",
       "      <td>...</td>\n",
       "      <td>...</td>\n",
       "    </tr>\n",
       "    <tr>\n",
       "      <th>236</th>\n",
       "      <td>Gallstones</td>\n",
       "      <td>1</td>\n",
       "      <td>0.005196</td>\n",
       "    </tr>\n",
       "    <tr>\n",
       "      <th>237</th>\n",
       "      <td>Nasal Polyps</td>\n",
       "      <td>1</td>\n",
       "      <td>0.005196</td>\n",
       "    </tr>\n",
       "    <tr>\n",
       "      <th>238</th>\n",
       "      <td>Malaria</td>\n",
       "      <td>1</td>\n",
       "      <td>0.005196</td>\n",
       "    </tr>\n",
       "    <tr>\n",
       "      <th>239</th>\n",
       "      <td>Gastritis</td>\n",
       "      <td>1</td>\n",
       "      <td>0.005196</td>\n",
       "    </tr>\n",
       "    <tr>\n",
       "      <th>240</th>\n",
       "      <td>Gunshot Wound</td>\n",
       "      <td>1</td>\n",
       "      <td>0.005196</td>\n",
       "    </tr>\n",
       "  </tbody>\n",
       "</table>\n",
       "<p>241 rows × 3 columns</p>\n",
       "</div>"
      ],
      "text/plain": [
       "              index  male count  Male percent\n",
       "0             Other        1592      8.272279\n",
       "1           Unknown         611      3.174851\n",
       "2         Hepatitis         455      2.364250\n",
       "3    Autism-PDD-NOS         364      1.891400\n",
       "4         Back Pain         261      1.356196\n",
       "..              ...         ...           ...\n",
       "236      Gallstones           1      0.005196\n",
       "237    Nasal Polyps           1      0.005196\n",
       "238         Malaria           1      0.005196\n",
       "239       Gastritis           1      0.005196\n",
       "240   Gunshot Wound           1      0.005196\n",
       "\n",
       "[241 rows x 3 columns]"
      ]
     },
     "execution_count": 82,
     "metadata": {},
     "output_type": "execute_result"
    }
   ],
   "source": [
    "diagnosis_sub_cat_count_male['Male percent'] = diagnosis_sub_cat_count_male['male count']/len_df *100\n",
    "\n",
    "diagnosis_sub_cat_count_female['Female percent'] = diagnosis_sub_cat_count_female['female count']/len_df *100\n",
    "\n",
    "diagnosis_sub_cat_count_male"
   ]
  },
  {
   "cell_type": "code",
   "execution_count": 83,
   "metadata": {},
   "outputs": [],
   "source": [
    "diagnosis_sub_cat_percent = diagnosis_count_female.merge(diagnosis_count_male)"
   ]
  },
  {
   "cell_type": "code",
   "execution_count": 86,
   "metadata": {},
   "outputs": [
    {
     "data": {
      "text/html": [
       "<div>\n",
       "<style scoped>\n",
       "    .dataframe tbody tr th:only-of-type {\n",
       "        vertical-align: middle;\n",
       "    }\n",
       "\n",
       "    .dataframe tbody tr th {\n",
       "        vertical-align: top;\n",
       "    }\n",
       "\n",
       "    .dataframe thead th {\n",
       "        text-align: right;\n",
       "    }\n",
       "</style>\n",
       "<table border=\"1\" class=\"dataframe\">\n",
       "  <thead>\n",
       "    <tr style=\"text-align: right;\">\n",
       "      <th></th>\n",
       "      <th>Diagnosis sub category</th>\n",
       "      <th>female count</th>\n",
       "      <th>Female percent</th>\n",
       "      <th>male count</th>\n",
       "      <th>Male percent</th>\n",
       "    </tr>\n",
       "  </thead>\n",
       "  <tbody>\n",
       "    <tr>\n",
       "      <th>0</th>\n",
       "      <td>Other</td>\n",
       "      <td>2399</td>\n",
       "      <td>12.465575</td>\n",
       "      <td>1592</td>\n",
       "      <td>8.272279</td>\n",
       "    </tr>\n",
       "    <tr>\n",
       "      <th>1</th>\n",
       "      <td>Unknown</td>\n",
       "      <td>1293</td>\n",
       "      <td>6.718628</td>\n",
       "      <td>611</td>\n",
       "      <td>3.174851</td>\n",
       "    </tr>\n",
       "    <tr>\n",
       "      <th>2</th>\n",
       "      <td>Back Pain</td>\n",
       "      <td>427</td>\n",
       "      <td>2.218758</td>\n",
       "      <td>261</td>\n",
       "      <td>1.356196</td>\n",
       "    </tr>\n",
       "    <tr>\n",
       "      <th>3</th>\n",
       "      <td>Breast Cancer</td>\n",
       "      <td>400</td>\n",
       "      <td>2.078462</td>\n",
       "      <td>4</td>\n",
       "      <td>0.020785</td>\n",
       "    </tr>\n",
       "    <tr>\n",
       "      <th>4</th>\n",
       "      <td>Hepatitis</td>\n",
       "      <td>336</td>\n",
       "      <td>1.745908</td>\n",
       "      <td>455</td>\n",
       "      <td>2.364250</td>\n",
       "    </tr>\n",
       "    <tr>\n",
       "      <th>5</th>\n",
       "      <td>Eating Disorder</td>\n",
       "      <td>290</td>\n",
       "      <td>1.506885</td>\n",
       "      <td>15</td>\n",
       "      <td>0.077942</td>\n",
       "    </tr>\n",
       "    <tr>\n",
       "      <th>6</th>\n",
       "      <td>Female Breast Disorder</td>\n",
       "      <td>273</td>\n",
       "      <td>1.418550</td>\n",
       "      <td>1</td>\n",
       "      <td>0.005196</td>\n",
       "    </tr>\n",
       "    <tr>\n",
       "      <th>7</th>\n",
       "      <td>Vertebral Disc Problem</td>\n",
       "      <td>248</td>\n",
       "      <td>1.288646</td>\n",
       "      <td>229</td>\n",
       "      <td>1.189919</td>\n",
       "    </tr>\n",
       "    <tr>\n",
       "      <th>8</th>\n",
       "      <td>Depression - Severe</td>\n",
       "      <td>205</td>\n",
       "      <td>1.065212</td>\n",
       "      <td>88</td>\n",
       "      <td>0.457262</td>\n",
       "    </tr>\n",
       "    <tr>\n",
       "      <th>9</th>\n",
       "      <td>Osteoarthritis</td>\n",
       "      <td>204</td>\n",
       "      <td>1.060016</td>\n",
       "      <td>142</td>\n",
       "      <td>0.737854</td>\n",
       "    </tr>\n",
       "  </tbody>\n",
       "</table>\n",
       "</div>"
      ],
      "text/plain": [
       "   Diagnosis sub category  female count  Female percent  male count  \\\n",
       "0                   Other          2399       12.465575        1592   \n",
       "1                 Unknown          1293        6.718628         611   \n",
       "2               Back Pain           427        2.218758         261   \n",
       "3           Breast Cancer           400        2.078462           4   \n",
       "4               Hepatitis           336        1.745908         455   \n",
       "5         Eating Disorder           290        1.506885          15   \n",
       "6  Female Breast Disorder           273        1.418550           1   \n",
       "7  Vertebral Disc Problem           248        1.288646         229   \n",
       "8     Depression - Severe           205        1.065212          88   \n",
       "9          Osteoarthritis           204        1.060016         142   \n",
       "\n",
       "   Male percent  \n",
       "0      8.272279  \n",
       "1      3.174851  \n",
       "2      1.356196  \n",
       "3      0.020785  \n",
       "4      2.364250  \n",
       "5      0.077942  \n",
       "6      0.005196  \n",
       "7      1.189919  \n",
       "8      0.457262  \n",
       "9      0.737854  "
      ]
     },
     "execution_count": 86,
     "metadata": {},
     "output_type": "execute_result"
    }
   ],
   "source": [
    "diagnosis_sub_cat_percent = diagnosis_sub_cat_percent.rename(columns={'index':'Diagnosis sub category'})\n",
    "diagnosis_sub_cat_percent = diagnosis_sub_cat_percent.head(10)\n",
    "diagnosis_sub_cat_percent"
   ]
  },
  {
   "cell_type": "markdown",
   "metadata": {},
   "source": [
    "for both male and female other and unknown are mostly listed sub category. Apart from other and unknown sub category, most female IMR are observed for backpain and breast cancer subcategory. Also for male patients most IMR for hepatitis and back pain sub category"
   ]
  },
  {
   "cell_type": "markdown",
   "metadata": {},
   "source": [
    "#### Analyzing issue for male patient in pregnancy category"
   ]
  },
  {
   "cell_type": "code",
   "execution_count": 88,
   "metadata": {},
   "outputs": [
    {
     "name": "stdout",
     "output_type": "stream",
     "text": [
      "Nature of Statutory Criteria/Case Summary: An enrollee has requested breast tomosynthesis for evaluation of his medical condition.   Findings: Two physician reviewers found that the addition of digital breast tomosynthesis reduces false positives and increases cancer detection when compared to two dimensional full field digital mammography alone.  Three dimensional digital breast tomosynthesis allows for separation of structures to differentiate architectural distortion from masses and overlapping fibroglandular tissue.  Given this support, the addition of tomosynthesis to the usual two dimensional protocol was likely of greater benefit to this patient than had the exam been done with two dimensional imaging alone.  Accordingly, breast tomosynthesis  was likely to be more beneficial for evaluation of the patient’s medical condition than any available standard therapy.   Final Result: Two reviewers determined that the services at issue were likely to be more beneficial for evaluation of the patient’s medical condition than any available standard therapy. Therefore, the Health Plan’s denial should be overturned.Credentials/Qualifications:  All three physician reviewers are board certified in diagnostic radiology and are actively practicing. The reviewers are experts in the treatment of the enrollee’s medical condition and knowledgeable about the proposed treatment through recent or current actual clinical experience treating those with the same or a similar medical condition.\n"
     ]
    }
   ],
   "source": [
    "issue_male_dia_cat = df.loc[(df['Patient Gender']=='Male') & (df['Diagnosis Category']=='OB-Gyn/ Pregnancy')]['Findings']\n",
    "print(issue_male_dia_cat.iloc[0])"
   ]
  },
  {
   "cell_type": "markdown",
   "metadata": {},
   "source": [
    "patient is incorrectly listed in pregnecy category instead should be listed under cancer category as patient was diagnost with breast cancer"
   ]
  },
  {
   "cell_type": "markdown",
   "metadata": {},
   "source": [
    "#### Analyzing diagnosis category by age range"
   ]
  },
  {
   "cell_type": "code",
   "execution_count": 89,
   "metadata": {},
   "outputs": [],
   "source": [
    "diagnosis_count_by_age = df.groupby('Age Range')['Diagnosis Category'].apply(lambda x: x.value_counts().idxmax()).reset_index(name='Diagnosis Category')\n",
    "max_diagnosis_count_by_age = df.groupby(['Age Range', 'Diagnosis Category']).size().groupby('Age Range').max().reset_index(name='Diagnosis Count')"
   ]
  },
  {
   "cell_type": "code",
   "execution_count": 90,
   "metadata": {},
   "outputs": [],
   "source": [
    "diagnosis_count_by_age = diagnosis_count_by_age.merge(max_diagnosis_count_by_age, on='Age Range')"
   ]
  },
  {
   "cell_type": "code",
   "execution_count": 91,
   "metadata": {},
   "outputs": [
    {
     "data": {
      "text/html": [
       "<div>\n",
       "<style scoped>\n",
       "    .dataframe tbody tr th:only-of-type {\n",
       "        vertical-align: middle;\n",
       "    }\n",
       "\n",
       "    .dataframe tbody tr th {\n",
       "        vertical-align: top;\n",
       "    }\n",
       "\n",
       "    .dataframe thead th {\n",
       "        text-align: right;\n",
       "    }\n",
       "</style>\n",
       "<table border=\"1\" class=\"dataframe\">\n",
       "  <thead>\n",
       "    <tr style=\"text-align: right;\">\n",
       "      <th></th>\n",
       "      <th>Age Range</th>\n",
       "      <th>Diagnosis Category</th>\n",
       "      <th>Diagnosis Count</th>\n",
       "    </tr>\n",
       "  </thead>\n",
       "  <tbody>\n",
       "    <tr>\n",
       "      <th>0</th>\n",
       "      <td>0-10</td>\n",
       "      <td>Pediatrics</td>\n",
       "      <td>628</td>\n",
       "    </tr>\n",
       "    <tr>\n",
       "      <th>1</th>\n",
       "      <td>11-20</td>\n",
       "      <td>Mental</td>\n",
       "      <td>859</td>\n",
       "    </tr>\n",
       "    <tr>\n",
       "      <th>2</th>\n",
       "      <td>21-30</td>\n",
       "      <td>Mental</td>\n",
       "      <td>442</td>\n",
       "    </tr>\n",
       "    <tr>\n",
       "      <th>3</th>\n",
       "      <td>31-40</td>\n",
       "      <td>Orthopedic/ Musculoskeletal</td>\n",
       "      <td>437</td>\n",
       "    </tr>\n",
       "    <tr>\n",
       "      <th>4</th>\n",
       "      <td>41-50</td>\n",
       "      <td>Orthopedic/ Musculoskeletal</td>\n",
       "      <td>891</td>\n",
       "    </tr>\n",
       "    <tr>\n",
       "      <th>5</th>\n",
       "      <td>51-64</td>\n",
       "      <td>Orthopedic/ Musculoskeletal</td>\n",
       "      <td>1529</td>\n",
       "    </tr>\n",
       "    <tr>\n",
       "      <th>6</th>\n",
       "      <td>65+</td>\n",
       "      <td>Orthopedic/ Musculoskeletal</td>\n",
       "      <td>175</td>\n",
       "    </tr>\n",
       "    <tr>\n",
       "      <th>7</th>\n",
       "      <td>Unknown</td>\n",
       "      <td>Orthopedic/ Musculoskeletal</td>\n",
       "      <td>14</td>\n",
       "    </tr>\n",
       "  </tbody>\n",
       "</table>\n",
       "</div>"
      ],
      "text/plain": [
       "  Age Range           Diagnosis Category  Diagnosis Count\n",
       "0      0-10                   Pediatrics              628\n",
       "1     11-20                       Mental              859\n",
       "2     21-30                       Mental              442\n",
       "3     31-40  Orthopedic/ Musculoskeletal              437\n",
       "4     41-50  Orthopedic/ Musculoskeletal              891\n",
       "5     51-64  Orthopedic/ Musculoskeletal             1529\n",
       "6       65+  Orthopedic/ Musculoskeletal              175\n",
       "7   Unknown  Orthopedic/ Musculoskeletal               14"
      ]
     },
     "execution_count": 91,
     "metadata": {},
     "output_type": "execute_result"
    }
   ],
   "source": [
    "diagnosis_count_by_age = diagnosis_count_by_age.sort_values('Age Range')\n",
    "diagnosis_count_by_age"
   ]
  },
  {
   "cell_type": "code",
   "execution_count": null,
   "metadata": {},
   "outputs": [],
   "source": []
  }
 ],
 "metadata": {
  "kernelspec": {
   "display_name": "Python 3.9.12 ('base')",
   "language": "python",
   "name": "python3"
  },
  "language_info": {
   "codemirror_mode": {
    "name": "ipython",
    "version": 3
   },
   "file_extension": ".py",
   "mimetype": "text/x-python",
   "name": "python",
   "nbconvert_exporter": "python",
   "pygments_lexer": "ipython3",
   "version": "3.9.12"
  },
  "orig_nbformat": 4,
  "vscode": {
   "interpreter": {
    "hash": "a2ab3825ac7005fb7b26f112e9c99ae62f464c629e30b0d534c3b931b6cbc3ff"
   }
  }
 },
 "nbformat": 4,
 "nbformat_minor": 2
}
